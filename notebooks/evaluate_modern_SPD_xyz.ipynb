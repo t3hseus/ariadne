{
 "cells": [
  {
   "cell_type": "code",
   "execution_count": 1,
   "metadata": {
    "pycharm": {
     "name": "#%%\n"
    }
   },
   "outputs": [],
   "source": [
    "%matplotlib notebook"
   ]
  },
  {
   "cell_type": "code",
   "execution_count": 2,
   "metadata": {
    "pycharm": {
     "name": "#%%\n"
    }
   },
   "outputs": [
    {
     "name": "stderr",
     "output_type": "stream",
     "text": [
      "/tmp/ipykernel_182546/1187170015.py:13: DeprecationWarning: Importing clear_output from IPython.core.display is deprecated since IPython 7.14, please import from IPython display\n",
      "  from IPython.core.display import clear_output, display\n",
      "/tmp/ipykernel_182546/1187170015.py:13: DeprecationWarning: Importing display from IPython.core.display is deprecated since IPython 7.14, please import from IPython display\n",
      "  from IPython.core.display import clear_output, display\n"
     ]
    }
   ],
   "source": [
    "import os\n",
    "import sys\n",
    "import time\n",
    "\n",
    "#import ariadne.graph_net.model\n",
    "import gin\n",
    "import numpy as np\n",
    "import pandas as pd\n",
    "module_path = os.path.abspath(os.path.join('..'))\n",
    "if module_path not in sys.path:\n",
    "    sys.path.append(module_path)\n",
    "    \n",
    "from IPython.core.display import clear_output, display\n",
    "\n",
    "import matplotlib.pyplot as plt\n",
    "\n",
    "%matplotlib inline\n",
    "%load_ext autoreload\n",
    "%autoreload 2"
   ]
  },
  {
   "cell_type": "markdown",
   "metadata": {
    "pycharm": {
     "name": "#%% md\n"
    }
   },
   "source": [
    "columns = ['event', 'x', 'y', 'z', 'station', 'track', 'px', 'py', 'pz', 'vtxx', 'vtxy', 'vtxz']"
   ]
  },
  {
   "cell_type": "code",
   "execution_count": null,
   "metadata": {
    "pycharm": {
     "name": "#%%\n"
    }
   },
   "outputs": [],
   "source": []
  },
  {
   "cell_type": "code",
   "execution_count": 30,
   "metadata": {
    "pycharm": {
     "name": "#%%\n"
    },
    "scrolled": true
   },
   "outputs": [
    {
     "name": "stdout",
     "output_type": "stream",
     "text": [
      "/zfs/store5.hydra.local/user/d/drusov/ariadne_spd/ariadne/notebooks\n"
     ]
    }
   ],
   "source": [
    "!pwd"
   ]
  },
  {
   "cell_type": "code",
   "execution_count": 6,
   "metadata": {
    "pycharm": {
     "name": "#%%\n"
    }
   },
   "outputs": [
    {
     "name": "stdout",
     "output_type": "stream",
     "text": [
      "Tue Sep 20 17:05:40 2022       \n",
      "+-----------------------------------------------------------------------------+\n",
      "| NVIDIA-SMI 515.43.04    Driver Version: 515.43.04    CUDA Version: 11.7     |\n",
      "|-------------------------------+----------------------+----------------------+\n",
      "| GPU  Name        Persistence-M| Bus-Id        Disp.A | Volatile Uncorr. ECC |\n",
      "| Fan  Temp  Perf  Pwr:Usage/Cap|         Memory-Usage | GPU-Util  Compute M. |\n",
      "|                               |                      |               MIG M. |\n",
      "|===============================+======================+======================|\n",
      "|   0  Tesla V100-SXM2...  Off  | 00000000:1A:00.0 Off |                    0 |\n",
      "| N/A   38C    P0    55W / 300W |  17333MiB / 32768MiB |      0%      Default |\n",
      "|                               |                      |                  N/A |\n",
      "+-------------------------------+----------------------+----------------------+\n",
      "|   1  Tesla V100-SXM2...  Off  | 00000000:1C:00.0 Off |                    0 |\n",
      "| N/A   35C    P0    57W / 300W |  30578MiB / 32768MiB |      0%      Default |\n",
      "|                               |                      |                  N/A |\n",
      "+-------------------------------+----------------------+----------------------+\n",
      "|   2  Tesla V100-SXM2...  Off  | 00000000:1D:00.0 Off |                    0 |\n",
      "| N/A   36C    P0    56W / 300W |    456MiB / 32768MiB |      0%      Default |\n",
      "|                               |                      |                  N/A |\n",
      "+-------------------------------+----------------------+----------------------+\n",
      "|   3  Tesla V100-SXM2...  Off  | 00000000:1E:00.0 Off |                    0 |\n",
      "| N/A   38C    P0    54W / 300W |   5815MiB / 32768MiB |      0%      Default |\n",
      "|                               |                      |                  N/A |\n",
      "+-------------------------------+----------------------+----------------------+\n",
      "                                                                               \n",
      "+-----------------------------------------------------------------------------+\n",
      "| Processes:                                                                  |\n",
      "|  GPU   GI   CI        PID   Type   Process name                  GPU Memory |\n",
      "|        ID   ID                                                   Usage      |\n",
      "|=============================================================================|\n",
      "|    0   N/A  N/A    245173      C   ...a3/envs/myenv2/bin/python    16715MiB |\n",
      "|    0   N/A  N/A    274639      C   ...a3/envs/myenv2/bin/python      613MiB |\n",
      "|    1   N/A  N/A    274639      C   ...a3/envs/myenv2/bin/python    30573MiB |\n",
      "|    2   N/A  N/A    274639      C   ...a3/envs/myenv2/bin/python      451MiB |\n",
      "|    3   N/A  N/A    179733      C   ...a3/envs/myenv2/bin/python     5359MiB |\n",
      "|    3   N/A  N/A    274639      C   ...a3/envs/myenv2/bin/python      451MiB |\n",
      "+-----------------------------------------------------------------------------+\n"
     ]
    }
   ],
   "source": [
    "!nvidia-smi"
   ]
  },
  {
   "cell_type": "code",
   "execution_count": 7,
   "metadata": {
    "pycharm": {
     "name": "#%%\n"
    },
    "tags": []
   },
   "outputs": [],
   "source": [
    "os.environ[\"CUDA_VISIBLE_DEVICES\"]=\"2\""
   ]
  },
  {
   "cell_type": "code",
   "execution_count": 8,
   "metadata": {
    "pycharm": {
     "name": "#%%\n"
    }
   },
   "outputs": [],
   "source": [
    "import logging\n",
    "logging.getLogger().setLevel(logging.DEBUG)\n",
    "    \n",
    "from eval.event_evaluation import EventEvaluator\n",
    "from ariadne_v2.transformations import Compose, DropShort, DropTracksWithHoles, DropSpinningTracks, BakeStationValues, ConstraintsNormalize, FixStationsBMN, ToCylindrical\n",
    "from ariadne.utils.model import get_checkpoint_path, weights_update"
   ]
  },
  {
   "cell_type": "code",
   "execution_count": null,
   "metadata": {
    "pycharm": {
     "name": "#%%\n"
    }
   },
   "outputs": [],
   "source": []
  },
  {
   "cell_type": "code",
   "execution_count": 9,
   "metadata": {
    "pycharm": {
     "name": "#%%\n"
    }
   },
   "outputs": [],
   "source": [
    "import scripts.clean_cache\n",
    "\n",
    "#to clean cache if needed\n",
    "#scripts.clean_cache.clean_jit_cache('20w')"
   ]
  },
  {
   "cell_type": "markdown",
   "metadata": {
    "pycharm": {
     "name": "#%% md\n"
    }
   },
   "source": [
    "## Tracknet"
   ]
  },
  {
   "cell_type": "code",
   "execution_count": 10,
   "metadata": {
    "pycharm": {
     "name": "#%%\n"
    },
    "tags": []
   },
   "outputs": [
    {
     "name": "stdout",
     "output_type": "stream",
     "text": [
      "cuda\n"
     ]
    }
   ],
   "source": [
    "import torch\n",
    "import faiss\n",
    "\n",
    "NUM_POINTS_TO_SEARCH = 1\n",
    "\n",
    "from ariadne_v2.inference import IModelLoader\n",
    "from ariadne.tracknet_v2.model import TrackNETv2\n",
    "class TrackNetModelLoader(IModelLoader):    \n",
    "    def __call__(self):\n",
    "        tracknet_input_features=3\n",
    "        tracknet_conv_features=256\n",
    "        tracknet_output_features=3\n",
    "        \n",
    "        tracknet_ckpt_path_dict = {'model_dir': '/zfs/hybrilit.jinr.ru/user/d/drusov/ariadne_spd/ariadne/lightning_logs/TrackNETv2',\n",
    "                                   'version': 'xyz_256', 'checkpoint': 'latest'}\n",
    "                                   #'version': 'OnlyRNN_alpha0.01_unbalanced', 'checkpoint': 'latest'}\n",
    "        path_to_tracknet_ckpt = get_checkpoint_path(**tracknet_ckpt_path_dict)\n",
    "\n",
    "        model_tr = weights_update(model=TrackNETv2(input_features=tracknet_input_features,\n",
    "                                        conv_features=tracknet_conv_features,\n",
    "                                        output_features=tracknet_output_features,\n",
    "                                        rnn_type='gru',\n",
    "                                        batch_first=True,\n",
    "                                        use_causalconv=False,\n",
    "                                        use_rnn=True),\n",
    "                       checkpoint=torch.load(path_to_tracknet_ckpt, map_location=torch.device(DEVICE)))\n",
    "        model_tr.eval()\n",
    "        model_tr.to(DEVICE)\n",
    "        \n",
    "        model_tr = torch.jit.script(model_tr)        \n",
    "        \n",
    "        model_hash = {\n",
    "            \"tracknet_ckpt_path_dict\":path_to_tracknet_ckpt,\n",
    "            'gin':gin.config_str(), \n",
    "            'model': '%r' % model_tr,\n",
    "            'NUM_POINTS_TO_SEARCH':NUM_POINTS_TO_SEARCH\n",
    "        }\n",
    "        return model_hash, [model_tr]\n",
    "\n",
    "DEVICE = 'cuda' if torch.cuda.is_available() else 'cpu'\n",
    "print(DEVICE)\n",
    "import ariadne.transformations as trn\n",
    "\n",
    "tracknet_transformer = trn.Compose([\n",
    "    #trn.DropShort(num_stations=4),\n",
    "    #trn.DropTracksWithHoles(),\n",
    "    #trn.DropSpinningTracks(),\n",
    "    #trn.BakeStationValues(values=z_values),\n",
    "    #trn.ConstraintsNormalize(constraints=constraints),\n",
    "    #trn.ToCylindrical()\n",
    "    ]\n",
    ")\n",
    "\n",
    "def preprocess_one_event(event_df, n_neighbours=5):\n",
    "    try:\n",
    "        tracknet_data = tracknet_transformer(event_df)\n",
    "    except AssertionError as err:\n",
    "        #print(\"ASS error %r\" % err)\n",
    "        return None\n",
    "    return (tracknet_data, 1)\n",
    "\n",
    "times = []\n",
    "\n",
    "res_1 = None\n",
    "\n",
    "from ariadne.graph_net.dataset import collate_fn\n",
    "\n",
    "def run_tracknet_eval(result_from_prev_step, model, n_neighbours=NUM_POINTS_TO_SEARCH):\n",
    "    pr.enable()\n",
    "    with torch.no_grad():\n",
    "        preds = go_over_stations(result_from_prev_step[0], model[0], n_neighbours)\n",
    "\n",
    "    result = build_df(preds, result_from_prev_step[0])\n",
    "    for col in [f'hit_id_{i}' for i in range(N_STATIONS)]:\n",
    "        result[col] = result[col].astype(int)\n",
    "    pr.disable()\n",
    "    return result"
   ]
  },
  {
   "cell_type": "code",
   "execution_count": 11,
   "metadata": {
    "collapsed": false,
    "jupyter": {
     "outputs_hidden": false
    },
    "pycharm": {
     "name": "#%%\n"
    }
   },
   "outputs": [],
   "source": [
    "N_STATIONS = 35"
   ]
  },
  {
   "cell_type": "code",
   "execution_count": 12,
   "metadata": {},
   "outputs": [],
   "source": [
    "import faiss.contrib.torch_utils\n",
    "\n",
    "if DEVICE == 'cuda':\n",
    "    faiss_gpu = faiss.StandardGpuResources()"
   ]
  },
  {
   "cell_type": "code",
   "execution_count": 13,
   "metadata": {
    "pycharm": {
     "name": "#%%\n"
    },
    "tags": []
   },
   "outputs": [],
   "source": [
    "def go_over_stations(df, model, n_neighbours, max_n_stations=N_STATIONS):\n",
    "    chunk_data_x = get_seeds_only_first_station(df)\n",
    "    chunk_data_len = torch.tensor(np.full(len(chunk_data_x), 1), dtype=torch.int64).to(DEVICE)\n",
    "    \n",
    "    hits_indexes_global = torch.full((len(chunk_data_x), 35), -1, dtype=torch.int64).to(DEVICE)\n",
    "    hits_indexes_global[:, 0] = torch.from_numpy(df[df.station == 0].index_old.values).to(DEVICE)\n",
    "    global_index = build_index(df)\n",
    "    global_indexes = torch.from_numpy(df.index_old.values).to(DEVICE)\n",
    "    global_hits = build_hits(df)\n",
    "    x_candidates = []\n",
    "    idx_candidates = []\n",
    "    for stations_gone in range(1, max_n_stations):\n",
    "        if len(chunk_data_x) == 0:\n",
    "            break\n",
    "        #uniques = torch.tensor([len(torch.unique(t)) for t in hits_indexes_global])\n",
    "        #chunk_data_x = chunk_data_x[uniques == stations_gone + 1]\n",
    "        #hits_indexes_global = hits_indexes_global[uniques == stations_gone + 1]\n",
    "        #chunk_data_len = chunk_data_len[uniques == stations_gone + 1]\n",
    "        duplicated = hits_indexes_global[:, 0] != hits_indexes_global[:, 1]\n",
    "        chunk_data_x = chunk_data_x[duplicated]\n",
    "        hits_indexes_global = hits_indexes_global[duplicated]\n",
    "        chunk_data_len = chunk_data_len[duplicated]\n",
    "        \n",
    "        #current_index = build_index(station_df)\n",
    "        #this_station_hits = build_hits(station_df)\n",
    "        #this_station_hits_indexes = torch.from_numpy(station_df.index_old.values).to(DEVICE)\n",
    "        \n",
    "        #res_1[0].append(torch.clone(chunk_data_x))\n",
    "        #res_1[1].append(torch.clone(chunk_data_len))\n",
    "        batch_prediction = model(chunk_data_x.float(), chunk_data_len.float())\n",
    "        \n",
    "        batch_prediction = batch_prediction[:, -1]\n",
    "\n",
    "        #if len(this_station_hits) == 0:\n",
    "        #    break\n",
    "\n",
    "        _, nearest_hits_index = search_distance(batch_prediction[:, :3], global_index, n_neighbours)\n",
    "        hits_indexes = torch.tensor(global_indexes[nearest_hits_index]).flatten()\n",
    "        \n",
    "        if (nearest_hits_index == -1).any():\n",
    "            print(nearest_hits_index)\n",
    "        nearest_hits = global_hits[nearest_hits_index]\n",
    "        in_ellipse_mask = filter_hits_in_ellipses(batch_prediction, nearest_hits)\n",
    "        empty_xs = chunk_data_x[~in_ellipse_mask]\n",
    "        empty_idxs = hits_indexes_global[~in_ellipse_mask]\n",
    "\n",
    "        prolonged_batch_xs = chunk_data_x[in_ellipse_mask]\n",
    "        prolonged_batch_xs[:, stations_gone, :] = nearest_hits[in_ellipse_mask]\n",
    "        chunk_data_len = chunk_data_len[in_ellipse_mask] + 1\n",
    "        hits_indexes_global = hits_indexes_global[in_ellipse_mask]\n",
    "        hits_indexes_global[:, stations_gone] = hits_indexes[in_ellipse_mask]\n",
    "\n",
    "        if stations_gone > 3:\n",
    "            if len(empty_xs) > 0:\n",
    "                x_candidates.append(empty_xs)\n",
    "                idx_candidates.append(empty_idxs)\n",
    "        if (stations_gone == (max_n_stations-1)): # if we are predicting for last station\n",
    "            if len(prolonged_batch_xs) > 0:  # now we prolong candidates with all hits *in* ellipses\n",
    "                x_candidates.append(prolonged_batch_xs)\n",
    "                idx_candidates.append(hits_indexes_global)\n",
    "\n",
    "        chunk_data_x = prolonged_batch_xs\n",
    "    if len(x_candidates) == 0:\n",
    "        return [], []\n",
    "    x_candidates = torch.cat(x_candidates, 0)\n",
    "    idx_candidates = torch.cat(idx_candidates, 0)\n",
    "    return x_candidates, idx_candidates\n",
    "\n",
    "def get_seeds_only_first_station(df, columns=['x','y','z']):\n",
    "    real = df\n",
    "    temp1 = real[real.station == 0]\n",
    "    st0_hits = temp1[columns].values\n",
    "    \n",
    "    seeds = torch.zeros((len(temp1), N_STATIONS, 3), dtype=torch.float32, device=DEVICE)\n",
    "    #seeds = np.zeros((len(temp1), N_STATIONS, 3))\n",
    "    seeds[:, 0, :] = torch.from_numpy(st0_hits)\n",
    "    return seeds\n",
    "\n",
    "def filter_hits_in_ellipses(ellipses, nearest_hits):\n",
    "    x_part = (ellipses[:, 0] - nearest_hits[:, 0]) / ellipses[:, 3]\n",
    "    y_part = (ellipses[:, 1] - nearest_hits[:, 1]) / ellipses[:, 4]\n",
    "    z_part = (ellipses[:, 2] - nearest_hits[:, 2]) / ellipses[:, 5]\n",
    "    left_side = x_part**2 + y_part**2 + z_part**2\n",
    "    is_in_ellipse = left_side <= 1\n",
    "    return is_in_ellipse\n",
    "\n",
    "def build_df(preds, event_df):\n",
    "    preds, indexes = preds\n",
    "    new_columns = [*[f'hit_id_{i}' for i in range(N_STATIONS)], 'event', 'track_pred']\n",
    "    if len(indexes) == 0:\n",
    "        return pd.DataFrame([], columns=new_columns)\n",
    "    indexes = indexes.cpu()\n",
    "    res_1.append(preds)\n",
    "    curr_event = event_df.event.values[0]\n",
    "    new_columns = [*[f'hit_id_{i}' for i in range(N_STATIONS)], 'event', 'track_pred']\n",
    "\n",
    "    big_index = build_index(event_df)\n",
    "    event_idxs = np.array(event_df.index_old)\n",
    "    tracks_list = []\n",
    "    max_index = event_df.index.max()\n",
    "    \n",
    "    res_df = pd.DataFrame({'event': [curr_event] * len(preds),\n",
    "                           'track_pred': np.ones(len(preds))#.astype(bool),\n",
    "                          })\n",
    "    for i in range(N_STATIONS):\n",
    "        res_df[f'hit_id_{i}'] = indexes[:, i].numpy().astype(int)\n",
    "    #res_df.track_pred = res_df.track_pred.astype('bool')\n",
    "    #print(res_df)\n",
    "    return res_df\n",
    "\n",
    "COLS = ['x', 'y', 'z']\n",
    "\n",
    "def build_index(target_df):\n",
    "    hits = torch.from_numpy(target_df[COLS].values.astype('float32')).to(DEVICE).contiguous()\n",
    "    index = faiss.IndexFlatL2(3)\n",
    "    if DEVICE == 'cuda':\n",
    "        index = faiss.index_cpu_to_gpu(faiss_gpu, 0, index)\n",
    "    index.add(hits)\n",
    "    return index\n",
    "\n",
    "def build_hits(target_df):\n",
    "    cont = torch.from_numpy(np.ascontiguousarray(target_df[COLS].values)).to(DEVICE)\n",
    "    return cont\n",
    "\n",
    "def searching(points, index):\n",
    "    cont = np.ascontiguousarray(points.cpu())\n",
    "    res = search_withfakes(cont, index, 1, n_dim=3)\n",
    "    return res[0].flatten(), res[1]\n",
    "\n",
    "def search_withfakes(centers, index, find_n=100, n_dim=2):\n",
    "    assert centers.shape[1] == n_dim, f'index is {n_dim}-dimentional, please add z-coordinate to centers'\n",
    "    dist, res = index.search(np.ascontiguousarray(centers.astype('float32')), find_n)\n",
    "    res[dist > 1e-6] = -1\n",
    "    #res = np.where(dist == 0, i, -1)\n",
    "    num_virtuals = (res < 0).sum()\n",
    "    return res, num_virtuals\n",
    "\n",
    "def search_distance(centers, index, find_n=100):\n",
    "    dist, i = index.search(centers.contiguous(), find_n)\n",
    "    return dist, i.flatten()"
   ]
  },
  {
   "cell_type": "code",
   "execution_count": 14,
   "metadata": {
    "pycharm": {
     "name": "#%%\n"
    }
   },
   "outputs": [],
   "source": [
    "import ariadne"
   ]
  },
  {
   "cell_type": "code",
   "execution_count": 15,
   "metadata": {
    "collapsed": false,
    "jupyter": {
     "outputs_hidden": false
    },
    "pycharm": {
     "name": "#%%\n"
    }
   },
   "outputs": [],
   "source": [
    "from ariadne_v2.transformations import AddVirtualPoints, DropEmptyFirstStation, ToCylindrical, DropFakes, DropOverPhi"
   ]
  },
  {
   "cell_type": "code",
   "execution_count": 16,
   "metadata": {
    "collapsed": false,
    "jupyter": {
     "outputs_hidden": false
    },
    "pycharm": {
     "name": "#%%\n"
    }
   },
   "outputs": [],
   "source": [
    "from tqdm import tqdm"
   ]
  },
  {
   "cell_type": "code",
   "execution_count": 17,
   "metadata": {
    "collapsed": false,
    "jupyter": {
     "outputs_hidden": false
    },
    "pycharm": {
     "name": "#%%\n"
    }
   },
   "outputs": [],
   "source": [
    "STATION_COLUMNS = [f'hit_id_{i}' for i in range(N_STATIONS)]"
   ]
  },
  {
   "cell_type": "code",
   "execution_count": 18,
   "metadata": {
    "collapsed": false,
    "jupyter": {
     "outputs_hidden": false
    },
    "pycharm": {
     "name": "#%%\n"
    }
   },
   "outputs": [],
   "source": [
    "columns = ['event', 'x', 'y', 'z', 'station', 'track', 'px', 'py', 'pz', 'vtxx', 'vtxy', 'vtxz']"
   ]
  },
  {
   "cell_type": "code",
   "execution_count": 19,
   "metadata": {
    "collapsed": false,
    "jupyter": {
     "outputs_hidden": false
    },
    "pycharm": {
     "name": "#%%\n"
    }
   },
   "outputs": [],
   "source": [
    "parse_cfg = {\n",
    "    'csv_params' : {\n",
    "        \"sep\": '\\t',\n",
    "        \"encoding\": 'utf-8',\n",
    "        \"names\": columns\n",
    "    },\n",
    "    'input_file_mask':f'/zfs/store5.hydra.local/user/d/drusov/ariadne_spd/ariadne/output/spd_tracknet_train_raw/spdsim_test_fakes_2nsqr.tsv',\n",
    "    'events_quantity': ':'\n",
    "}"
   ]
  },
  {
   "cell_type": "code",
   "execution_count": 20,
   "metadata": {
    "pycharm": {
     "name": "#%%\n"
    }
   },
   "outputs": [],
   "source": [
    "loaded_model = TrackNetModelLoader()"
   ]
  },
  {
   "cell_type": "code",
   "execution_count": null,
   "metadata": {
    "pycharm": {
     "name": "#%%\n"
    }
   },
   "outputs": [],
   "source": []
  },
  {
   "cell_type": "code",
   "execution_count": 21,
   "metadata": {
    "pycharm": {
     "name": "#%%\n"
    }
   },
   "outputs": [],
   "source": [
    "constraints = {'x': [-851., 851.], 'y': [-851., 851.], 'z': [-2386., 2386.]}"
   ]
  },
  {
   "cell_type": "code",
   "execution_count": 22,
   "metadata": {
    "collapsed": false,
    "jupyter": {
     "outputs_hidden": false
    },
    "pycharm": {
     "name": "#%%\n"
    }
   },
   "outputs": [],
   "source": [
    "global_transformer = Compose([\n",
    "    DropShort(num_stations=3),\n",
    "    #DropEmptyFirstStation(),\n",
    "    #DropTracksWithHoles(),\n",
    "    #DropSpinningTracks(),\n",
    "    #ToCylindrical(),\n",
    "    #BakeStationValues(r_values, col='r'),\n",
    "    ConstraintsNormalize(constraints=constraints, columns=('x', 'y', 'z')),\n",
    "    #DropOverPhi(),\n",
    "    #DropFakes(),\n",
    "]\n",
    ")"
   ]
  },
  {
   "cell_type": "code",
   "execution_count": 23,
   "metadata": {
    "collapsed": false,
    "jupyter": {
     "outputs_hidden": false
    },
    "pycharm": {
     "name": "#%%\n"
    }
   },
   "outputs": [],
   "source": [
    "gin.enter_interactive_mode()"
   ]
  },
  {
   "cell_type": "code",
   "execution_count": 24,
   "metadata": {
    "pycharm": {
     "name": "#%%\n"
    },
    "scrolled": true,
    "tags": []
   },
   "outputs": [
    {
     "name": "stdout",
     "output_type": "stream",
     "text": [
      "warning, you are going to clean all cache for the 1w starting from the 2022-09-13 17:05:51.457102 till now\n"
     ]
    },
    {
     "name": "stdin",
     "output_type": "stream",
     "text": [
      "OK with that [Y/N]?  y\n"
     ]
    },
    {
     "name": "stdout",
     "output_type": "stream",
     "text": [
      "deleting path df/5a4e24fcc37c4b4c29d2583f622baa59\n"
     ]
    }
   ],
   "source": [
    "scripts.clean_cache.clean_jit_cache('1w')"
   ]
  },
  {
   "cell_type": "code",
   "execution_count": 25,
   "metadata": {},
   "outputs": [],
   "source": [
    "import cProfile as profile"
   ]
  },
  {
   "cell_type": "code",
   "execution_count": 26,
   "metadata": {},
   "outputs": [],
   "source": [
    "pr = profile.Profile()\n",
    "pr.disable()"
   ]
  },
  {
   "cell_type": "code",
   "execution_count": 48,
   "metadata": {},
   "outputs": [],
   "source": [
    "res_1 = None"
   ]
  },
  {
   "cell_type": "code",
   "execution_count": null,
   "metadata": {
    "pycharm": {
     "name": "#%%\n"
    },
    "tags": []
   },
   "outputs": [
    {
     "name": "stdout",
     "output_type": "stream",
     "text": [
      "read entry 5a4e24fcc37c4b4c29d2583f622baa59 hit\n",
      "[prepare]: started processing a df spdsim_test_fakes_2nsqr.tsv with 45651097 rows:\n",
      "read entry b18d720dc118bf8443e3b5e1ae242bfa hit\n",
      "[prepare] finished\n",
      "[prepare] loading your model(s)...\n",
      "[prepare] finished loading your model(s)...\n",
      "[build_all_tracks] start\n",
      "read entry 2bde8c22aa0bb01efcf0a29ce2f78b52 hit\n",
      "read entry a7247b68fde238af7f34ca1252b0b6cd hit\n",
      "\n",
      "\n",
      "processed: 21:   0%|          | 21/25000 [00:04<48:13,  8.63it/s]  "
     ]
    }
   ],
   "source": [
    "evaluator = EventEvaluator(parse_cfg, global_transformer, N_STATIONS)\n",
    "events = evaluator.prepare(model_loader=loaded_model)[0]\n",
    "all_results = evaluator.build_all_tracks()\n",
    "model_results = evaluator.run_model(preprocess_one_event, run_tracknet_eval)\n",
    "start_time = time.time()\n",
    "results_tracknet = evaluator.solve_results(model_results, all_results, match_percentage=1)\n",
    "end_time = time.time()\n",
    "print(f'solving took {end_time - start_time} seconds')"
   ]
  },
  {
   "cell_type": "code",
   "execution_count": null,
   "metadata": {},
   "outputs": [],
   "source": [
    "pr.dump_stats('profile.pstat')"
   ]
  },
  {
   "cell_type": "code",
   "execution_count": null,
   "metadata": {},
   "outputs": [],
   "source": []
  },
  {
   "cell_type": "markdown",
   "metadata": {},
   "source": [
    "## Plots"
   ]
  },
  {
   "cell_type": "code",
   "execution_count": 43,
   "metadata": {
    "pycharm": {
     "name": "#%%\n"
    }
   },
   "outputs": [],
   "source": [
    "def draw_track(ax, x, y, z, label, track_num):\n",
    "    if label == 1:\n",
    "        col = 'green'#(0., 1.0, 0.000, 0.9)\n",
    "    elif label == 0:\n",
    "        col = (0, 0.0, 1, 0.9)\n",
    "    elif label == -1:\n",
    "        pass\n",
    "        col = (1, 0.0, 0.000, 0.9)\n",
    "    else:\n",
    "        col = (0, 1, 0, 0.3)\n",
    "    val_x = x#track[:,0]\n",
    "    val_y = y#track[:,2]\n",
    "    val_z = z#track[:,1# ]\n",
    "    #if track_num != 22 and track_num != 1285:\n",
    "    #    col = list(col)[:3] + [0]\n",
    "    line, = ax.plot(val_x, val_y, zs=val_z, color=col, label=f'track_num={track_num}', picker=10)\n",
    "    #ax.scatter(val_x, val_y, zs=val_z, color=col)\n",
    "    return line\n",
    "\n",
    "\n",
    "def draw_event(ev_id, events_df, projection='xz', draw_unproc=False, columns=['x', 'y', 'z']):\n",
    "    fig = plt.figure(figsize=(12,12))\n",
    "    ax = plt.subplot(111, projection=\"3d\")\n",
    "    fig.add_axes(ax)\n",
    "    ax.set_zlabel('Z')\n",
    "    if projection == 'xz':\n",
    "        ax.view_init(azim=260, elev=0)\n",
    "        ax.set_xlabel(columns[0])\n",
    "    else:\n",
    "        ax.view_init(azim=360, elev=0)\n",
    "        ax.set_ylabel(columns[1])\n",
    "    i = 0\n",
    "    lines = []\n",
    "\n",
    "    hits_real = events_df.query('event == @ev_id and track >= 0')\n",
    "    ax.scatter(hits_real[columns[0]], hits_real[columns[1]], zs=hits_real[columns[2]], c='lightgreen', alpha=0.5)\n",
    "    \n",
    "    hits_fake = events_df.query('event == @ev_id and track == -1')\n",
    "    ax.scatter(hits_fake[columns[0]], hits_fake[columns[1]], zs=hits_fake[columns[2]], c='red', alpha=0.5)\n",
    "\n",
    "    for tr_id, df in events_df.query('event == @ev_id').groupby('track'):\n",
    "        if tr_id != -1:\n",
    "            lines.append(draw_track(ax, df[columns[0]], df[columns[1]], df[columns[2]], 1, tr_id))\n",
    "\n",
    "    leg = ax.legend(fancybox=True, shadow=True)\n",
    "    lined = {}  # Will map legend lines to original lines.\n",
    "    for legline, origline in zip(leg.get_lines(), lines):\n",
    "        legline.set_picker(True)  # Enable picking on the legend line.\n",
    "        lined[legline] = origline\n",
    "\n",
    "    def on_pick(event):\n",
    "        # On the pick event, find the original line corresponding to the legend\n",
    "        # proxy line, and toggle its visibility.\n",
    "        legline = event.artist\n",
    "        origline = lined[legline]\n",
    "        visible = not origline.get_visible()\n",
    "        origline.set_visible(visible)\n",
    "        # Change the alpha on the line in the legend so we can see what lines\n",
    "        # have been toggled.\n",
    "        legline.set_alpha(1.0 if visible else 0.2)\n",
    "        fig.canvas.draw()\n",
    "\n",
    "    fig.canvas.mpl_connect('pick_event', on_pick)\n",
    "    plt.show()"
   ]
  },
  {
   "cell_type": "code",
   "execution_count": null,
   "metadata": {},
   "outputs": [],
   "source": []
  },
  {
   "cell_type": "code",
   "execution_count": 32,
   "metadata": {
    "pycharm": {
     "name": "#%%\n"
    },
    "tags": []
   },
   "outputs": [
    {
     "name": "stdout",
     "output_type": "stream",
     "text": [
      "tracklen = 3, number = 3(0.0018879798615481435), precision 0, recall 0.0\n",
      "tracklen = 4, number = 0(0.0), precision 0.0, recall 0\n",
      "tracklen = 5, number = 0(0.0), precision 0.0, recall 0\n",
      "tracklen = 6, number = 0(0.0), precision 0.0, recall 0\n",
      "tracklen = 7, number = 0(0.0), precision 0.0, recall 0\n",
      "tracklen = 8, number = 1(0.0006293266205160479), precision 0.3333333333333333, recall 1.0\n",
      "tracklen = 9, number = 1(0.0006293266205160479), precision 0.14285714285714285, recall 1.0\n",
      "tracklen = 10, number = 1(0.0006293266205160479), precision 0.14285714285714285, recall 1.0\n",
      "tracklen = 11, number = 1(0.0006293266205160479), precision 0.25, recall 1.0\n",
      "tracklen = 12, number = 0(0.0), precision 0.0, recall 0\n",
      "tracklen = 13, number = 1(0.0006293266205160479), precision 0.1111111111111111, recall 1.0\n",
      "tracklen = 14, number = 1(0.0006293266205160479), precision 0.14285714285714285, recall 1.0\n",
      "tracklen = 15, number = 0(0.0), precision 0.0, recall 0\n",
      "tracklen = 16, number = 1(0.0006293266205160479), precision 0.1111111111111111, recall 1.0\n",
      "tracklen = 17, number = 0(0.0), precision 0.0, recall 0\n",
      "tracklen = 18, number = 1(0.0006293266205160479), precision 0.07692307692307693, recall 1.0\n",
      "tracklen = 19, number = 0(0.0), precision 0.0, recall 0\n",
      "tracklen = 20, number = 1(0.0006293266205160479), precision 0.07142857142857142, recall 1.0\n",
      "tracklen = 21, number = 0(0.0), precision 0.0, recall 0\n",
      "tracklen = 22, number = 1(0.0006293266205160479), precision 0.0625, recall 1.0\n",
      "tracklen = 23, number = 0(0.0), precision 0.0, recall 0\n",
      "tracklen = 24, number = 1(0.0006293266205160479), precision 0.14285714285714285, recall 1.0\n",
      "tracklen = 25, number = 3(0.0018879798615481435), precision 0.2727272727272727, recall 1.0\n",
      "tracklen = 26, number = 0(0.0), precision 0.0, recall 0\n",
      "tracklen = 27, number = 0(0.0), precision 0.0, recall 0\n",
      "tracklen = 28, number = 0(0.0), precision 0.0, recall 0\n",
      "tracklen = 29, number = 0(0.0), precision 0.0, recall 0\n",
      "tracklen = 30, number = 0(0.0), precision 0.0, recall 0\n",
      "tracklen = 31, number = 0(0.0), precision 0.0, recall 0\n",
      "tracklen = 32, number = 1(0.0006293266205160479), precision 0.05263157894736842, recall 1.0\n",
      "tracklen = 33, number = 1(0.0006293266205160479), precision 0.07142857142857142, recall 1.0\n",
      "tracklen = 34, number = 0(0.0), precision 0.0, recall 0\n",
      "tracklen = 35, number = 1570(0.9880427942101951), precision 0.30629139072847683, recall 0.9426751592356688\n"
     ]
    }
   ],
   "source": [
    "result = results_tracknet[0].copy()\n",
    "result['len'] = (result[STATION_COLUMNS] < 0).values.argmax(axis=1)\n",
    "result.len = result.len.replace(0, N_STATIONS)\n",
    "\n",
    "for tr_len in sorted(list(result.len.unique())):\n",
    "    cands = result.query('len == @tr_len')\n",
    "    try:\n",
    "        precision = len(cands.query('pred == 1')) / (len(cands.query('pred == -1')) + len(cands.query('pred == 1')))\n",
    "    except:\n",
    "        precision = 0\n",
    "    try:\n",
    "        recall = len(cands.query('pred == 1')) / (len(cands.query('pred == 0')) + len(cands.query('pred == 1')))\n",
    "    except:\n",
    "        recall = 0\n",
    "    print(f'tracklen = {tr_len}, number = {len(cands.query(\"pred != -1\"))}({len(cands.query(\"pred != -1\"))/len(result.query(\"pred != -1\"))}), precision {precision}, recall {recall}')"
   ]
  },
  {
   "cell_type": "code",
   "execution_count": 49,
   "metadata": {
    "pycharm": {
     "name": "#%%\n"
    },
    "tags": []
   },
   "outputs": [],
   "source": [
    "from scipy.interpolate import make_interp_spline, BSpline\n",
    "from scipy import stats\n",
    "\n",
    "MODES = {\n",
    "    \"RECALL\":1,\n",
    "    \"PRECISION\":2\n",
    "}\n",
    "a = []\n",
    "def get_diagram_arr_linspace(all_real_hits, found_hits, start, end, num, col, mode):\n",
    "    spac = np.linspace(start, end, num=num)\n",
    "    #print(num)\n",
    "    step = (spac[1] - spac[0]) / 2\n",
    "    arr = []\n",
    "    spac_ret = []\n",
    "    track_count_for_arr = []\n",
    "    for i in range(len(spac)-1):\n",
    "        beg = spac[i]\n",
    "        end = spac[i+1]\n",
    "        elems_real = all_real_hits[(all_real_hits[col] >= beg) & (all_real_hits[col] < end)]\n",
    "        elems_pred = found_hits[(found_hits[col] >= beg) & (found_hits[col] < end)]\n",
    "        #print(beg,end)\n",
    "        #print(len(elems_pred), len(elems_real))\n",
    "        if mode == MODES[\"RECALL\"]:\n",
    "            if elems_real.empty:\n",
    "                #arr.append(1.)\n",
    "                continue\n",
    "            else:\n",
    "                arr.append(len(elems_pred) / len(elems_real))\n",
    "                track_count_for_arr.append(len(elems_real))\n",
    "        elif mode == MODES[\"PRECISION\"]:\n",
    "            if elems_pred.empty:\n",
    "                #arr.append(1.)\n",
    "                continue\n",
    "            else:\n",
    "                reco_true = len(elems_pred[elems_pred.track != -1])\n",
    "                arr.append(reco_true / len(elems_pred))\n",
    "                track_count_for_arr.append(len(elems_real))\n",
    "        else:\n",
    "            raise NotImplemented\n",
    "\n",
    "        spac_ret.append(spac[i])\n",
    "\n",
    "    return np.array(arr), np.array(spac_ret), np.array(track_count_for_arr)\n",
    "\n",
    "\n",
    "def get_diagram_for_boxplot(all_real_hits, found_hits, start, end, num, col, bin_array, int_mode, mode):\n",
    "    y_vals, x_vals, counts_ = get_diagram_arr_linspace(all_real_hits, found_hits, start, end, num, col, mode)\n",
    "\n",
    "    np_y_vals = np.array(y_vals)\n",
    "    bin_array = bin_array\n",
    "\n",
    "\n",
    "    res_x_array = []\n",
    "    res_box_data = []\n",
    "    mean_box_array = []\n",
    "    track_counts_ed = []\n",
    "    for i in range(len(bin_array)-1):\n",
    "        beg = bin_array[i]\n",
    "        end = bin_array[i+1]\n",
    "        y_ind = np.where((x_vals>=beg) & (x_vals<end))\n",
    "        y_vals_corr  = np_y_vals[y_ind]\n",
    "        track_counts_corr = counts_[y_ind]\n",
    "\n",
    "        y_vals_corr = y_vals_corr[~np.isnan(y_vals_corr)]\n",
    "        if len(y_vals_corr) == 0:\n",
    "            continue\n",
    "\n",
    "        #print(beg, end, i, stats.describe(y_vals_corr))\n",
    "        #print(y_vals_corr)\n",
    "        #         if len(np.where(y_vals_corr < 1)) > 0:\n",
    "        #             print(y_vals_corr)\n",
    "        #             print(y_vals)\n",
    "        #             print(beg,end)\n",
    "\n",
    "        res_box_data.append(y_vals_corr)\n",
    "        track_counts_ed.append(np.sum(track_counts_corr))\n",
    "\n",
    "        delta = 0 if int_mode else (end-beg)/2\n",
    "        res_x_array.append(beg + delta)\n",
    "        mean_box_array.append(np.mean(y_vals_corr))\n",
    "\n",
    "    return res_box_data, np.array(res_x_array), np.array(mean_box_array), np.array(track_counts_ed)\n",
    "    #plt.boxplot(res_box_data, positions=bin_array)\n",
    "\n",
    "def boxplot_style(bp):\n",
    "    #for box in bp['boxes']:\n",
    "    # change outline color\n",
    "    #box.set( color='#7570b3', linewidth=2)\n",
    "    # change fill color\n",
    "    #box.set( facecolor = 'silver' )\n",
    "\n",
    "    ## change color and linewidth of the whiskers\n",
    "    #for whisker in bp['whiskers']:\n",
    "    #    whisker.set(color='#7570b3', linewidth=2)\n",
    "    #\n",
    "    ### change color and linewidth of the caps\n",
    "    #for cap in bp['caps']:\n",
    "    #    cap.set(color='#7570b3', linewidth=2)\n",
    "    #\n",
    "    ### change color and linewidth of the medians\n",
    "    #for median in bp['medians']:\n",
    "    #    median.set(color='tab:red', linewidth=3, zorder=30)\n",
    "\n",
    "    for median in bp['means']:\n",
    "        median.set(color='tab:green', linewidth=2, ls='-', zorder=10)\n",
    "\n",
    "\n",
    "##########################\n",
    "###########################\n",
    "\n",
    "from numpy import linalg as LA\n",
    "import matplotlib as mpl\n",
    "mpl.rcParams['figure.dpi'] = 300\n",
    "\n",
    "def draw_for_col(ax, tracks_real, tracks_pred_true,\n",
    "                 col, col_pretty, total_events, n_ticks=150,\n",
    "                 n_avg_ticks=-1, x_ticks=8,\n",
    "                 custom_title=None,\n",
    "                 ticks_custom=True,\n",
    "                 with_boxplot=False,\n",
    "                 int_mode=False, save_disk=True,\n",
    "                 custom_draw_funcs=[],\n",
    "                 diagram_func=None,\n",
    "                 color_ax_ticks=False,\n",
    "                 subtitle=None,\n",
    "                 model_name=\"NO_MODEL_NAME\",\n",
    "                 graph_idx=0, total_indices=-1, spacing=-1,\n",
    "                 color_line='tab:orange', color_box='red', mode=-1\n",
    "                 ):\n",
    "    real_xticks_count = x_ticks\n",
    "\n",
    "    color_ax_ticks = len(custom_draw_funcs) > 0 and color_ax_ticks\n",
    "    n_avg_ticks = n_ticks // 5 if n_avg_ticks < 0 else n_avg_ticks\n",
    "\n",
    "    delta = 1e-4 if not int_mode else 1\n",
    "\n",
    "    start = tracks_real[tracks_real[col] > -np.inf][col].min()\n",
    "    end = tracks_real[tracks_real[col] < np.inf][col].max()+delta\n",
    "\n",
    "    initial, spac, counts_ = get_diagram_arr_linspace(tracks_real, tracks_pred_true, start, end, n_ticks, col, mode)\n",
    "\n",
    "    maxX = int(end) if int_mode else end\n",
    "    ax.set_xlabel(col_pretty)\n",
    "    ax.plot(spac, initial, alpha=0.0, lw=1)\n",
    "\n",
    "    if not int_mode and ticks_custom:\n",
    "        ax.set_xticks(np.linspace(start, maxX, x_ticks))\n",
    "    else:\n",
    "        ax.locator_params(axis='x', nbins=x_ticks)\n",
    "\n",
    "    if diagram_func is None:\n",
    "        ax.set_yticks(np.round(np.linspace(0, 1, 11), decimals=2))\n",
    "    x_ticks = ax.get_xticks()\n",
    "\n",
    "    if with_boxplot:\n",
    "        old_ticks = x_ticks\n",
    "        delta_x = (x_ticks[1] - x_ticks[0])/2\n",
    "\n",
    "        diagram_func = get_diagram_for_boxplot if diagram_func is None else diagram_func\n",
    "\n",
    "        box_data, ticks_x, mean_data, counts_ed = diagram_func(tracks_real, tracks_pred_true, start, end,\n",
    "                                                               n_ticks, col, x_ticks, int_mode, mode)\n",
    "        #print(x_ticks)\n",
    "        if total_indices > 0:\n",
    "\n",
    "            width_tuned = delta_x * 2 / total_indices\n",
    "            pos_tuned = ticks_x - delta_x\n",
    "            spacings = width_tuned * 0.4\n",
    "            width_real = width_tuned * 0.6\n",
    "\n",
    "            ticks_x = pos_tuned + width_tuned * graph_idx + spacings/2 + width_real/2\n",
    "            delta_x = width_real\n",
    "        box_data_t = []\n",
    "        ticks_x_t = []\n",
    "        delta_x_t = []\n",
    "        mean_data_t = []\n",
    "        counts_ed_t = []\n",
    "\n",
    "        for i, box in enumerate(box_data):\n",
    "            if len(box) > 4:\n",
    "                box_data_t.append(box)\n",
    "                ticks_x_t.append(ticks_x[i])\n",
    "                mean_data_t.append(mean_data[i])\n",
    "\n",
    "                counts_ed_t.append(counts_ed[i])\n",
    "\n",
    "        box_data = np.array(box_data_t)\n",
    "        ticks_x = np.array(ticks_x_t)\n",
    "        mean_data = np.array(mean_data_t)\n",
    "\n",
    "        counts_ed = np.array(counts_ed_t)\n",
    "\n",
    "        bp = ax.boxplot(box_data, positions=ticks_x,\n",
    "                        manage_ticks=False, meanline=True, showmeans=True,\n",
    "                        widths=delta_x,patch_artist=True, sym='',zorder=3,boxprops=dict(facecolor=color_box, alpha=0.3))\n",
    "        boxplot_style(bp)\n",
    "        ret_widths = delta_x\n",
    "        # mean line\n",
    "        xnew = np.linspace(ticks_x.min(), ticks_x.max(), 500)\n",
    "        spl = make_interp_spline(ticks_x, mean_data, k=1)\n",
    "        power_smooth = spl(xnew)\n",
    "        ax.plot(xnew, power_smooth, ls='--', color=color_line, label=f'{model_name} mean track {subtitle}', lw=3, zorder=15)\n",
    "        #ax.set_xticks(old_ticks)\n",
    "        if graph_idx == 0:\n",
    "            for i in range(len(ticks_x)):\n",
    "                y_pos = 1.01\n",
    "                x_pos = ticks_x[i] - delta_x/2\n",
    "                ax.text(x_pos, y_pos, f\"{counts_ed[i]}\", zorder=80)\n",
    "\n",
    "    if int_mode or not ticks_custom:\n",
    "        ax.locator_params(axis='x', nbins=real_xticks_count)\n",
    "\n",
    "    #if diagram_func is None:\n",
    "    ax.set_ylim((-0.05, 1.05))\n",
    "    ticks = ax.get_xticks()\n",
    "    step = ticks[1] - ticks[0]\n",
    "    if graph_idx == total_indices-1:\n",
    "        ax.set_xlim((np.min(ticks_x) - width_tuned-step, np.max(ticks_x)+width_real + step/2))\n",
    "\n",
    "    for draw_f in custom_draw_funcs:\n",
    "        draw_f(ax)\n",
    "\n",
    "    return ret_widths\n",
    "\n",
    "    ####plt.locator_params(axis='y', nbins=16)\n",
    "\n",
    "\n",
    "    #plt.tight_layout()\n",
    "    #plt.rcParams['savefig.facecolor']='white'\n",
    "    #os.makedirs('../output', exist_ok=True)\n",
    "    #plt.savefig('../output/new_img_track_eff_%s_ev%r_t%d.png'%(col, total_events, n_ticks), dpi=300)\n",
    "    #plt.show()\n",
    "\n",
    "def draw_for_raw_data(ax, data_x, data_y, data_y_err, color_box, color_line, col_widths, model_name, subtitle):\n",
    "    data_x = np.array(data_x)\n",
    "    data_y_init = np.array(data_y)\n",
    "    dataep = data_y + np.array(data_y_err)\n",
    "    dataem = data_y - np.array(data_y_err)\n",
    "\n",
    "    data_y = np.expand_dims(data_y,axis=-1)\n",
    "    dataep = np.expand_dims(dataep,axis=-1)\n",
    "    dataem = np.expand_dims(dataem,axis=-1)\n",
    "\n",
    "    data_y = np.concatenate((data_y, dataep, dataem), axis=1).T\n",
    "    delta_x = (data_x[1]-data_x[0]) / 2\n",
    "\n",
    "    width_tuned = delta_x * 2 / 3\n",
    "    pos_tuned = data_x - delta_x\n",
    "    spacings = width_tuned * 0.4\n",
    "    width_real = width_tuned * 0.6\n",
    "\n",
    "    ticks_x = pos_tuned + width_tuned * 2 + spacings/2 + width_real/2\n",
    "\n",
    "    bp = ax.boxplot(data_y, positions=ticks_x,\n",
    "                    manage_ticks=False, meanline=True, showmeans=True,\n",
    "                    widths=col_widths, patch_artist=True, sym='',zorder=3,boxprops=dict(facecolor=color_box, alpha=0.3))\n",
    "    boxplot_style(bp)\n",
    "    xnew = np.linspace(ticks_x.min(), ticks_x.max(), 500)\n",
    "    mean_data = data_y_init\n",
    "    spl = make_interp_spline(ticks_x, mean_data, k=1)  # type: BSpline\n",
    "    power_smooth = spl(xnew)\n",
    "\n",
    "    ax.plot(xnew, power_smooth, ls='--', color=color_line, label=f'{model_name} mean track {subtitle}', lw=3, zorder=15)\n",
    "\n",
    "    pass\n",
    "\n",
    "def to_recall(all_tracks_df):\n",
    "    tracks_real = all_tracks_df[all_tracks_df.pred != -1]\n",
    "    tracks_pred_true = all_tracks_df[all_tracks_df.pred == 1]\n",
    "    return tracks_real, tracks_pred_true, MODES[\"RECALL\"], \"efficiency\"\n",
    "\n",
    "def to_precision(all_tracks_df):\n",
    "    tracks_real = all_tracks_df[all_tracks_df.track != -1]\n",
    "    tracks_pred_true = all_tracks_df[(all_tracks_df.pred == 1) | (all_tracks_df.pred == -1)]\n",
    "    return tracks_real, tracks_pred_true, MODES[\"PRECISION\"], \"purity\"\n",
    "\n",
    "def plot_model_results(model_names, model_results_arr, mode_func, funcs_for_kalman=None):\n",
    "\n",
    "    fig = plt.figure(figsize=(14,16), dpi=80)\n",
    "    ax1, ax2, ax3 = fig.subplots(nrows=3, ncols=1)\n",
    "    #    ax1, ax2 = fig.subplots(nrows=1, ncols=2, sharey='all')\n",
    "\n",
    "    total_models = len(model_names)\n",
    "    if funcs_for_kalman:\n",
    "        total_models+=1\n",
    "\n",
    "    colormap = plt.cm.tab10 #nipy_spectral, Set1,Paired\n",
    "    colors = [colormap(i) for i in np.linspace(0, 1, 8)]\n",
    "\n",
    "    widths_for_ax = []\n",
    "    tit = \"\"\n",
    "    for idx, (model_name, model_results) in enumerate(zip(model_names, model_results_arr)):\n",
    "\n",
    "        all_tracks_df = model_results[0]\n",
    "\n",
    "        all_tracks_df['pt'] = LA.norm(all_tracks_df[['px','py']].values, axis=1)\n",
    "        all_tracks_df['cos_t'] = (all_tracks_df[['pz']].values/ LA.norm(all_tracks_df[['px','py','pz']].values, axis=1, keepdims=True))\n",
    "        all_tracks_df['a_phi'] = np.arctan2(all_tracks_df[['px']].values, all_tracks_df[['py']].values)\n",
    "\n",
    "        tracks_real, tracks_pred_true, mode, subtitle  = mode_func(all_tracks_df)\n",
    "\n",
    "        color_box = colors[idx]\n",
    "        color_line = colors[idx]\n",
    "        n_events = model_results_arr[0][0].event_id.nunique()\n",
    "        tit = f\"Models track {subtitle} on {n_events} events\"\n",
    "        ax1.set_title(tit)\n",
    "        ax1.set_ylabel(f'Track {subtitle}', fontsize=12)\n",
    "        #ax2.set_ylabel(f'Track {subtitle}', fontsize=12)\n",
    "        #ax3.set_ylabel(f'Track {subtitle}', fontsize=12)\n",
    "\n",
    "        widths_ax = draw_for_col(ax1, tracks_real, tracks_pred_true, 'pt', '$pt$', n_events, 350,\n",
    "                                 n_avg_ticks=48, x_ticks=20, ticks_custom=False, with_boxplot=True, model_name=model_name,\n",
    "                                 graph_idx=idx, total_indices=total_models, subtitle=subtitle,\n",
    "                                 color_line=color_line, color_box=color_box, mode=mode)\n",
    "\n",
    "        widths_for_ax.append([widths_ax])\n",
    "\n",
    "\n",
    "        widths_ax = draw_for_col(ax2, tracks_real, tracks_pred_true, 'a_phi', '$a_\\phi$',n_events, 350,\n",
    "                                 n_avg_ticks=48, x_ticks=20, with_boxplot=True, model_name=model_name,\n",
    "                                 graph_idx=idx, total_indices=total_models, subtitle=subtitle,\n",
    "                                 color_line=color_line, color_box=color_box, mode=mode)\n",
    "        widths_for_ax[-1].append(widths_ax)\n",
    "        #\n",
    "        ##enable on big dataset\n",
    "        widths_ax = draw_for_col(ax3, tracks_real, tracks_pred_true,'cos_t', '$cos_t$',n_events, 350,\n",
    "                                 n_avg_ticks=48,x_ticks=20, ticks_custom=False, with_boxplot=True, model_name=model_name,\n",
    "                                 graph_idx=idx, total_indices=total_models, subtitle=subtitle,\n",
    "                                 color_line=color_line, color_box=color_box, mode=mode)\n",
    "        widths_for_ax[-1].append(widths_ax)\n",
    "\n",
    "    if funcs_for_kalman:\n",
    "        for idx, ax in enumerate([ax1,ax2,ax3]):\n",
    "            color_box = colors[-2]\n",
    "            color_line = colors[-2]\n",
    "            funcs_for_kalman[idx](ax, widths_for_ax[-1][idx], color_box, color_line)\n",
    "\n",
    "    for ax in [ax1,ax2,ax3]:\n",
    "        ax.grid()\n",
    "        ax.legend(bbox_to_anchor=(1, -0.05))\n",
    "\n",
    "    fig = plt.gcf()\n",
    "    handles, labels = ax1.get_legend_handles_labels()\n",
    "    #fig.legend(handles, labels, loc='lower right', bbox_to_anchor=(1, -0.05))\n",
    "    #plt.title()\n",
    "    plt.tight_layout()\n",
    "    plt.rcParams['savefig.facecolor']='white'\n",
    "\n",
    "    os.makedirs('../output', exist_ok=True)\n",
    "    #plt.savefig('../output/%s.png'%(''.join([i if (ord(i) < 128) and (ord(i)>ord('a')) else '_' for i in tit])), dpi=300)\n",
    "    #return all_tracks_df\n",
    "    plt.show()\n",
    "    pass"
   ]
  },
  {
   "cell_type": "code",
   "execution_count": 50,
   "metadata": {
    "collapsed": false,
    "jupyter": {
     "outputs_hidden": false
    },
    "pycharm": {
     "name": "#%%\n"
    }
   },
   "outputs": [
    {
     "data": {
      "image/png": "[encoded data removed]",
      "text/plain": [
       "<Figure size 1120x1280 with 3 Axes>"
      ]
     },
     "metadata": {},
     "output_type": "display_data"
    }
   ],
   "source": [
    "plot_model_results([\"TrackNetV3\"],\n",
    "                   [results_tracknet],\n",
    "                   to_precision)"
   ]
  },
  {
   "cell_type": "code",
   "execution_count": 51,
   "metadata": {
    "pycharm": {
     "name": "#%%\n"
    },
    "tags": []
   },
   "outputs": [
    {
     "data": {
      "image/png": "[encoded data removed]",
      "text/plain": [
       "<Figure size 1120x1280 with 3 Axes>"
      ]
     },
     "metadata": {},
     "output_type": "display_data"
    }
   ],
   "source": [
    "plot_model_results([\"TrackNetV3\"],\n",
    "                   [results_tracknet],\n",
    "                   to_recall)"
   ]
  },
  {
   "cell_type": "code",
   "execution_count": null,
   "metadata": {},
   "outputs": [],
   "source": []
  }
 ],
 "metadata": {
  "kernelspec": {
   "display_name": "ariadne_gpu_kernel",
   "language": "python",
   "name": "ariadne_gpu_kernel"
  },
  "language_info": {
   "codemirror_mode": {
    "name": "ipython",
    "version": 3
   },
   "file_extension": ".py",
   "mimetype": "text/x-python",
   "name": "python",
   "nbconvert_exporter": "python",
   "pygments_lexer": "ipython3",
   "version": "3.9.13"
  },
  "toc": {
   "base_numbering": 1,
   "nav_menu": {},
   "number_sections": false,
   "sideBar": false,
   "skip_h1_title": false,
   "title_cell": "Table of Contents",
   "title_sidebar": "Contents",
   "toc_cell": false,
   "toc_position": {},
   "toc_section_display": false,
   "toc_window_display": false
  }
 },
 "nbformat": 4,
 "nbformat_minor": 4
}

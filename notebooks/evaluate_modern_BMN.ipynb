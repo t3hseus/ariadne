{
 "cells": [
  {
   "cell_type": "code",
   "execution_count": 1,
   "metadata": {
    "pycharm": {
     "name": "#%%\n"
    }
   },
   "outputs": [
    {
     "name": "stderr",
     "output_type": "stream",
     "text": [
      "/tmp/ipykernel_40165/1187170015.py:13: DeprecationWarning: Importing clear_output from IPython.core.display is deprecated since IPython 7.14, please import from IPython display\n",
      "  from IPython.core.display import clear_output, display\n",
      "/tmp/ipykernel_40165/1187170015.py:13: DeprecationWarning: Importing display from IPython.core.display is deprecated since IPython 7.14, please import from IPython display\n",
      "  from IPython.core.display import clear_output, display\n"
     ]
    }
   ],
   "source": [
    "import os\n",
    "import sys\n",
    "import time\n",
    "\n",
    "#import ariadne.graph_net.model\n",
    "import gin\n",
    "import numpy as np\n",
    "import pandas as pd\n",
    "module_path = os.path.abspath(os.path.join('..'))\n",
    "if module_path not in sys.path:\n",
    "    sys.path.append(module_path)\n",
    "    \n",
    "from IPython.core.display import clear_output, display\n",
    "\n",
    "import matplotlib.pyplot as plt\n",
    "\n",
    "%matplotlib inline\n",
    "%load_ext autoreload\n",
    "%autoreload 2"
   ]
  },
  {
   "cell_type": "code",
   "execution_count": null,
   "metadata": {},
   "outputs": [],
   "source": []
  },
  {
   "cell_type": "code",
   "execution_count": 3,
   "metadata": {
    "collapsed": false,
    "jupyter": {
     "outputs_hidden": false
    },
    "pycharm": {
     "name": "#%%\n"
    }
   },
   "outputs": [],
   "source": [
    "from ariadne.graph_net.graph_utils.graph import load_graph"
   ]
  },
  {
   "cell_type": "code",
   "execution_count": 4,
   "metadata": {
    "pycharm": {
     "name": "#%%\n"
    }
   },
   "outputs": [
    {
     "name": "stdout",
     "output_type": "stream",
     "text": [
      "simdata_ArPb_3.2AGeV_mb_10.txt\tsimdata_ArPb_3.2AGeV_mb_31.txt\n",
      "simdata_ArPb_3.2AGeV_mb_11.txt\tsimdata_ArPb_3.2AGeV_mb_32.txt\n",
      "simdata_ArPb_3.2AGeV_mb_12.txt\tsimdata_ArPb_3.2AGeV_mb_33.txt\n",
      "simdata_ArPb_3.2AGeV_mb_13.txt\tsimdata_ArPb_3.2AGeV_mb_34.txt\n",
      "simdata_ArPb_3.2AGeV_mb_14.txt\tsimdata_ArPb_3.2AGeV_mb_35.txt\n",
      "simdata_ArPb_3.2AGeV_mb_16.txt\tsimdata_ArPb_3.2AGeV_mb_36.txt\n",
      "simdata_ArPb_3.2AGeV_mb_17.txt\tsimdata_ArPb_3.2AGeV_mb_37.txt\n",
      "simdata_ArPb_3.2AGeV_mb_18.txt\tsimdata_ArPb_3.2AGeV_mb_38.txt\n",
      "simdata_ArPb_3.2AGeV_mb_19.txt\tsimdata_ArPb_3.2AGeV_mb_39.txt\n",
      "simdata_ArPb_3.2AGeV_mb_1.txt\tsimdata_ArPb_3.2AGeV_mb_3.txt\n",
      "simdata_ArPb_3.2AGeV_mb_20.txt\tsimdata_ArPb_3.2AGeV_mb_40.txt\n",
      "simdata_ArPb_3.2AGeV_mb_21.txt\tsimdata_ArPb_3.2AGeV_mb_42.txt\n",
      "simdata_ArPb_3.2AGeV_mb_22.txt\tsimdata_ArPb_3.2AGeV_mb_43.txt\n",
      "simdata_ArPb_3.2AGeV_mb_23.txt\tsimdata_ArPb_3.2AGeV_mb_44.txt\n",
      "simdata_ArPb_3.2AGeV_mb_24.txt\tsimdata_ArPb_3.2AGeV_mb_45.txt\n",
      "simdata_ArPb_3.2AGeV_mb_25.txt\tsimdata_ArPb_3.2AGeV_mb_46.txt\n",
      "simdata_ArPb_3.2AGeV_mb_26.txt\tsimdata_ArPb_3.2AGeV_mb_4.txt\n",
      "simdata_ArPb_3.2AGeV_mb_27.txt\tsimdata_ArPb_3.2AGeV_mb_5.txt\n",
      "simdata_ArPb_3.2AGeV_mb_28.txt\tsimdata_ArPb_3.2AGeV_mb_6.txt\n",
      "simdata_ArPb_3.2AGeV_mb_29.txt\tsimdata_ArPb_3.2AGeV_mb_7.txt\n",
      "simdata_ArPb_3.2AGeV_mb_2.txt\tsimdata_ArPb_3.2AGeV_mb_8.txt\n",
      "simdata_ArPb_3.2AGeV_mb_30.txt\tsimdata_ArPb_3.2AGeV_mb_9.txt\n"
     ]
    }
   ],
   "source": [
    "!ls /zfs/store5.hydra.local/user/p/pgonchar/data/bmn/run7/events/"
   ]
  },
  {
   "cell_type": "code",
   "execution_count": 5,
   "metadata": {
    "pycharm": {
     "name": "#%%\n"
    }
   },
   "outputs": [
    {
     "name": "stdout",
     "output_type": "stream",
     "text": [
      "/zfs/store5.hydra.local/user/d/drusov/ariadne/notebooks\n"
     ]
    }
   ],
   "source": [
    "!pwd"
   ]
  },
  {
   "cell_type": "code",
   "execution_count": 6,
   "metadata": {
    "pycharm": {
     "name": "#%%\n"
    }
   },
   "outputs": [
    {
     "name": "stdout",
     "output_type": "stream",
     "text": [
      "Sun Aug 28 13:39:57 2022       \n",
      "+-----------------------------------------------------------------------------+\n",
      "| NVIDIA-SMI 515.43.04    Driver Version: 515.43.04    CUDA Version: 11.7     |\n",
      "|-------------------------------+----------------------+----------------------+\n",
      "| GPU  Name        Persistence-M| Bus-Id        Disp.A | Volatile Uncorr. ECC |\n",
      "| Fan  Temp  Perf  Pwr:Usage/Cap|         Memory-Usage | GPU-Util  Compute M. |\n",
      "|                               |                      |               MIG M. |\n",
      "|===============================+======================+======================|\n",
      "|   0  Tesla V100-SXM2...  Off  | 00000000:1A:00.0 Off |                    0 |\n",
      "| N/A   37C    P0    54W / 300W |  28903MiB / 32768MiB |      0%      Default |\n",
      "|                               |                      |                  N/A |\n",
      "+-------------------------------+----------------------+----------------------+\n",
      "|   1  Tesla V100-SXM2...  Off  | 00000000:1C:00.0 Off |                    0 |\n",
      "| N/A   31C    P0    42W / 300W |      3MiB / 32768MiB |      0%      Default |\n",
      "|                               |                      |                  N/A |\n",
      "+-------------------------------+----------------------+----------------------+\n",
      "|   2  Tesla V100-SXM2...  Off  | 00000000:1D:00.0 Off |                    0 |\n",
      "| N/A   32C    P0    42W / 300W |      3MiB / 32768MiB |      0%      Default |\n",
      "|                               |                      |                  N/A |\n",
      "+-------------------------------+----------------------+----------------------+\n",
      "|   3  Tesla V100-SXM2...  Off  | 00000000:1E:00.0 Off |                    0 |\n",
      "| N/A   34C    P0    41W / 300W |      3MiB / 32768MiB |      0%      Default |\n",
      "|                               |                      |                  N/A |\n",
      "+-------------------------------+----------------------+----------------------+\n",
      "                                                                               \n",
      "+-----------------------------------------------------------------------------+\n",
      "| Processes:                                                                  |\n",
      "|  GPU   GI   CI        PID   Type   Process name                  GPU Memory |\n",
      "|        ID   ID                                                   Usage      |\n",
      "|=============================================================================|\n",
      "|    0   N/A  N/A     89397      C   ...mofey/venvtest/bin/python     4719MiB |\n",
      "|    0   N/A  N/A    204448      C   ...mofey/venvtest/bin/python    24179MiB |\n",
      "+-----------------------------------------------------------------------------+\n"
     ]
    }
   ],
   "source": [
    "!nvidia-smi"
   ]
  },
  {
   "cell_type": "code",
   "execution_count": 7,
   "metadata": {
    "pycharm": {
     "name": "#%%\n"
    },
    "tags": []
   },
   "outputs": [],
   "source": [
    "os.environ[\"CUDA_VISIBLE_DEVICES\"]=\"2\""
   ]
  },
  {
   "cell_type": "code",
   "execution_count": 8,
   "metadata": {
    "pycharm": {
     "name": "#%%\n"
    }
   },
   "outputs": [],
   "source": [
    "import logging\n",
    "logging.getLogger().setLevel(logging.DEBUG)\n",
    "    \n",
    "from eval.event_evaluation import EventEvaluator\n",
    "from ariadne_v2.transformations import Compose, DropShort, DropTracksWithHoles, DropSpinningTracks, BakeStationValues, ConstraintsNormalize, FixStationsBMN, ToCylindrical\n",
    "from ariadne.utils.model import get_checkpoint_path, weights_update\n",
    "\n",
    "z_values = {0:12.344, 1: 15.614, 2: 24.499, 3: 39.702, 4: 64.535, 5: 112.649, 6: 135.330,7: 160.6635, 8: 183.668}\n",
    "constraints = {'x': [-81.1348, 86.1815], 'y': [-27.17125, 38.90473], 'z': [11.97, 183.82]}\n",
    "constraints_cylindrical = {'r': [0, (constraints['x'][1]**2 + constraints['y'][1]**2)**0.5],\n",
    "                           'phi': [-3.15, 3.15],\n",
    "                           'z': constraints['z']}"
   ]
  },
  {
   "cell_type": "code",
   "execution_count": null,
   "metadata": {
    "pycharm": {
     "name": "#%%\n"
    }
   },
   "outputs": [],
   "source": []
  },
  {
   "cell_type": "code",
   "execution_count": 9,
   "metadata": {
    "pycharm": {
     "name": "#%%\n"
    }
   },
   "outputs": [],
   "source": [
    "import scripts.clean_cache\n",
    "\n",
    "#to clean cache if needed\n",
    "#scripts.clean_cache.clean_jit_cache('20w')"
   ]
  },
  {
   "cell_type": "markdown",
   "metadata": {
    "pycharm": {
     "name": "#%% md\n"
    }
   },
   "source": [
    "## Tracknet"
   ]
  },
  {
   "cell_type": "code",
   "execution_count": 12,
   "metadata": {
    "pycharm": {
     "name": "#%%\n"
    },
    "tags": []
   },
   "outputs": [
    {
     "name": "stdout",
     "output_type": "stream",
     "text": [
      "cuda\n"
     ]
    }
   ],
   "source": [
    "import torch\n",
    "import faiss\n",
    "\n",
    "NUM_POINTS_TO_SEARCH = 2\n",
    "\n",
    "from ariadne_v2.inference import IModelLoader\n",
    "from ariadne.tracknet_v2.model import TrackNETv2\n",
    "class TrackNetModelLoader(IModelLoader):    \n",
    "    def __call__(self):\n",
    "        tracknet_input_features=3\n",
    "        tracknet_conv_features=32\n",
    "        \n",
    "        tracknet_ckpt_path_dict = {'model_dir': '/zfs/hybrilit.jinr.ru/user/d/drusov/ariadne/lightning_logs/TrackNETv2',\n",
    "                                   'version': 'version_47', 'checkpoint': 'latest'}\n",
    "                                   #'version': 'OnlyRNN_alpha0.01_unbalanced', 'checkpoint': 'latest'}\n",
    "        path_to_tracknet_ckpt = get_checkpoint_path(**tracknet_ckpt_path_dict)\n",
    "\n",
    "        model_tr = weights_update(model=TrackNETv2(input_features=tracknet_input_features,\n",
    "                                        conv_features=tracknet_conv_features,\n",
    "                                        rnn_type='gru',\n",
    "                                        batch_first=True,\n",
    "                                        use_causalconv=False,\n",
    "                                        use_rnn=True),\n",
    "                       checkpoint=torch.load(path_to_tracknet_ckpt, map_location=torch.device(DEVICE)))\n",
    "        model_tr.eval()\n",
    "        model_tr.to(DEVICE)\n",
    "\n",
    "        from ariadne.graph_net.model import GraphNet_v1\n",
    "\n",
    "        gin.bind_parameter('GraphNet_v1.input_dim', 3)\n",
    "        gin.bind_parameter('GraphNet_v1.hidden_dim', 128)\n",
    "        gin.bind_parameter('GraphNet_v1.n_iters', 4)\n",
    "\n",
    "        def weights_update_g(model, checkpoint):\n",
    "            model_dict = model.state_dict()\n",
    "            pretrained_dict =  checkpoint['state_dict']\n",
    "            real_dict = {}\n",
    "            for (k,v) in model_dict.items():\n",
    "                needed_key = None\n",
    "                for pretr_key in pretrained_dict:\n",
    "                    if k in pretr_key:\n",
    "                        needed_key = pretr_key\n",
    "                        break\n",
    "                assert needed_key is not None, \"key %s not in pretrained_dict %r!\" % (k, pretrained_dict.keys())\n",
    "                real_dict[k] = pretrained_dict[needed_key]\n",
    "\n",
    "            model.load_state_dict(real_dict)\n",
    "            model.eval()\n",
    "            return model\n",
    "\n",
    "        graphnet_ckpt_path_dict = {'model_dir': '/zfs/hybrilit.jinr.ru/user/d/drusov/ariadne/lightning_logs/GraphNet_v1',\n",
    "                                    'version': 'version_55', 'checkpoint': 'latest'}\n",
    "        path_g = get_checkpoint_path(**graphnet_ckpt_path_dict)\n",
    "\n",
    "        #checkpoint_g = torch.load(path_g, map_location=torch.device('cpu'))\n",
    "        checkpoint_g = torch.load(path_g, map_location=torch.device(DEVICE))\n",
    "        model_g = weights_update_g(model=GraphNet_v1(),\n",
    "                                   checkpoint=checkpoint_g)\n",
    "        model_g.eval()\n",
    "        model_g.to(DEVICE)\n",
    "\n",
    "        model_hash = {\n",
    "            \"tracknet_ckpt_path_dict\":path_to_tracknet_ckpt,\n",
    "            'gin':gin.config_str(), \n",
    "            'model': '%r' % model_tr,\n",
    "            'NUM_POINTS_TO_SEARCH':NUM_POINTS_TO_SEARCH\n",
    "        }\n",
    "        return model_hash, [model_tr, model_g]\n",
    "\n",
    "DEVICE = 'cuda' if torch.cuda.is_available() else 'cpu'\n",
    "print(DEVICE)\n",
    "import ariadne.transformations  as trn\n",
    "\n",
    "tracknet_transformer = trn.Compose([\n",
    "    #trn.DropShort(num_stations=4),\n",
    "    #trn.DropTracksWithHoles(),\n",
    "    #trn.DropSpinningTracks(),\n",
    "    #trn.BakeStationValues(values=z_values),\n",
    "    #trn.ConstraintsNormalize(constraints=constraints),\n",
    "    #trn.ToCylindrical()\n",
    "    ]\n",
    ")\n",
    "\n",
    "graphnet_transformer = trn.Compose([\n",
    "\n",
    "])\n",
    "\n",
    "COLS = ['x', 'y', 'z']\n",
    "\n",
    "def build_index(target_df):\n",
    "    cont = np.ascontiguousarray(target_df[COLS].values)\n",
    "    return store_in_index(cont)\n",
    "\n",
    "def build_hits(target_df):\n",
    "    cont = np.ascontiguousarray(target_df[COLS].values)\n",
    "    return cont\n",
    "\n",
    "def preprocess_one_event(event_df, n_neighbours=5):\n",
    "    try:\n",
    "        tracknet_data = tracknet_transformer(event_df)\n",
    "    except AssertionError as err:\n",
    "        #print(\"ASS error %r\" % err)\n",
    "        return None\n",
    "    return (tracknet_data, 1)\n",
    "\n",
    "times = []\n",
    "\n",
    "res_1 = None\n",
    "\n",
    "from ariadne.graph_net.dataset import collate_fn\n",
    "\n",
    "def run_tracknet_eval(result_from_prev_step, model, n_neighbours=NUM_POINTS_TO_SEARCH):\n",
    "\n",
    "    with torch.no_grad():\n",
    "        #preds, labels, ellipses = go_over_stations(result_from_prev_step[0].query('not det.isna()'), model[0], n_neighbours)\n",
    "        preds, labels, ellipses = go_over_stations(result_from_prev_step[0], model[0], n_neighbours)\n",
    "\n",
    "    result, new_eventdf = build_df(preds, labels, result_from_prev_step[0])\n",
    "    for col in [f'hit_id_{i}' for i in range(N_STATIONS)]:\n",
    "        result[col] = result[col].astype(int)\n",
    "    if len(result) == 0:\n",
    "        return result\n",
    "    \n",
    "    if only_tracknet:\n",
    "        return result\n",
    "        for col in [f'hit_id_{i}' for i in range(N_STATIONS)]:\n",
    "            result[col] = result[col].apply(lambda x: -1 if x > result_from_prev_step[0].index_old.max() else x)\n",
    "        result['len'] = N_STATIONS - np.argmax(np.fliplr(result[STATION_COLUMNS] >= 0), axis=1)\n",
    "        return result.query('len > 3')\n",
    "\n",
    "    #res_1.append(tracknet_event_to_reverse_graph(result_from_prev_step[0], result))\n",
    "\n",
    "    graph, tracks = tracknet_event_to_graph(new_eventdf, result)\n",
    "    graphs.append(graph)\n",
    "    graphs.append(new_eventdf)\n",
    "    graphs.append(tracks)\n",
    "   # print(len(new_eventdf))\n",
    "    #for col in [f'hit_id_{i}' for i in range(N_STATIONS)]:\n",
    "    #    result[col] = result[col].apply(lambda x: -1 if x > result_from_prev_step[0].index_old.max() else x)\n",
    "    #return result\n",
    "    #X, Ri, Ro, y = graph\n",
    "    #draw_single(X, Ri, Ro, y, c_true=(0, 1, 0, 1), c_fake=(1,0,0,0.5), xcord1=(0, 'x'), xcord2=(1, 'y'), ycord=(2, 'z'))\n",
    "    batch_input, batch_target = collate_fn([graph])\n",
    "    batch_input['inputs'] = [item.to(DEVICE) for item in batch_input['inputs']]\n",
    "\n",
    "    with torch.no_grad():\n",
    "        y_pred = model[1](batch_input['inputs']).cpu().numpy().flatten()\n",
    "    #global res_1\n",
    "    #res_1 = y_pred\n",
    "    #y_pred = graph.y\n",
    "\n",
    "    preds_y = [list(y_pred[track]) for track in tracks]\n",
    "    classes = [np.array(pred).sum() > 0.7 * len(pred) for pred in preds_y]\n",
    "    #classes = [(np.array(pred) > 0.5).all() for pred in preds_y] # each edge needs to achieve > 0.5\n",
    "\n",
    "    result.track_pred = classes\n",
    "    #result = result[classes]\n",
    "    \n",
    "    for col in [f'hit_id_{i}' for i in range(N_STATIONS)]:\n",
    "        result[col] = result[col].apply(lambda x: -1 if x > result_from_prev_step[0].index_old.max() else x)\n",
    "    return result"
   ]
  },
  {
   "cell_type": "code",
   "execution_count": 13,
   "metadata": {
    "pycharm": {
     "name": "#%%\n"
    }
   },
   "outputs": [],
   "source": [
    "from ariadne.utils.base import store_in_index,search_in_index"
   ]
  },
  {
   "cell_type": "code",
   "execution_count": 14,
   "metadata": {
    "pycharm": {
     "name": "#%%\n"
    },
    "tags": []
   },
   "outputs": [],
   "source": [
    "def go_over_stations(df, model, n_neighbours, max_n_stations=9):\n",
    "    max_batch_size = 256\n",
    "    all_hits_index = build_index(df)\n",
    "    tracks_vs_len, all_tracks, multiplicity = get_tracks(df)\n",
    "    #print(tracks_vs_len)\n",
    "    #seeds, target = to_cart(df)\n",
    "    chunk_data_x = get_seeds_only_first_station(df)\n",
    "    #print(chunk_data_x)\n",
    "    #chunk_data_x = np.expand_dims(chunk_data_x, 1)\n",
    "    #index = build_index(target)\n",
    "    # search(target[:2], index)\n",
    "    #chunk_data_x = seeds_to_input(seeds)\n",
    "    chunk_data_len = torch.tensor(np.full(len(chunk_data_x), 1), dtype=torch.int64).to(DEVICE)\n",
    "    chunk_data_mask = np.ones((len(chunk_data_x), 1, 1), dtype=bool)\n",
    "    gru_candidates = []\n",
    "    x_candidates = []\n",
    "    candidate_labels = []\n",
    "    candidate_ellipses = []\n",
    "    for stations_gone in range(1, max_n_stations):\n",
    "        #print(f'===> {stations_gone}')\n",
    "        num_batches = int(len(chunk_data_x) / max_batch_size) + 1\n",
    "        #print(num_batches)\n",
    "        num_right_batches = 0\n",
    "        num_all_batches = 0\n",
    "        next_stage_xs = []\n",
    "        next_stage_lens = []\n",
    "        next_stage_mask = []\n",
    "        if len(chunk_data_x) == 0:\n",
    "            #print('Have zero ellipces on this station! Skipping other stations')\n",
    "            #print(candidate_ellipses)\n",
    "            #print(x_candidates)\n",
    "            #print(candidate_labels)\n",
    "            return x_candidates, candidate_labels, candidate_ellipses\n",
    "        labels_for_empty_el_batch = []\n",
    "        labels_for_full_el_batch = []\n",
    "        station_df = df[df['station']==stations_gone]\n",
    "        current_index = build_index(station_df)\n",
    "        this_station_hits = build_hits(station_df)\n",
    "        for batch_num in range(num_batches):\n",
    "            min_i = max_batch_size*batch_num\n",
    "            max_i = min(max_batch_size + min_i, len(chunk_data_x))\n",
    "            if min_i==max_i:\n",
    "                #print('Have zero ellipces on this station! Skipping other stations')\n",
    "                #print(candidate_ellipses)\n",
    "                #print(x_candidates)\n",
    "                #print(candidate_labels)\n",
    "                return x_candidates, candidate_labels, candidate_ellipses\n",
    "\n",
    "            this_batch_x = torch.tensor(chunk_data_x[min_i: max_i]).to(DEVICE)\n",
    "            this_batch_len = chunk_data_len[min_i: max_i]\n",
    "            this_batch_mask = chunk_data_mask[min_i:max_i]\n",
    "\n",
    "            batch_prediction, batch_gru = model(this_batch_x.float(),\n",
    "                                                     torch.tensor(this_batch_len, dtype=torch.int64).to(DEVICE),\n",
    "                                                     return_gru_states=True)\n",
    "\n",
    "            new_pred = torch.full((len(batch_prediction), 5), z_values_norm_dict[stations_gone], device=DEVICE)\n",
    "            new_pred[:, :2] = batch_prediction[:, -1, :2]\n",
    "            new_pred[:, 3:] = batch_prediction[:, -1, 2:]\n",
    "            batch_prediction = new_pred\n",
    "            batch_gru = batch_gru[:, -1]\n",
    "            \n",
    "            prediction_numpy = batch_prediction.detach().cpu().numpy()\n",
    "            \n",
    "            #print(mask)\n",
    "            #print(model(new_x,\n",
    "            #            torch.tensor(this_batch_len + 1, dtype=torch.int64).to(DEVICE),\n",
    "            #            mask,\n",
    "            #            return_x=True))\n",
    "\n",
    "            #if batch_num == 0:\n",
    "              #  print(f'station {stations_gone+1}, on this station: {len(this_station_hits)} hits' )\n",
    "            if len(this_station_hits) == 0:\n",
    "            #    LOGGER.info('Have zero hits on this station! Skipping other stations')\n",
    "            #    print(candidate_ellipses)\n",
    "            #    print(x_candidates)\n",
    "            #    print(candidate_labels)\n",
    "                return x_candidates, candidate_labels, candidate_ellipses\n",
    "\n",
    "            dists, nearest_hits_index = search_distance(prediction_numpy[:, :3],\n",
    "                                                 current_index, \n",
    "                                                 n_neighbours,\n",
    "                                                 n_dim=3)\n",
    "\n",
    "            nearest_hits = this_station_hits[nearest_hits_index]\n",
    "            nearest_hits, in_ellipse_mask = filter_hits_in_ellipses(prediction_numpy,\n",
    "                                                               nearest_hits,\n",
    "                                                               nearest_hits_index,\n",
    "                                                               filter_station=False,\n",
    "                                                               z_last=True,\n",
    "                                                               find_n=nearest_hits_index.shape[1])\n",
    "            res_1.append(dists[in_ellipse_mask])\n",
    "            nearest_hits = torch.from_numpy(nearest_hits)\n",
    "            nearest_hits_mask = in_ellipse_mask\n",
    "            # here empty ellipses and all inputs for them are saved\n",
    "            empty_xs, empty_ellipses, empty_grus, predicted_ellipses = get_data_for_empty_ellipses(this_batch_x, \n",
    "                                                                               batch_prediction, \n",
    "                                                                               batch_gru, \n",
    "                                                                               nearest_hits_mask)\n",
    "            prolonged_batch_xs, prolonged_grus, prolonged_virt_mask = prolong(this_batch_x,\n",
    "                                                         batch_gru,\n",
    "                                                         nearest_hits_mask,\n",
    "                                                         nearest_hits,\n",
    "                                                         stations_gone,\n",
    "                                                         this_batch_mask,\n",
    "                                                         use_torch=True)\n",
    "            next_stage_xs.append(prolonged_batch_xs)\n",
    "            next_stage_lens.append(np.full(len(prolonged_batch_xs), stations_gone + 1))\n",
    "            next_stage_mask.append(prolonged_virt_mask)\n",
    "            \n",
    "            \n",
    "            if add_virtual:\n",
    "                num_virtuals = (~this_batch_mask).sum(axis=1).flatten()\n",
    "                \n",
    "                new_x = torch.zeros((this_batch_x.shape[0], stations_gone + 1, 3), dtype=float)\n",
    "                new_x[:, :-1] = this_batch_x\n",
    "                new_x[:, -1] = batch_prediction[:, :3]\n",
    "                \n",
    "                #thresh = 0#0.0003\n",
    "                #print(dists[:, 0])\n",
    "                \n",
    "                new_x = new_x[(num_virtuals < max_virtuals) & (dists[:, 0] >= thresh)]\n",
    "                new_mask = this_batch_mask[(num_virtuals < max_virtuals) & (dists[:, 0] >= thresh)]\n",
    "               \n",
    "                \n",
    "                '''\n",
    "                new_x[:, -1, 2] = z_values_norm_dict[stations_gone]\n",
    "                #print('new_x')\n",
    "                #print(new_x)\n",
    "                #print('batch_prediction')\n",
    "                #print(batch_prediction)\n",
    "                mask = torch.ones(max_i - min_i, stations_gone + 1)\n",
    "                mask[:, -1] = False\n",
    "                virtual_cands = model(new_x,\n",
    "                                    torch.tensor(this_batch_len + 1, dtype=torch.int64).to(DEVICE),\n",
    "                                    mask,\n",
    "                                    return_x=True)\n",
    "                '''\n",
    "                next_stage_xs.append(new_x)\n",
    "                next_stage_lens.append(np.full(len(new_x), stations_gone + 1))\n",
    "                next_stage_mask.append(np.append(new_mask, np.zeros((len(new_x), 1, 1), dtype=bool), axis=1))\n",
    "\n",
    "            if stations_gone > 3:\n",
    "                use_empty_ellipses = []\n",
    "                empty_ellipses_station_intersections = []\n",
    "                use_empty_ellipses = torch.ones(len(empty_ellipses), dtype=torch.bool)\n",
    "                empty_xs = empty_xs[use_empty_ellipses]\n",
    "                empty_grus = empty_grus[use_empty_ellipses]\n",
    "                if len(empty_xs) > 0:\n",
    "                    (candidate_labels,\n",
    "                     labels_for_empty_el_batch,\n",
    "                     gru_candidates,\n",
    "                     x_candidates,\n",
    "                     candidate_ellipses) =  get_candidates(empty_xs, \n",
    "                                                     tracks_vs_len[stations_gone],\n",
    "                                                     prolonged_grus[:, -2], \n",
    "                                                     empty_ellipses,\n",
    "                                                     all_hits_index,\n",
    "                                                     candidate_labels, \n",
    "                                                     labels_for_full_el_batch, \n",
    "                                                     gru_candidates, \n",
    "                                                     x_candidates,\n",
    "                                                     candidate_ellipses)\n",
    "                    #print(candidate_ellipses)\n",
    "            if (stations_gone == (max_n_stations-1)): # if we are predicting for last station\n",
    "                if len(prolonged_batch_xs) > 0:  # now we prolong candidates with all hits *in* ellipses\n",
    "                    (candidate_labels,\n",
    "                     labels_for_full_el_batch, \n",
    "                     gru_candidates, \n",
    "                     x_candidates,\n",
    "                     candidate_ellipses) =  get_candidates(prolonged_batch_xs, \n",
    "                                                     tracks_vs_len[stations_gone + 1],\n",
    "                                                     prolonged_grus[:, -1], \n",
    "                                                     predicted_ellipses,\n",
    "                                                     all_hits_index,\n",
    "                                                     candidate_labels, \n",
    "                                                     labels_for_full_el_batch, \n",
    "                                                     gru_candidates, \n",
    "                                                     x_candidates,\n",
    "                                                     candidate_ellipses)\n",
    "\n",
    "        if len(next_stage_xs) > 1:\n",
    "            chunk_data_x = np.concatenate(next_stage_xs, 0)\n",
    "            chunk_data_len = np.concatenate(next_stage_lens, 0)\n",
    "            chunk_data_mask = np.concatenate(next_stage_mask, 0)\n",
    "        else:\n",
    "            try:\n",
    "                chunk_data_x = next_stage_xs[0]\n",
    "                chunk_data_len = next_stage_lens[0]\n",
    "                chunk_data_mask = next_stage_mask[0]\n",
    "            except:\n",
    "                continue\n",
    "    return x_candidates, candidate_labels, candidate_ellipses\n",
    "\n",
    "def get_tracks(df, min_len=4):\n",
    "    tracks = df[df['track'] != -1].groupby('track')\n",
    "    multiplicity = tracks.ngroups\n",
    "    tracks_vs_len = {3: [], 4: [], 5: [], 6: [], 7: [], 8: [], 9: []}\n",
    "    all_tracks = []\n",
    "    for i, track in tracks:\n",
    "        temp_track = track[['x', 'y', 'z']].values\n",
    "        if len(temp_track) >= min_len:\n",
    "            tracks_vs_len[len(temp_track)].append(temp_track)\n",
    "            all_tracks.append(temp_track)\n",
    "    for stations_in_track, this_track_list in tracks_vs_len.items():\n",
    "        if len(this_track_list) > 0:\n",
    "            tracks_vs_len[stations_in_track] = np.stack(this_track_list, 0)\n",
    "    return tracks_vs_len, all_tracks, multiplicity\n",
    "\n",
    "def get_seeds_only_first_station(df, columns=['x','y','z']):\n",
    "    real = df#[df['track']!=-1]\n",
    "    temp1 = real[real.station == 0]\n",
    "    st0_hits = temp1[columns].values\n",
    "    # all possible combinations\n",
    "    seeds = np.zeros((len(temp1), 1, 3))\n",
    "    seeds[:, 0, ] = st0_hits\n",
    "    return seeds\n",
    "\n",
    "def filter_hits_in_ellipses(ellipses, nearest_hits, hits_index, z_last=True, filter_station=True, find_n=10):\n",
    "    \"\"\"Function to get hits, which are in given ellipse.\n",
    "    Space is 3-dimentional, so either first component of ellipce must be z-coordinate or third.\n",
    "    Ellipse semiaxises must include x- and y-axis.\n",
    "    Arguments:\n",
    "        ellipse (np.array of size 5): predicted index with z-component like\n",
    "                                      (x,y,z, x-semiaxis, y_semiaxis) or (z, x,y, x-semiaxis, y_semiaxis)\n",
    "        nearest_hits (np.array of shape (n_hits, 3) or only 3): some hits in 3-dim space\n",
    "        z_last (bool): If True, first component of vector is interpreted as z, if other, third.\n",
    "        filter_station (bool): if True, only hits with same z-coordinate are considered, else all hits\n",
    "    Returns:\n",
    "        numpy.ndarry with filtered hits, all of them in given ellipse, sorted by increasing of distance\n",
    "    \"\"\"\n",
    "    assert nearest_hits.shape[-1] == 3, \"index is 3-dimentional, please add z-coordinate to centers\"\n",
    "    if nearest_hits.ndim < 2:\n",
    "        nearest_hits = np.expand_dims(nearest_hits, 0)\n",
    "    if nearest_hits.ndim < 3:\n",
    "        nearest_hits = np.expand_dims(nearest_hits, 0)\n",
    "    assert ellipses.shape[-1] == 5, \"index is 3-dimentional, you need to provide z-coordinate (z_c, x_c, y_c, x_r, y_r) or (x_c, y_c, z_c, x_r, y_r)\"\n",
    "    #ellipses = np.expand_dims(ellipses, -1)\n",
    "    #find_n = len(nearest_hits)\n",
    "    ellipses = np.expand_dims(ellipses, 2)\n",
    "    #found_hits = nearest_hits.reshape(-1, find_n, nearest_hits.shape[-1])\n",
    "    if z_last:\n",
    "        x_part = (ellipses[:,0].repeat(find_n,1) - nearest_hits[:, :, 0]) / ellipses[:, 3].repeat(find_n,1)\n",
    "        #print(x_part**2)\n",
    "        y_part = (ellipses[:,1].repeat(find_n,1) - nearest_hits[:, :, 1]) / ellipses[:, 4].repeat(find_n,1)\n",
    "        #print(y_part**2)\n",
    "    else:\n",
    "        x_part = (nearest_hits[:, :, 1] - ellipses[:, 1].repeat(find_n, 1)) / ellipses[:, -2].repeat(find_n, 1)\n",
    "        y_part = (nearest_hits[:, :, 2] - ellipses[:, 2].repeat(find_n, 1)) / ellipses[:, -1].repeat(find_n, 1)\n",
    "    left_side = x_part**2 + y_part**2\n",
    "    is_in_ellipse = left_side <= 1\n",
    "    is_in_ellipse *= hits_index != -1\n",
    "    return nearest_hits, is_in_ellipse\n",
    "\n",
    "def get_data_for_empty_ellipses(x, preds, grus, mask):\n",
    "    empty_ellipses_mask = (mask.sum(axis=-1) == 0) # if nothing is found in ellipse\n",
    "    empty_ellipses = preds[empty_ellipses_mask]#.detach().cpu().numpy()\n",
    "    full_ellipses = preds[~empty_ellipses_mask]\n",
    "    empty_xs = x[empty_ellipses_mask]\n",
    "    empty_grus = grus[empty_ellipses_mask]#.detach().cpu().numpy()\n",
    "    return empty_xs, empty_ellipses, empty_grus, full_ellipses\n",
    "\n",
    "def prolong(x, gru, nearest_hits_mask, nearest_hits, stations_gone, virtual_mask, use_torch=False):\n",
    "    if use_torch:\n",
    "        xs_for_prolong = x.unsqueeze(1).repeat((1, nearest_hits_mask.shape[-1], 1,1))\n",
    "        grus_for_prolong = gru.unsqueeze(1)\n",
    "        grus_for_prolong = grus_for_prolong.repeat((1, nearest_hits_mask.shape[-1], 1))\n",
    "        #virt_mask_for_prolong = np.expand_dims(virtual_mask, 1).repeat(nearest_hits_mask.shape[-1], 1)\n",
    "\n",
    "        virt_mask_for_prolong = np.tile(np.expand_dims(virtual_mask, axis=1), (1, nearest_hits_mask.shape[-1], 1, 1))\n",
    "\n",
    "        prolonged_xs = torch.zeros((len(xs_for_prolong),\n",
    "                                    nearest_hits_mask.shape[-1],\n",
    "                                    xs_for_prolong.shape[-2] + 1,\n",
    "                                    xs_for_prolong.shape[-1]))\n",
    "        prolonged_xs[:, :, :xs_for_prolong.shape[-2], :] = xs_for_prolong\n",
    "        prolonged_xs[:, :, xs_for_prolong.shape[-2], :] = nearest_hits\n",
    "        prolonged_xs = prolonged_xs.reshape(-1, stations_gone + 1, 3)\n",
    "        \n",
    "        prolonged_virt_mask = np.ones((len(xs_for_prolong),\n",
    "                                    nearest_hits_mask.shape[-1],\n",
    "                                    stations_gone + 1,\n",
    "                                    1))\n",
    "        prolonged_virt_mask[:, :, :stations_gone] = virt_mask_for_prolong\n",
    "        prolonged_virt_mask = prolonged_virt_mask.reshape(-1, stations_gone + 1, 1)\n",
    "        \n",
    "        nearest_hits_mask = nearest_hits_mask.reshape(-1)\n",
    "        \n",
    "        prolonged_virt_mask = prolonged_virt_mask[nearest_hits_mask].astype(bool)\n",
    "        \n",
    "        prolonged_xs = prolonged_xs[nearest_hits_mask]\n",
    "        prolonged_grus = grus_for_prolong.reshape(-1, grus_for_prolong.shape[-1])\n",
    "        prolonged_grus = prolonged_grus[nearest_hits_mask]\n",
    "    else:\n",
    "        xs_for_prolong = np.expand_dims(x, 1).repeat(nearest_hits_mask.shape[-1], 1)\n",
    "        grus_for_prolong = np.expand_dims(gru.detach().cpu().numpy(), 1).repeat(nearest_hits_mask.shape[-1], 1)\n",
    "        prolonged_xs = np.zeros(\n",
    "            (len(xs_for_prolong), nearest_hits_mask.shape[-1], xs_for_prolong.shape[2] + 1, 3))\n",
    "\n",
    "        prolonged_xs[:, :, :xs_for_prolong.shape[2], :] = xs_for_prolong\n",
    "        prolonged_xs[:, :, xs_for_prolong.shape[2], :] = nearest_hits\n",
    "        prolonged_xs = prolonged_xs[nearest_hits_mask].reshape(-1, stations_gone + 1, 3)\n",
    "        prolonged_grus = grus_for_prolong[nearest_hits_mask].reshape(-1,\n",
    "                                                                     grus_for_prolong.shape[-2],\n",
    "                                                                     grus_for_prolong.shape[-1])\n",
    "    return prolonged_xs, prolonged_grus, prolonged_virt_mask\n",
    "\n",
    "def get_candidates(preds, targets, grus, ellipses, index, labels,  labels_for_batch, gru_candidates, track_candidates, candidate_ellipses):\n",
    "    orig_ellipses = torch.zeros((len(ellipses), 4))\n",
    "    orig_ellipses[:, :2] = ellipses[:, :2]\n",
    "    orig_ellipses[:, 2:] = ellipses[:, 3:]\n",
    "    labels_for_ellipses = get_labels_faiss(targets,\n",
    "                                     preds.detach().cpu().numpy(), index=index)\n",
    "    labels_for_batch.append(labels_for_ellipses)\n",
    "    gru_candidates.extend(grus)  # because we need gru for predicted ellipse\n",
    "    labels.extend(labels_for_ellipses)\n",
    "    track_candidates.extend(preds)\n",
    "    candidate_ellipses.extend(orig_ellipses)\n",
    "    return labels, labels_for_batch, gru_candidates, track_candidates, candidate_ellipses\n",
    "\n",
    "def get_labels_faiss(gt_tracks, predicted_tracks, index):\n",
    "    labels_for_ellipses = np.zeros(len(predicted_tracks))\n",
    "    assert len(predicted_tracks) > 0, 'Can not compute labels for empty set of tracks!'\n",
    "    if len(gt_tracks) > 0:\n",
    "        tracks_len = gt_tracks.shape[-2]\n",
    "        gt_tracks = gt_tracks.reshape(-1, gt_tracks.shape[-1])\n",
    "        predicted_tracks = predicted_tracks.reshape(-1, gt_tracks.shape[-1])\n",
    "        gt_index = search_in_index(gt_tracks, index, 1, n_dim=3).flatten().reshape(-1, tracks_len)\n",
    "        predicted_index = search_in_index(predicted_tracks, index, 1, n_dim=3).flatten().reshape(-1, tracks_len)\n",
    "        expanded_gt = np.expand_dims(gt_index, 0).repeat(len(predicted_index), 0)\n",
    "        expanded_preds = np.expand_dims(predicted_index, 1).repeat(expanded_gt.shape[1], 1)\n",
    "        labels_for_ellipses += np.any(np.all(np.equal(expanded_gt, expanded_preds), axis=-1),axis=-1)\n",
    "        assert len(labels_for_ellipses) == len(expanded_preds), 'length of labels and xs is different!'\n",
    "    return labels_for_ellipses\n",
    "\n",
    "def build_df(preds, labels, event_df):\n",
    "    curr_event = event_df.event.values[0]\n",
    "    n_stations = 9\n",
    "    \n",
    "    new_columns = [*[f'hit_id_{i}' for i in range(n_stations)], 'event', 'track_pred']\n",
    "    new_df = pd.DataFrame(columns=new_columns)\n",
    "    new_df.track_pred = new_df.track_pred.astype('bool')\n",
    "    \n",
    "    #if len(preds) > 10000:\n",
    "    #    print(f'{len(preds)} preds found in {curr_event}, skipping')\n",
    "    #    return new_df, event_df\n",
    "\n",
    "    big_index = build_index(event_df)\n",
    "    event_idxs = np.array(event_df.index_old)\n",
    "    tracks_list = []\n",
    "    new_hits = []\n",
    "    max_index = event_df.index.max()\n",
    "\n",
    "    for idx1, pred in enumerate(preds):\n",
    "        found, num_virtuals = searching(pred, big_index)\n",
    "        hit_list = event_idxs[found]\n",
    "        if -1 in found:\n",
    "            hit_list[found == -1] = list(range(max_index + 1, max_index + 1 + num_virtuals))\n",
    "        to_pad = n_stations - len(hit_list)\n",
    "        padded_hits = np.pad(hit_list, (0, to_pad), constant_values=-1)\n",
    "        \n",
    "        padded_hits = np.append(padded_hits, curr_event)\n",
    "        #print(num_virtuals)\n",
    "\n",
    "        \n",
    "        if num_virtuals < 3:\n",
    "            padded_hits = np.append(padded_hits, True)\n",
    "            \"\"\"\n",
    "            virtual_hits = np.ascontiguousarray(pred.cpu())[found < 0]\n",
    "            new_hits_arr = np.full((len(virtual_hits), 7), curr_event).astype(float)\n",
    "            new_hits_arr[:, 1:4] = virtual_hits\n",
    "            new_hits_arr[:, 4] = np.where((found < 0))[0]\n",
    "            new_hits_arr[:, 5] = [-1] * len(virtual_hits)\n",
    "            new_hits_arr[:, 6] = list(range(max_index + 1, max_index + 1 + num_virtuals))\n",
    "            '''new_df = pd.DataFrame({\n",
    "                'event': [curr_event] * len(virtual_hits),\n",
    "                'x': virtual_hits[:, 0],\n",
    "                'y': virtual_hits[:, 1],\n",
    "                'z': virtual_hits[:, 2],\n",
    "                'station': np.where((found < 0))[0],\n",
    "                'track': [-1] * len(virtual_hits),\n",
    "                'index_old': list(range(max_index + 1, max_index + 1 + num_virtuals))\n",
    "            })'''\n",
    "            max_index += num_virtuals\n",
    "            new_hits.append(new_hits_arr)        \"\"\"\n",
    "        else:\n",
    "            continue\n",
    "            padded_hits = np.append(padded_hits, False)\n",
    "        \n",
    "        tracks_list.append(padded_hits)\n",
    "    res_df = pd.DataFrame(tracks_list, columns=new_columns)\n",
    "    res_df.track_pred = res_df.track_pred.astype('bool')\n",
    "    \n",
    "    if new_hits:\n",
    "        new_hits = pd.DataFrame(np.concatenate(new_hits), columns=['event', 'x', 'y', 'z', 'station', 'track', 'index_old'])\n",
    "    else:\n",
    "        new_hits = pd.DataFrame([], columns=['event', 'x', 'y', 'z', 'station', 'track', 'index_old'])\n",
    "    new_eventdf = pd.concat([event_df, new_hits], ignore_index=True)\n",
    "    return res_df, new_eventdf\n",
    "\n",
    "#def searching(points, index):\n",
    "#    cont = np.ascontiguousarray(points.cpu())\n",
    "#    return search_in_index(cont, index, 1, n_dim=3).flatten()\n",
    "\n",
    "def searching(points, index):\n",
    "    cont = np.ascontiguousarray(points.cpu())\n",
    "    res = search_withfakes(cont, index, 1, n_dim=3)\n",
    "    return res[0].flatten(), res[1]\n",
    "\n",
    "def search_withfakes(centers, index, find_n=100, n_dim=2):\n",
    "    assert centers.shape[1] == n_dim, f'index is {n_dim}-dimentional, please add z-coordinate to centers'\n",
    "    dist, res = index.search(np.ascontiguousarray(centers.astype('float32')), find_n)\n",
    "    res[dist != 0] = -1\n",
    "    #res = np.where(dist == 0, i, -1)\n",
    "    num_virtuals = (res < 0).sum()\n",
    "    return res, num_virtuals\n",
    "\n",
    "def search_distance(centers, index, find_n=100, n_dim=2):\n",
    "    assert centers.shape[1] == n_dim, f'index is {n_dim}-dimentional, please add z-coordinate to centers'\n",
    "    dist, i = index.search(np.ascontiguousarray(centers.astype('float32')), find_n)\n",
    "    return dist, i"
   ]
  },
  {
   "cell_type": "code",
   "execution_count": 15,
   "metadata": {
    "pycharm": {
     "name": "#%%\n"
    }
   },
   "outputs": [],
   "source": [
    "from ariadne.graph_net.graph_utils.graph import Graph, save_graphs"
   ]
  },
  {
   "cell_type": "code",
   "execution_count": 16,
   "metadata": {
    "pycharm": {
     "name": "#%%\n"
    }
   },
   "outputs": [],
   "source": [
    "res_tracks = []"
   ]
  },
  {
   "cell_type": "code",
   "execution_count": 17,
   "metadata": {
    "pycharm": {
     "name": "#%%\n"
    },
    "tags": []
   },
   "outputs": [
    {
     "name": "stdout",
     "output_type": "stream",
     "text": [
      "Sun Aug 28 13:39:58 2022       \n",
      "+-----------------------------------------------------------------------------+\n",
      "| NVIDIA-SMI 515.43.04    Driver Version: 515.43.04    CUDA Version: 11.7     |\n",
      "|-------------------------------+----------------------+----------------------+\n",
      "| GPU  Name        Persistence-M| Bus-Id        Disp.A | Volatile Uncorr. ECC |\n",
      "| Fan  Temp  Perf  Pwr:Usage/Cap|         Memory-Usage | GPU-Util  Compute M. |\n",
      "|                               |                      |               MIG M. |\n",
      "|===============================+======================+======================|\n",
      "|   0  Tesla V100-SXM2...  Off  | 00000000:1A:00.0 Off |                    0 |\n",
      "| N/A   37C    P0    54W / 300W |  28903MiB / 32768MiB |      0%      Default |\n",
      "|                               |                      |                  N/A |\n",
      "+-------------------------------+----------------------+----------------------+\n",
      "|   1  Tesla V100-SXM2...  Off  | 00000000:1C:00.0 Off |                    0 |\n",
      "| N/A   31C    P0    42W / 300W |      3MiB / 32768MiB |      0%      Default |\n",
      "|                               |                      |                  N/A |\n",
      "+-------------------------------+----------------------+----------------------+\n",
      "|   2  Tesla V100-SXM2...  Off  | 00000000:1D:00.0 Off |                    0 |\n",
      "| N/A   33C    P0    42W / 300W |      3MiB / 32768MiB |      0%      Default |\n",
      "|                               |                      |                  N/A |\n",
      "+-------------------------------+----------------------+----------------------+\n",
      "|   3  Tesla V100-SXM2...  Off  | 00000000:1E:00.0 Off |                    0 |\n",
      "| N/A   34C    P0    41W / 300W |      3MiB / 32768MiB |      0%      Default |\n",
      "|                               |                      |                  N/A |\n",
      "+-------------------------------+----------------------+----------------------+\n",
      "                                                                               \n",
      "+-----------------------------------------------------------------------------+\n",
      "| Processes:                                                                  |\n",
      "|  GPU   GI   CI        PID   Type   Process name                  GPU Memory |\n",
      "|        ID   ID                                                   Usage      |\n",
      "|=============================================================================|\n",
      "|    0   N/A  N/A     89397      C   ...mofey/venvtest/bin/python     4719MiB |\n",
      "|    0   N/A  N/A    204448      C   ...mofey/venvtest/bin/python    24179MiB |\n",
      "+-----------------------------------------------------------------------------+\n"
     ]
    }
   ],
   "source": [
    "!nvidia-smi"
   ]
  },
  {
   "cell_type": "code",
   "execution_count": 18,
   "metadata": {
    "pycharm": {
     "name": "#%%\n"
    }
   },
   "outputs": [],
   "source": [
    "from tqdm import tqdm"
   ]
  },
  {
   "cell_type": "code",
   "execution_count": 19,
   "metadata": {
    "pycharm": {
     "name": "#%%\n"
    }
   },
   "outputs": [],
   "source": [
    "N_STATIONS = 9"
   ]
  },
  {
   "cell_type": "code",
   "execution_count": 20,
   "metadata": {
    "pycharm": {
     "name": "#%%\n"
    }
   },
   "outputs": [],
   "source": [
    "STATION_COLUMNS = [f'hit_id_{i}' for i in range(9)]"
   ]
  },
  {
   "cell_type": "code",
   "execution_count": 21,
   "metadata": {
    "pycharm": {
     "name": "#%%\n"
    }
   },
   "outputs": [
    {
     "data": {
      "text/plain": [
       "array([-0.9956474 , -0.95759094, -0.8541868 , -0.6772535 , -0.38824558,\n",
       "        0.17170787,  0.4356706 ,  0.7305032 ,  0.99823093], dtype=float32)"
      ]
     },
     "execution_count": 21,
     "metadata": {},
     "output_type": "execute_result"
    }
   ],
   "source": [
    "z_values_norm = np.array(list(z_values.values()), dtype='float32')\n",
    "z_values_norm = 2 * (z_values_norm - constraints['z'][0]) / (constraints['z'][1] - constraints['z'][0]) - 1\n",
    "z_values_norm"
   ]
  },
  {
   "cell_type": "code",
   "execution_count": 22,
   "metadata": {
    "collapsed": false,
    "jupyter": {
     "outputs_hidden": false
    },
    "pycharm": {
     "name": "#%%\n"
    }
   },
   "outputs": [
    {
     "data": {
      "text/plain": [
       "{0: -0.9956473708152771,\n",
       " 1: -0.9575909376144409,\n",
       " 2: -0.8541867733001709,\n",
       " 3: -0.6772534847259521,\n",
       " 4: -0.3882455825805664,\n",
       " 5: 0.1717078685760498,\n",
       " 6: 0.4356706142425537,\n",
       " 7: 0.7305032014846802,\n",
       " 8: 0.9982309341430664}"
      ]
     },
     "execution_count": 22,
     "metadata": {},
     "output_type": "execute_result"
    }
   ],
   "source": [
    "z_values_norm_dict = dict(zip(range(N_STATIONS), list(z_values_norm.astype('float'))))\n",
    "z_values_norm_dict"
   ]
  },
  {
   "cell_type": "code",
   "execution_count": 23,
   "metadata": {
    "pycharm": {
     "name": "#%%\n"
    },
    "tags": []
   },
   "outputs": [
    {
     "data": {
      "text/plain": [
       "{0: 12.344,\n",
       " 1: 15.614,\n",
       " 2: 24.499,\n",
       " 3: 39.702,\n",
       " 4: 64.535,\n",
       " 5: 112.649,\n",
       " 6: 135.33,\n",
       " 7: 160.6635,\n",
       " 8: 183.668}"
      ]
     },
     "execution_count": 23,
     "metadata": {},
     "output_type": "execute_result"
    }
   ],
   "source": [
    "z_values"
   ]
  },
  {
   "cell_type": "code",
   "execution_count": 24,
   "metadata": {
    "pycharm": {
     "name": "#%%\n"
    },
    "tags": []
   },
   "outputs": [],
   "source": [
    "def process_track(track, event_df, models, graph_scores):\n",
    "    track_result = torch.zeros(1, len(track) - 1, 14)\n",
    "\n",
    "    track_result[:, :, :3] = track[:-1]#start point\n",
    "    track_result[:, :, 3:6] = track[1:]#end point\n",
    "\n",
    "    ellipses = models[0](torch.unsqueeze(track, 0).to(DEVICE), torch.tensor([len(track) - 1], dtype=torch.int64).to(DEVICE))\n",
    "    track_result[:, :, 6:10] = ellipses # ex, ey, r1, r2\n",
    "\n",
    "    z_values_torch = torch.from_numpy(z_values_norm)\n",
    "\n",
    "    new_ellipse = torch.zeros(len(track) - 1, 5, device=DEVICE)\n",
    "    new_ellipse[:, :2] = ellipses[:, :, :2]\n",
    "    new_ellipse[:, 2] = z_values_torch[1:len(track)]\n",
    "    new_ellipse[:, 3:] = ellipses[:, :, 2:]\n",
    "    ellipses = torch.unsqueeze(new_ellipse, 0)\n",
    "    for station in range(1, len(track)):\n",
    "        station_df = event_df[event_df['station']==station]\n",
    "        current_index = build_index(station_df)\n",
    "        this_station_hits = build_hits(station_df)\n",
    "\n",
    "        nearest_hits_index = search_in_index(ellipses[:, station - 1].detach().cpu().numpy()[:, :3],\n",
    "                                             current_index,\n",
    "                                             NUM_POINTS_TO_SEARCH,\n",
    "                                             n_dim=3)\n",
    "        nearest_hits = this_station_hits[nearest_hits_index]\n",
    "\n",
    "        nearest_hits, in_ellipse_mask = filter_hits_in_ellipses(ellipses[:, station - 1].detach().cpu().numpy(),\n",
    "                                                                nearest_hits,\n",
    "                                                                nearest_hits_index,\n",
    "                                                                filter_station=False,\n",
    "                                                                z_last=True,\n",
    "                                                                find_n=nearest_hits_index.shape[1])\n",
    "        nearest_hits = torch.from_numpy(nearest_hits.astype('float32')).to(DEVICE)\n",
    "        hits = nearest_hits[[in_ellipse_mask]]\n",
    "\n",
    "        distances = torch.cdist(ellipses[:, station - 1, :3], hits)\n",
    "\n",
    "        track_result[:, station - 1, 10] = len(hits) / float(NUM_POINTS_TO_SEARCH) # nhits\n",
    "        track_result[:, station - 1, 11] = distances.mean() # mean distance\n",
    "        track_result[:, station - 1, 12] = distances.var() if len(hits) > 1 else 1e-9 # var distance\n",
    "\n",
    "    track_result[:, :, 13] = torch.from_numpy(graph_scores.astype('float32')).to(DEVICE)\n",
    "\n",
    "    return track_result"
   ]
  },
  {
   "cell_type": "code",
   "execution_count": 25,
   "metadata": {
    "pycharm": {
     "name": "#%%\n"
    }
   },
   "outputs": [],
   "source": [
    "from ariadne.graph_net.graph_utils.graph_prepare_utils import to_pandas_graph_from_df, get_pd_line_graph, construct_output_graph, get_supernodes_df"
   ]
  },
  {
   "cell_type": "code",
   "execution_count": 26,
   "metadata": {
    "collapsed": false,
    "jupyter": {
     "outputs_hidden": false
    },
    "pycharm": {
     "name": "#%%\n"
    }
   },
   "outputs": [],
   "source": [
    "def tracknet_event_to_segments(event_df, tracknet_result):\n",
    "    STATIONS_COLUMNS = [f'hit_id_{i}' for i in range(N_STATIONS)]\n",
    "\n",
    "    hits = list(set(tracknet_result[STATIONS_COLUMNS].values.flatten()))\n",
    "    if -1 in hits:\n",
    "        hits.remove(-1)\n",
    "\n",
    "    event_df = event_df.set_index('index_old')\n",
    "    X_df = event_df.loc[hits][['x', 'y', 'z', 'event', 'track', 'station']].sort_index().reset_index()\n",
    "    n_nodes = len(X_df)\n",
    "    X = X_df[['x', 'y', 'z']].values.astype(np.float32)\n",
    "\n",
    "    edges = []\n",
    "    for i in range(N_STATIONS - 1):\n",
    "        edges_1 = tracknet_result[[STATIONS_COLUMNS[i], STATIONS_COLUMNS[i + 1]]].values\n",
    "        station_from = np.full((len(edges_1), 1), i)\n",
    "        edges_1 = np.hstack([edges_1, station_from])\n",
    "        edges.append(edges_1)\n",
    "    edges = np.unique(np.concatenate(edges), axis=0)\n",
    "    edges = edges[(edges >= 0).all(axis=1)].astype(int)\n",
    "\n",
    "    res_df = pd.DataFrame()\n",
    "    res_df['event'] = [event_df.event.iloc[0]] * len(edges)\n",
    "    #print(event_df)\n",
    "\n",
    "    edge_index_p = pd.Index(edges[:, 0])\n",
    "    edge_index_c = pd.Index(edges[:, 1])\n",
    "\n",
    "    res_df['index_old_prev'] = edges[:, 0]\n",
    "    res_df['x_prev'] = event_df.x.loc[edge_index_p].values\n",
    "    res_df['y_prev'] = event_df.y.loc[edge_index_p].values\n",
    "    res_df['z_prev'] = event_df.z.loc[edge_index_p].values\n",
    "    res_df['track_prev'] = event_df.track.loc[edge_index_p].values\n",
    "    res_df['station_prev'] = edges[:, 2]\n",
    "    res_df['index_old_current'] = edges[:, 1]\n",
    "    res_df['x_current'] = event_df.x.loc[edge_index_c].values\n",
    "    res_df['y_current'] = event_df.y.loc[edge_index_c].values\n",
    "    res_df['z_current'] = event_df.z.loc[edge_index_c].values\n",
    "    res_df['track_current'] = event_df.track.loc[edge_index_c].values\n",
    "    res_df['station_current'] = edges[:, 2] + 1\n",
    "    return res_df\n",
    "\n",
    "def tracknet_event_to_reverse_graph(event_df, result_df):\n",
    "    segments = tracknet_event_to_segments(event_df, result_df)\n",
    "    reversed = get_pd_line_graph(segments, None, None, None, '_prev', '_current', {'axes': ['x', 'y', 'z'], 'suffix_p': '_prev', 'suffix_c': '_current', 'pi_fix': False})\n",
    "    if len(reversed[0]) == 0:\n",
    "        print(reversed[0])\n",
    "        print()\n",
    "        print(event_df)\n",
    "        print()\n",
    "        print(result_df)\n",
    "    graph = construct_output_graph(reversed[0], reversed[1], ['x_p', 'x_c', 'y_p', 'y_c', 'z_p', 'z_c'],\n",
    "                                   [1., 1., 1., 1., 1., 1.], 'edge_index_p', 'edge_index_c')\n",
    "\n",
    "    STATIONS_COLUMNS = [f'hit_id_{i}' for i in range(N_STATIONS)]\n",
    "    edges = reversed[1][['from_ind', 'cur_ind', 'to_ind']].values\n",
    "    tracks = []\n",
    "    for ind, track in result_df[STATIONS_COLUMNS].iterrows():\n",
    "        tracks.append([])\n",
    "        track = np.array(track)\n",
    "        track = track[track > 0]\n",
    "        for i in range(len(track) - 2):\n",
    "            edge = track[[i, i+1, i+2]]\n",
    "            edge_ind = np.where((edges == edge).all(axis=1))[0][0]\n",
    "            tracks[-1].append(edge_ind)\n",
    "\n",
    "    return graph, tracks"
   ]
  },
  {
   "cell_type": "code",
   "execution_count": 27,
   "metadata": {
    "pycharm": {
     "name": "#%%\n"
    }
   },
   "outputs": [],
   "source": [
    "def tracknet_event_to_graph(event_df, tracknet_result):\n",
    "    STATIONS_COLUMNS = [f'hit_id_{i}' for i in range(N_STATIONS)]\n",
    "\n",
    "    hits = list(set(tracknet_result[STATIONS_COLUMNS].values.flatten()))\n",
    "    if -1 in hits:\n",
    "        hits.remove(-1)\n",
    "\n",
    "    event_df = event_df.set_index('index_old')\n",
    "    X_df = event_df.loc[hits][['x', 'y', 'z', 'event', 'track', 'station']].sort_index().reset_index()\n",
    "    n_nodes = len(X_df)\n",
    "    X = X_df[['x', 'y', 'z']].values.astype(np.float32)\n",
    "    edges = []\n",
    "    for i in range(N_STATIONS - 1):\n",
    "        edges_1 = tracknet_result[[STATIONS_COLUMNS[i], STATIONS_COLUMNS[i + 1]]].values\n",
    "        edges.append(edges_1)\n",
    "    global res_1\n",
    "    res_1 = []\n",
    "    res_1.append(tracknet_result)\n",
    "    res_1.append(event_df)\n",
    "    edges = np.unique(np.concatenate(edges), axis=0)\n",
    "    edges = edges[(edges >= 0).all(axis=1)].astype(int)\n",
    "    \n",
    "    res_1.append(edges.copy())\n",
    "    \n",
    "    n_tracks = len(tracknet_result)\n",
    "    tracks = []\n",
    "    for ind, track in tracknet_result[STATIONS_COLUMNS].iterrows():\n",
    "        tracks.append([])\n",
    "        track = np.array(track)\n",
    "        track = track[track > 0]\n",
    "        for i in range(len(track) - 1):\n",
    "            edge = track[[i, i+1]]\n",
    "            edge_ind = np.where((edges == edge).all(axis=1))[0][0]\n",
    "            tracks[-1].append(edge_ind)\n",
    "\n",
    "    n_edges = len(edges)\n",
    "    edges[:, 0] = [np.where(X_df.index_old.values == x)[0][0] for x in edges[:, 0]]\n",
    "    edges[:, 1] = [np.where(X_df.index_old.values == x)[0][0] for x in edges[:, 1]]\n",
    "\n",
    "    edge_track = X_df.track.values\n",
    "    y = np.zeros(n_edges, dtype=np.float32)\n",
    "    #y[:] = (edge_track[edges[:, 0]] == edge_track[edges[:, 1]]) & (edge_track[edges[:, 0]] != -1)\n",
    "\n",
    "    Ri = np.zeros((n_nodes, n_edges), dtype=np.float32)\n",
    "    Ri[edges[:, 0], range(n_edges)] = 1\n",
    "    Ro = np.zeros((n_nodes, n_edges), dtype=np.float32)\n",
    "    Ro[edges[:, 1], range(n_edges)] = 1\n",
    "    \n",
    "    res_1.append(Graph(X, Ri, Ro, y))\n",
    "    return Graph(X, Ri, Ro, y), tracks"
   ]
  },
  {
   "cell_type": "code",
   "execution_count": 28,
   "metadata": {
    "pycharm": {
     "name": "#%%\n"
    },
    "tags": []
   },
   "outputs": [
    {
     "name": "stdout",
     "output_type": "stream",
     "text": [
      "total 70G\n",
      "-rw-rw-r--. 1 pgonchar hybrilit 1.6G Dec 24  2020 simdata_ArPb_3.2AGeV_mb_10.txt\n",
      "-rw-rw-r--. 1 pgonchar hybrilit 1.6G Dec 24  2020 simdata_ArPb_3.2AGeV_mb_11.txt\n",
      "-rw-rw-r--. 1 pgonchar hybrilit 1.6G Dec 24  2020 simdata_ArPb_3.2AGeV_mb_12.txt\n",
      "-rw-rw-r--. 1 pgonchar hybrilit 1.6G Dec 25  2020 simdata_ArPb_3.2AGeV_mb_13.txt\n",
      "-rw-rw-r--. 1 pgonchar hybrilit 1.6G Dec 25  2020 simdata_ArPb_3.2AGeV_mb_14.txt\n",
      "-rw-rw-r--. 1 pgonchar hybrilit 1.6G Dec 25  2020 simdata_ArPb_3.2AGeV_mb_16.txt\n",
      "-rw-rw-r--. 1 pgonchar hybrilit 1.6G Dec 25  2020 simdata_ArPb_3.2AGeV_mb_17.txt\n",
      "-rw-rw-r--. 1 pgonchar hybrilit 1.6G Dec 25  2020 simdata_ArPb_3.2AGeV_mb_18.txt\n",
      "-rw-rw-r--. 1 pgonchar hybrilit 1.6G Dec 25  2020 simdata_ArPb_3.2AGeV_mb_19.txt\n",
      "-rw-rw-r--. 1 pgonchar hybrilit 1.6G Dec 25  2020 simdata_ArPb_3.2AGeV_mb_1.txt\n",
      "-rw-rw-r--. 1 pgonchar hybrilit 1.6G Dec 25  2020 simdata_ArPb_3.2AGeV_mb_20.txt\n",
      "-rw-rw-r--. 1 pgonchar hybrilit 1.6G Dec 25  2020 simdata_ArPb_3.2AGeV_mb_21.txt\n",
      "-rw-rw-r--. 1 pgonchar hybrilit 1.6G Dec 28  2020 simdata_ArPb_3.2AGeV_mb_22.txt\n",
      "-rw-rw-r--. 1 pgonchar hybrilit 1.6G Dec 28  2020 simdata_ArPb_3.2AGeV_mb_23.txt\n",
      "-rw-rw-r--. 1 pgonchar hybrilit 1.6G Dec 28  2020 simdata_ArPb_3.2AGeV_mb_24.txt\n",
      "-rw-rw-r--. 1 pgonchar hybrilit 1.6G Dec 28  2020 simdata_ArPb_3.2AGeV_mb_25.txt\n",
      "-rw-rw-r--. 1 pgonchar hybrilit 1.6G Dec 28  2020 simdata_ArPb_3.2AGeV_mb_26.txt\n",
      "-rw-rw-r--. 1 pgonchar hybrilit 1.6G Dec 28  2020 simdata_ArPb_3.2AGeV_mb_27.txt\n",
      "-rw-rw-r--. 1 pgonchar hybrilit 1.6G Dec 28  2020 simdata_ArPb_3.2AGeV_mb_28.txt\n",
      "-rw-rw-r--. 1 pgonchar hybrilit 1.6G Dec 28  2020 simdata_ArPb_3.2AGeV_mb_29.txt\n",
      "-rw-rw-r--. 1 pgonchar hybrilit 1.6G Dec 25  2020 simdata_ArPb_3.2AGeV_mb_2.txt\n",
      "-rw-rw-r--. 1 pgonchar hybrilit 1.6G Dec 28  2020 simdata_ArPb_3.2AGeV_mb_30.txt\n",
      "-rw-rw-r--. 1 pgonchar hybrilit 1.6G Dec 28  2020 simdata_ArPb_3.2AGeV_mb_31.txt\n",
      "-rw-rw-r--. 1 pgonchar hybrilit 1.6G Dec 28  2020 simdata_ArPb_3.2AGeV_mb_32.txt\n",
      "-rw-rw-r--. 1 pgonchar hybrilit 1.6G Dec 28  2020 simdata_ArPb_3.2AGeV_mb_33.txt\n",
      "-rw-rw-r--. 1 pgonchar hybrilit 1.6G Dec 28  2020 simdata_ArPb_3.2AGeV_mb_34.txt\n",
      "-rw-rw-r--. 1 pgonchar hybrilit 1.6G Dec 28  2020 simdata_ArPb_3.2AGeV_mb_35.txt\n",
      "-rw-rw-r--. 1 pgonchar hybrilit 1.6G Dec 28  2020 simdata_ArPb_3.2AGeV_mb_36.txt\n",
      "-rw-rw-r--. 1 pgonchar hybrilit 1.6G Dec 28  2020 simdata_ArPb_3.2AGeV_mb_37.txt\n",
      "-rw-rw-r--. 1 pgonchar hybrilit 1.6G Dec 28  2020 simdata_ArPb_3.2AGeV_mb_38.txt\n",
      "-rw-rw-r--. 1 pgonchar hybrilit 1.6G Dec 28  2020 simdata_ArPb_3.2AGeV_mb_39.txt\n",
      "-rw-rw-r--. 1 pgonchar hybrilit 1.6G Dec 25  2020 simdata_ArPb_3.2AGeV_mb_3.txt\n",
      "-rw-rw-r--. 1 pgonchar hybrilit 1.6G Dec 28  2020 simdata_ArPb_3.2AGeV_mb_40.txt\n",
      "-rw-rw-r--. 1 pgonchar hybrilit 1.6G Dec 28  2020 simdata_ArPb_3.2AGeV_mb_42.txt\n",
      "-rw-rw-r--. 1 pgonchar hybrilit 1.6G Dec 28  2020 simdata_ArPb_3.2AGeV_mb_43.txt\n",
      "-rw-rw-r--. 1 pgonchar hybrilit 1.6G Dec 28  2020 simdata_ArPb_3.2AGeV_mb_44.txt\n",
      "-rw-rw-r--. 1 pgonchar hybrilit 1.6G Dec 28  2020 simdata_ArPb_3.2AGeV_mb_45.txt\n",
      "-rw-rw-r--. 1 pgonchar hybrilit 1.7G Dec 28  2020 simdata_ArPb_3.2AGeV_mb_46.txt\n",
      "-rw-rw-r--. 1 pgonchar hybrilit 1.6G Dec 25  2020 simdata_ArPb_3.2AGeV_mb_4.txt\n",
      "-rw-rw-r--. 1 pgonchar hybrilit 1.6G Dec 24  2020 simdata_ArPb_3.2AGeV_mb_5.txt\n",
      "-rw-rw-r--. 1 pgonchar hybrilit 1.6G Dec 24  2020 simdata_ArPb_3.2AGeV_mb_6.txt\n",
      "-rw-rw-r--. 1 pgonchar hybrilit 1.6G Dec 24  2020 simdata_ArPb_3.2AGeV_mb_7.txt\n",
      "-rw-rw-r--. 1 pgonchar hybrilit 1.6G Dec 24  2020 simdata_ArPb_3.2AGeV_mb_8.txt\n",
      "-rw-rw-r--. 1 pgonchar hybrilit 1.6G Dec 24  2020 simdata_ArPb_3.2AGeV_mb_9.txt\n"
     ]
    }
   ],
   "source": [
    "!ls -lh /zfs/store5.hydra.local/user/p/pgonchar/data/bmn/run7/events/"
   ]
  },
  {
   "cell_type": "code",
   "execution_count": 29,
   "metadata": {
    "collapsed": false,
    "jupyter": {
     "outputs_hidden": false
    },
    "pycharm": {
     "name": "#%%\n"
    }
   },
   "outputs": [],
   "source": [
    "parse_cfg = {\n",
    "    'csv_params' : {\n",
    "        \"sep\": '\\s+',\n",
    "        \"encoding\": 'utf-8',\n",
    "        \"names\": ['event',  'x', 'y', 'z', 'det','station', 'track', 'px', 'py', 'pz', 'vx', 'vy', 'vz']\n",
    "    },\n",
    "    'input_file_mask':f'/zfs/store5.hydra.local/user/p/pgonchar/data/bmn/run7/events/simdata_ArPb_3.2AGeV_mb_46.txt',\n",
    "    'events_quantity':':'\n",
    "}"
   ]
  },
  {
   "cell_type": "code",
   "execution_count": 30,
   "metadata": {
    "collapsed": false,
    "jupyter": {
     "outputs_hidden": false
    },
    "pycharm": {
     "name": "#%%\n"
    }
   },
   "outputs": [],
   "source": [
    "from ariadne_v2.transformations import AddVirtualPoints, DropEmptyFirstStation"
   ]
  },
  {
   "cell_type": "code",
   "execution_count": 31,
   "metadata": {},
   "outputs": [],
   "source": [
    "loaded_model = TrackNetModelLoader()"
   ]
  },
  {
   "cell_type": "code",
   "execution_count": 32,
   "metadata": {
    "collapsed": false,
    "jupyter": {
     "outputs_hidden": false
    },
    "pycharm": {
     "name": "#%%\n"
    }
   },
   "outputs": [],
   "source": [
    "global_transformer = Compose([\n",
    "    FixStationsBMN(),\n",
    "    DropShort(num_stations=4),\n",
    "    DropEmptyFirstStation(),\n",
    "    #DropTracksWithHoles(),\n",
    "    DropSpinningTracks(),\n",
    "    BakeStationValues(values=z_values),\n",
    "    ConstraintsNormalize(constraints=constraints),\n",
    "    #AddVirtualPoints(model_loader=loaded_model, z_values=z_values_norm, device=DEVICE)\n",
    "]\n",
    ")"
   ]
  },
  {
   "cell_type": "code",
   "execution_count": 33,
   "metadata": {
    "collapsed": false,
    "jupyter": {
     "outputs_hidden": false
    },
    "pycharm": {
     "name": "#%%\n"
    }
   },
   "outputs": [],
   "source": [
    "res_1 = []\n",
    "res_2 = []"
   ]
  },
  {
   "cell_type": "code",
   "execution_count": 34,
   "metadata": {
    "collapsed": false,
    "jupyter": {
     "outputs_hidden": false
    },
    "pycharm": {
     "name": "#%%\n"
    }
   },
   "outputs": [],
   "source": [
    "gin.enter_interactive_mode()"
   ]
  },
  {
   "cell_type": "code",
   "execution_count": 35,
   "metadata": {
    "collapsed": false,
    "jupyter": {
     "outputs_hidden": false
    },
    "pycharm": {
     "name": "#%%\n"
    }
   },
   "outputs": [],
   "source": [
    "add_virtual = True\n",
    "only_tracknet = True"
   ]
  },
  {
   "cell_type": "code",
   "execution_count": 36,
   "metadata": {},
   "outputs": [],
   "source": [
    "thresh = 0.0003"
   ]
  },
  {
   "cell_type": "code",
   "execution_count": 37,
   "metadata": {
    "tags": []
   },
   "outputs": [
    {
     "name": "stdout",
     "output_type": "stream",
     "text": [
      "warning, you are going to clean all cache for the 20w starting from the 2022-04-10 13:40:00.214985 till now\n"
     ]
    },
    {
     "name": "stdin",
     "output_type": "stream",
     "text": [
      "OK with that [Y/N]?  y\n"
     ]
    }
   ],
   "source": [
    "scripts.clean_cache.clean_jit_cache('20w')"
   ]
  },
  {
   "cell_type": "code",
   "execution_count": 38,
   "metadata": {},
   "outputs": [],
   "source": [
    "max_virtuals = 2"
   ]
  },
  {
   "cell_type": "code",
   "execution_count": 39,
   "metadata": {
    "pycharm": {
     "name": "#%%\n"
    },
    "tags": []
   },
   "outputs": [
    {
     "name": "stdout",
     "output_type": "stream",
     "text": [
      "read entry b454a12f953a77a36bdec209025234a1 hit\n",
      "[prepare]: started processing a df simdata_ArPb_3.2AGeV_mb_46.txt with 16051667 rows:\n",
      "read entry 07c4cb3ed797f354b936570676498f06 hit\n",
      "[prepare] finished\n",
      "[prepare] loading your model(s)...\n",
      "[prepare] finished loading your model(s)...\n",
      "[build_all_tracks] start\n",
      "read entry 6bd39ef30d82fee0c9cab05ebcfb938a hit\n",
      "read entry 1c0be95f2f274cbd9efc7a9a97f716b0 hit\n",
      "\n",
      "\n",
      "processed: 24999: 100%|██████████| 25000/25000 [08:21<00:00, 49.82it/s]\n",
      "[build_all_tracks] cache miss, finish\n",
      "[run model] start\n",
      "read entry 979af274a6f3f34fe2f62ed4ce46723d hit\n",
      "read entry e8eddead19a14860dc57ce502c0b5606 hit\n",
      "\n",
      "\n",
      "processed: 24999: 100%|██████████| 25000/25000 [39:39<00:00, 10.50it/s]\n",
      "[run model] cache miss, finish\n",
      "[solve results] start\n",
      "[solve results] finish\n",
      "[solve results] final stats:\n",
      "==========EVALUATION RESULTS==========\n",
      "Total events evaluated: 23705\n",
      "Total tracks evaluated: 258775\n",
      "Track Efficiency (recall): 0.8701 \n",
      "Track Purity (precision): 0.0278 \n",
      "Fully reconstructed event ratio: 0.3173\n",
      "Mean cpu time per event: 0.0003 sec (3459.44 events per second) \n",
      "Mean gpu time per event: 0.0912 sec (10.97 events per second) \n",
      "==========EVALUATION RESULTS==========\n",
      "solving took 736.3219125270844 seconds\n"
     ]
    }
   ],
   "source": [
    "graphs = []\n",
    "\n",
    "evaluator = EventEvaluator(parse_cfg, global_transformer, N_STATIONS)\n",
    "events = evaluator.prepare(model_loader=loaded_model)[0]\n",
    "all_results = evaluator.build_all_tracks()\n",
    "model_results = evaluator.run_model(preprocess_one_event, run_tracknet_eval)\n",
    "start_time = time.time()\n",
    "results_tracknet = evaluator.solve_results(model_results, all_results, match_percentage=0.7)\n",
    "end_time = time.time()\n",
    "print(f'solving took {end_time - start_time} seconds')"
   ]
  },
  {
   "cell_type": "code",
   "execution_count": 61,
   "metadata": {},
   "outputs": [],
   "source": [
    "distances = np.concatenate(res_1)"
   ]
  },
  {
   "cell_type": "code",
   "execution_count": 76,
   "metadata": {},
   "outputs": [
    {
     "data": {
      "text/plain": [
       "0.1623267"
      ]
     },
     "execution_count": 76,
     "metadata": {},
     "output_type": "execute_result"
    }
   ],
   "source": [
    "distances.max()"
   ]
  },
  {
   "cell_type": "code",
   "execution_count": 70,
   "metadata": {},
   "outputs": [
    {
     "data": {
      "text/plain": [
       "0.0050345003"
      ]
     },
     "execution_count": 70,
     "metadata": {},
     "output_type": "execute_result"
    }
   ],
   "source": [
    "distances.std() + distances.mean()"
   ]
  },
  {
   "cell_type": "code",
   "execution_count": 81,
   "metadata": {},
   "outputs": [
    {
     "data": {
      "text/plain": [
       "0.08180901"
      ]
     },
     "execution_count": 81,
     "metadata": {},
     "output_type": "execute_result"
    }
   ],
   "source": [
    "distances[:, 1].mean()"
   ]
  },
  {
   "cell_type": "code",
   "execution_count": null,
   "metadata": {},
   "outputs": [],
   "source": []
  },
  {
   "cell_type": "code",
   "execution_count": null,
   "metadata": {},
   "outputs": [],
   "source": []
  },
  {
   "cell_type": "code",
   "execution_count": null,
   "metadata": {},
   "outputs": [],
   "source": []
  },
  {
   "cell_type": "code",
   "execution_count": null,
   "metadata": {},
   "outputs": [],
   "source": []
  },
  {
   "cell_type": "code",
   "execution_count": 55,
   "metadata": {
    "collapsed": true,
    "jupyter": {
     "outputs_hidden": true
    },
    "pycharm": {
     "name": "#%%\n"
    },
    "tags": []
   },
   "outputs": [
    {
     "name": "stdout",
     "output_type": "stream",
     "text": [
      "read entry 1fa7afc211b72bef818d61f54b5fd4c4 hit\n"
     ]
    },
    {
     "ename": "ParserError",
     "evalue": "Error tokenizing data. C error: Calling read(nbytes) on source failed. Try engine='python'.",
     "output_type": "error",
     "traceback": [
      "\u001b[0;31m---------------------------------------------------------------------------\u001b[0m",
      "\u001b[0;31mParserError\u001b[0m                               Traceback (most recent call last)",
      "Input \u001b[0;32mIn [55]\u001b[0m, in \u001b[0;36m<module>\u001b[0;34m\u001b[0m\n\u001b[1;32m     13\u001b[0m graphs \u001b[38;5;241m=\u001b[39m []\n\u001b[1;32m     14\u001b[0m evaluator \u001b[38;5;241m=\u001b[39m EventEvaluator(parse_cfg, global_transformer, N_STATIONS)\n\u001b[0;32m---> 15\u001b[0m events \u001b[38;5;241m=\u001b[39m \u001b[43mevaluator\u001b[49m\u001b[38;5;241;43m.\u001b[39;49m\u001b[43mprepare\u001b[49m\u001b[43m(\u001b[49m\u001b[43mmodel_loader\u001b[49m\u001b[38;5;241;43m=\u001b[39;49m\u001b[43mloaded_model\u001b[49m\u001b[43m)\u001b[49m[\u001b[38;5;241m0\u001b[39m]\n\u001b[1;32m     16\u001b[0m all_results \u001b[38;5;241m=\u001b[39m evaluator\u001b[38;5;241m.\u001b[39mbuild_all_tracks()\n\u001b[1;32m     17\u001b[0m model_results \u001b[38;5;241m=\u001b[39m evaluator\u001b[38;5;241m.\u001b[39mrun_model(preprocess_one_event, run_tracknet_eval)\n",
      "File \u001b[0;32m/zfs/store5.hydra.local/user/d/drusov/ariadne/eval/event_evaluation.py:68\u001b[0m, in \u001b[0;36mEventEvaluator.prepare\u001b[0;34m(self, model_loader)\u001b[0m\n\u001b[1;32m     66\u001b[0m \u001b[38;5;28;01mdef\u001b[39;00m \u001b[38;5;21mprepare\u001b[39m(\u001b[38;5;28mself\u001b[39m, model_loader: IModelLoader):\n\u001b[1;32m     67\u001b[0m     \u001b[38;5;28;01massert\u001b[39;00m \u001b[38;5;28misinstance\u001b[39m(model_loader, IModelLoader)\n\u001b[0;32m---> 68\u001b[0m     \u001b[38;5;28;01mfor\u001b[39;00m data_df, basename, df_hash \u001b[38;5;129;01min\u001b[39;00m parse(\u001b[38;5;241m*\u001b[39m\u001b[38;5;241m*\u001b[39m\u001b[38;5;28mself\u001b[39m\u001b[38;5;241m.\u001b[39mparse_cfg):\n\u001b[1;32m     69\u001b[0m         \u001b[38;5;28mprint\u001b[39m(\u001b[38;5;124mf\u001b[39m\u001b[38;5;124m\"\u001b[39m\u001b[38;5;124m[prepare]: started processing a df \u001b[39m\u001b[38;5;132;01m{\u001b[39;00mbasename\u001b[38;5;132;01m}\u001b[39;00m\u001b[38;5;124m with \u001b[39m\u001b[38;5;132;01m{\u001b[39;00m\u001b[38;5;28mlen\u001b[39m(data_df)\u001b[38;5;132;01m}\u001b[39;00m\u001b[38;5;124m rows:\u001b[39m\u001b[38;5;124m\"\u001b[39m)\n\u001b[1;32m     70\u001b[0m         data_df, \u001b[38;5;28mhash\u001b[39m \u001b[38;5;241m=\u001b[39m \u001b[38;5;28mself\u001b[39m\u001b[38;5;241m.\u001b[39mglobal_transformer(DFDataChunk\u001b[38;5;241m.\u001b[39mfrom_df(data_df, df_hash), return_hash\u001b[38;5;241m=\u001b[39m\u001b[38;5;28;01mTrue\u001b[39;00m)\n",
      "File \u001b[0;32m/zfs/store5.hydra.local/user/d/drusov/ariadne/ariadne_v2/parsing.py:47\u001b[0m, in \u001b[0;36mparse\u001b[0;34m(input_file_mask, csv_params, events_quantity, filter_func)\u001b[0m\n\u001b[1;32m     45\u001b[0m \u001b[38;5;28;01mfor\u001b[39;00m idx, elem \u001b[38;5;129;01min\u001b[39;00m \u001b[38;5;28menumerate\u001b[39m(files_list):\n\u001b[1;32m     46\u001b[0m     LOGGER\u001b[38;5;241m.\u001b[39minfo(\u001b[38;5;124m\"\u001b[39m\u001b[38;5;124m[Parse]: started parsing CSV #\u001b[39m\u001b[38;5;132;01m%d\u001b[39;00m\u001b[38;5;124m (\u001b[39m\u001b[38;5;132;01m%s\u001b[39;00m\u001b[38;5;124m):\u001b[39m\u001b[38;5;124m\"\u001b[39m \u001b[38;5;241m%\u001b[39m (idx, elem))\n\u001b[0;32m---> 47\u001b[0m     parsed_df, \u001b[38;5;28mhash\u001b[39m \u001b[38;5;241m=\u001b[39m \u001b[43mparse_df\u001b[49m\u001b[43m(\u001b[49m\u001b[43melem\u001b[49m\u001b[43m,\u001b[49m\u001b[43m \u001b[49m\u001b[38;5;241;43m*\u001b[39;49m\u001b[38;5;241;43m*\u001b[39;49m\u001b[43mcsv_params\u001b[49m\u001b[43m)\u001b[49m\n\u001b[1;32m     48\u001b[0m     \u001b[38;5;28mhash\u001b[39m \u001b[38;5;241m=\u001b[39m ariadne_v2\u001b[38;5;241m.\u001b[39mjit_cacher\u001b[38;5;241m.\u001b[39mCacher\u001b[38;5;241m.\u001b[39mbuild_hash(events_quantity, \u001b[38;5;28mhash\u001b[39m)\n\u001b[1;32m     49\u001b[0m     \u001b[38;5;28;01mif\u001b[39;00m filter_func:\n",
      "File \u001b[0;32m/zfs/store5.hydra.local/user/d/drusov/ariadne/ariadne_v2/jit_cacher.py:323\u001b[0m, in \u001b[0;36mcache_result_df.<locals>.decorator.<locals>.inner\u001b[0;34m(*args, **kwargs)\u001b[0m\n\u001b[1;32m    320\u001b[0m             LOGGER\u001b[38;5;241m.\u001b[39minfo(\u001b[38;5;124mf\u001b[39m\u001b[38;5;124m\"\u001b[39m\u001b[38;5;124mcache hit for func=\u001b[39m\u001b[38;5;124m'\u001b[39m\u001b[38;5;132;01m{\u001b[39;00mfunc\u001b[38;5;241m.\u001b[39m\u001b[38;5;18m__name__\u001b[39m\u001b[38;5;132;01m}\u001b[39;00m\u001b[38;5;124m'\u001b[39m\u001b[38;5;124m\"\u001b[39m)\n\u001b[1;32m    321\u001b[0m         \u001b[38;5;28;01mreturn\u001b[39;00m result, args_hash\n\u001b[0;32m--> 323\u001b[0m result \u001b[38;5;241m=\u001b[39m \u001b[43mfunc\u001b[49m\u001b[43m(\u001b[49m\u001b[38;5;241;43m*\u001b[39;49m\u001b[43margs\u001b[49m\u001b[43m,\u001b[49m\u001b[43m \u001b[49m\u001b[38;5;241;43m*\u001b[39;49m\u001b[38;5;241;43m*\u001b[39;49m\u001b[43mkwargs\u001b[49m\u001b[43m)\u001b[49m\n\u001b[1;32m    325\u001b[0m \u001b[38;5;28;01mwith\u001b[39;00m instance() \u001b[38;5;28;01mas\u001b[39;00m cacher:\n\u001b[1;32m    326\u001b[0m     \u001b[38;5;28;01massert\u001b[39;00m \u001b[38;5;28misinstance\u001b[39m(result, pd\u001b[38;5;241m.\u001b[39mDataFrame), \u001b[38;5;124m\"\u001b[39m\u001b[38;5;124myou don\u001b[39m\u001b[38;5;124m'\u001b[39m\u001b[38;5;124mt return a dataframe. consider using other wrapper\u001b[39m\u001b[38;5;124m\"\u001b[39m\n",
      "File \u001b[0;32m/zfs/store5.hydra.local/user/d/drusov/ariadne/ariadne_v2/parsing.py:19\u001b[0m, in \u001b[0;36mparse_df\u001b[0;34m(file_path, **read_csv_kw_params)\u001b[0m\n\u001b[1;32m     16\u001b[0m \u001b[38;5;129m@cache_result_df\u001b[39m()\n\u001b[1;32m     17\u001b[0m \u001b[38;5;28;01mdef\u001b[39;00m \u001b[38;5;21mparse_df\u001b[39m(file_path: \u001b[38;5;28mstr\u001b[39m,\n\u001b[1;32m     18\u001b[0m              \u001b[38;5;241m*\u001b[39m\u001b[38;5;241m*\u001b[39mread_csv_kw_params) \u001b[38;5;241m-\u001b[39m\u001b[38;5;241m>\u001b[39m Tuple[pd\u001b[38;5;241m.\u001b[39mDataFrame, Union[\u001b[38;5;28;01mNone\u001b[39;00m, \u001b[38;5;28mstr\u001b[39m]]:\n\u001b[0;32m---> 19\u001b[0m     \u001b[38;5;28;01mreturn\u001b[39;00m \u001b[43mpd\u001b[49m\u001b[38;5;241;43m.\u001b[39;49m\u001b[43mread_csv\u001b[49m\u001b[43m(\u001b[49m\u001b[43mfile_path\u001b[49m\u001b[43m,\u001b[49m\u001b[43m \u001b[49m\u001b[38;5;241;43m*\u001b[39;49m\u001b[38;5;241;43m*\u001b[39;49m\u001b[43mread_csv_kw_params\u001b[49m\u001b[43m)\u001b[49m\n",
      "File \u001b[0;32m~/miniconda3/envs/ariadne_gpu_1/lib/python3.8/site-packages/pandas/util/_decorators.py:311\u001b[0m, in \u001b[0;36mdeprecate_nonkeyword_arguments.<locals>.decorate.<locals>.wrapper\u001b[0;34m(*args, **kwargs)\u001b[0m\n\u001b[1;32m    305\u001b[0m \u001b[38;5;28;01mif\u001b[39;00m \u001b[38;5;28mlen\u001b[39m(args) \u001b[38;5;241m>\u001b[39m num_allow_args:\n\u001b[1;32m    306\u001b[0m     warnings\u001b[38;5;241m.\u001b[39mwarn(\n\u001b[1;32m    307\u001b[0m         msg\u001b[38;5;241m.\u001b[39mformat(arguments\u001b[38;5;241m=\u001b[39marguments),\n\u001b[1;32m    308\u001b[0m         \u001b[38;5;167;01mFutureWarning\u001b[39;00m,\n\u001b[1;32m    309\u001b[0m         stacklevel\u001b[38;5;241m=\u001b[39mstacklevel,\n\u001b[1;32m    310\u001b[0m     )\n\u001b[0;32m--> 311\u001b[0m \u001b[38;5;28;01mreturn\u001b[39;00m \u001b[43mfunc\u001b[49m\u001b[43m(\u001b[49m\u001b[38;5;241;43m*\u001b[39;49m\u001b[43margs\u001b[49m\u001b[43m,\u001b[49m\u001b[43m \u001b[49m\u001b[38;5;241;43m*\u001b[39;49m\u001b[38;5;241;43m*\u001b[39;49m\u001b[43mkwargs\u001b[49m\u001b[43m)\u001b[49m\n",
      "File \u001b[0;32m~/miniconda3/envs/ariadne_gpu_1/lib/python3.8/site-packages/pandas/io/parsers/readers.py:680\u001b[0m, in \u001b[0;36mread_csv\u001b[0;34m(filepath_or_buffer, sep, delimiter, header, names, index_col, usecols, squeeze, prefix, mangle_dupe_cols, dtype, engine, converters, true_values, false_values, skipinitialspace, skiprows, skipfooter, nrows, na_values, keep_default_na, na_filter, verbose, skip_blank_lines, parse_dates, infer_datetime_format, keep_date_col, date_parser, dayfirst, cache_dates, iterator, chunksize, compression, thousands, decimal, lineterminator, quotechar, quoting, doublequote, escapechar, comment, encoding, encoding_errors, dialect, error_bad_lines, warn_bad_lines, on_bad_lines, delim_whitespace, low_memory, memory_map, float_precision, storage_options)\u001b[0m\n\u001b[1;32m    665\u001b[0m kwds_defaults \u001b[38;5;241m=\u001b[39m _refine_defaults_read(\n\u001b[1;32m    666\u001b[0m     dialect,\n\u001b[1;32m    667\u001b[0m     delimiter,\n\u001b[0;32m   (...)\u001b[0m\n\u001b[1;32m    676\u001b[0m     defaults\u001b[38;5;241m=\u001b[39m{\u001b[38;5;124m\"\u001b[39m\u001b[38;5;124mdelimiter\u001b[39m\u001b[38;5;124m\"\u001b[39m: \u001b[38;5;124m\"\u001b[39m\u001b[38;5;124m,\u001b[39m\u001b[38;5;124m\"\u001b[39m},\n\u001b[1;32m    677\u001b[0m )\n\u001b[1;32m    678\u001b[0m kwds\u001b[38;5;241m.\u001b[39mupdate(kwds_defaults)\n\u001b[0;32m--> 680\u001b[0m \u001b[38;5;28;01mreturn\u001b[39;00m \u001b[43m_read\u001b[49m\u001b[43m(\u001b[49m\u001b[43mfilepath_or_buffer\u001b[49m\u001b[43m,\u001b[49m\u001b[43m \u001b[49m\u001b[43mkwds\u001b[49m\u001b[43m)\u001b[49m\n",
      "File \u001b[0;32m~/miniconda3/envs/ariadne_gpu_1/lib/python3.8/site-packages/pandas/io/parsers/readers.py:581\u001b[0m, in \u001b[0;36m_read\u001b[0;34m(filepath_or_buffer, kwds)\u001b[0m\n\u001b[1;32m    578\u001b[0m     \u001b[38;5;28;01mreturn\u001b[39;00m parser\n\u001b[1;32m    580\u001b[0m \u001b[38;5;28;01mwith\u001b[39;00m parser:\n\u001b[0;32m--> 581\u001b[0m     \u001b[38;5;28;01mreturn\u001b[39;00m \u001b[43mparser\u001b[49m\u001b[38;5;241;43m.\u001b[39;49m\u001b[43mread\u001b[49m\u001b[43m(\u001b[49m\u001b[43mnrows\u001b[49m\u001b[43m)\u001b[49m\n",
      "File \u001b[0;32m~/miniconda3/envs/ariadne_gpu_1/lib/python3.8/site-packages/pandas/io/parsers/readers.py:1250\u001b[0m, in \u001b[0;36mTextFileReader.read\u001b[0;34m(self, nrows)\u001b[0m\n\u001b[1;32m   1248\u001b[0m nrows \u001b[38;5;241m=\u001b[39m validate_integer(\u001b[38;5;124m\"\u001b[39m\u001b[38;5;124mnrows\u001b[39m\u001b[38;5;124m\"\u001b[39m, nrows)\n\u001b[1;32m   1249\u001b[0m \u001b[38;5;28;01mtry\u001b[39;00m:\n\u001b[0;32m-> 1250\u001b[0m     index, columns, col_dict \u001b[38;5;241m=\u001b[39m \u001b[38;5;28;43mself\u001b[39;49m\u001b[38;5;241;43m.\u001b[39;49m\u001b[43m_engine\u001b[49m\u001b[38;5;241;43m.\u001b[39;49m\u001b[43mread\u001b[49m\u001b[43m(\u001b[49m\u001b[43mnrows\u001b[49m\u001b[43m)\u001b[49m\n\u001b[1;32m   1251\u001b[0m \u001b[38;5;28;01mexcept\u001b[39;00m \u001b[38;5;167;01mException\u001b[39;00m:\n\u001b[1;32m   1252\u001b[0m     \u001b[38;5;28mself\u001b[39m\u001b[38;5;241m.\u001b[39mclose()\n",
      "File \u001b[0;32m~/miniconda3/envs/ariadne_gpu_1/lib/python3.8/site-packages/pandas/io/parsers/c_parser_wrapper.py:225\u001b[0m, in \u001b[0;36mCParserWrapper.read\u001b[0;34m(self, nrows)\u001b[0m\n\u001b[1;32m    223\u001b[0m \u001b[38;5;28;01mtry\u001b[39;00m:\n\u001b[1;32m    224\u001b[0m     \u001b[38;5;28;01mif\u001b[39;00m \u001b[38;5;28mself\u001b[39m\u001b[38;5;241m.\u001b[39mlow_memory:\n\u001b[0;32m--> 225\u001b[0m         chunks \u001b[38;5;241m=\u001b[39m \u001b[38;5;28;43mself\u001b[39;49m\u001b[38;5;241;43m.\u001b[39;49m\u001b[43m_reader\u001b[49m\u001b[38;5;241;43m.\u001b[39;49m\u001b[43mread_low_memory\u001b[49m\u001b[43m(\u001b[49m\u001b[43mnrows\u001b[49m\u001b[43m)\u001b[49m\n\u001b[1;32m    226\u001b[0m         \u001b[38;5;66;03m# destructive to chunks\u001b[39;00m\n\u001b[1;32m    227\u001b[0m         data \u001b[38;5;241m=\u001b[39m _concatenate_chunks(chunks)\n",
      "File \u001b[0;32m~/miniconda3/envs/ariadne_gpu_1/lib/python3.8/site-packages/pandas/_libs/parsers.pyx:805\u001b[0m, in \u001b[0;36mpandas._libs.parsers.TextReader.read_low_memory\u001b[0;34m()\u001b[0m\n",
      "File \u001b[0;32m~/miniconda3/envs/ariadne_gpu_1/lib/python3.8/site-packages/pandas/_libs/parsers.pyx:861\u001b[0m, in \u001b[0;36mpandas._libs.parsers.TextReader._read_rows\u001b[0;34m()\u001b[0m\n",
      "File \u001b[0;32m~/miniconda3/envs/ariadne_gpu_1/lib/python3.8/site-packages/pandas/_libs/parsers.pyx:847\u001b[0m, in \u001b[0;36mpandas._libs.parsers.TextReader._tokenize_rows\u001b[0;34m()\u001b[0m\n",
      "File \u001b[0;32m~/miniconda3/envs/ariadne_gpu_1/lib/python3.8/site-packages/pandas/_libs/parsers.pyx:1960\u001b[0m, in \u001b[0;36mpandas._libs.parsers.raise_parser_error\u001b[0;34m()\u001b[0m\n",
      "\u001b[0;31mParserError\u001b[0m: Error tokenizing data. C error: Calling read(nbytes) on source failed. Try engine='python'."
     ]
    }
   ],
   "source": [
    "file = 26\n",
    "for file in range(26, 41):\n",
    "    parse_cfg = {\n",
    "        'csv_params' : {\n",
    "            \"sep\": '\\s+',\n",
    "            \"encoding\": 'utf-8',\n",
    "            \"names\": ['event',  'x', 'y', 'z', 'det','station', 'track', 'px', 'py', 'pz', 'vx', 'vy', 'vz']\n",
    "        },\n",
    "        'input_file_mask': f'/zfs/store5.hydra.local/user/p/pgonchar/data/bmn/run7/events/simdata_ArPb_3.2AGeV_mb_{file}.txt',\n",
    "        'events_quantity': ':'\n",
    "    }\n",
    "    \n",
    "    graphs = []\n",
    "    evaluator = EventEvaluator(parse_cfg, global_transformer, N_STATIONS)\n",
    "    events = evaluator.prepare(model_loader=loaded_model)[0]\n",
    "    all_results = evaluator.build_all_tracks()\n",
    "    model_results = evaluator.run_model(preprocess_one_event, run_tracknet_eval)\n",
    "    start_time = time.time()\n",
    "    results_tracknet = evaluator.solve_results(model_results, all_results, match_percentage=0.7)\n",
    "    end_time = time.time()\n",
    "    print(f'solving took {end_time - start_time} seconds')\n",
    "\n",
    "    filenames = [f'../output/graphnet_train_allvirtual/file_{file}_event_{ev_id}.npz' for ev_id in sorted(model_results[0].event_id.unique())]\n",
    "    #break\n",
    "    save_graphs(graphs, filenames)\n",
    "    print(f'saved file {file}')\n"
   ]
  },
  {
   "cell_type": "code",
   "execution_count": null,
   "metadata": {},
   "outputs": [],
   "source": []
  },
  {
   "cell_type": "code",
   "execution_count": null,
   "metadata": {
    "collapsed": false,
    "jupyter": {
     "outputs_hidden": false
    },
    "pycharm": {
     "name": "#%%\n"
    }
   },
   "outputs": [],
   "source": [
    "tracks = results_tracknet[0].copy()\n",
    "tracks['len'] = N_STATIONS - np.argmax(np.fliplr(tracks[STATION_COLUMNS] >= 0), axis=1)\n",
    "tracks['with_holes'] = tracks.len - (tracks[STATION_COLUMNS] >= 0).sum(axis=1)\n",
    "tracks['gem_hits'] = (tracks[STATION_COLUMNS[3:]] >= 0).sum(axis=1)"
   ]
  },
  {
   "cell_type": "code",
   "execution_count": null,
   "metadata": {
    "collapsed": false,
    "jupyter": {
     "outputs_hidden": false
    },
    "pycharm": {
     "name": "#%%\n"
    }
   },
   "outputs": [],
   "source": [
    "tracks.query('with_holes > 0')"
   ]
  },
  {
   "cell_type": "code",
   "execution_count": null,
   "metadata": {
    "collapsed": false,
    "jupyter": {
     "outputs_hidden": false
    },
    "pycharm": {
     "name": "#%%\n"
    }
   },
   "outputs": [],
   "source": []
  },
  {
   "cell_type": "code",
   "execution_count": null,
   "metadata": {
    "collapsed": false,
    "jupyter": {
     "outputs_hidden": false
    },
    "pycharm": {
     "name": "#%%\n"
    }
   },
   "outputs": [],
   "source": [
    "from ariadne.tracknet_v2.metrics import point_in_ellipse"
   ]
  },
  {
   "cell_type": "code",
   "execution_count": null,
   "metadata": {
    "collapsed": false,
    "jupyter": {
     "outputs_hidden": false
    },
    "pycharm": {
     "name": "#%%\n"
    }
   },
   "outputs": [],
   "source": [
    "lst_res = []\n",
    "for _, track in tqdm(tracks.query('with_holes > 0').iterrows(), total=len(tracks.query('with_holes > 0'))):\n",
    "    track_id = track.track\n",
    "    track_event = track.event_id\n",
    "    #print(track_id, track_event)\n",
    "    data = events.query('event == @track_event and track == @track_id')\n",
    "\n",
    "    track_len = data['station'].max() + 1\n",
    "    track = np.column_stack([z_values_norm]*3)\n",
    "\n",
    "    track[data['station']] = data[['x', 'y', 'z']].values\n",
    "    track = track[:track_len]\n",
    "\n",
    "    track_torch = torch.unsqueeze(torch.from_numpy(track), 0).to(DEVICE)\n",
    "    #print(track_torch)\n",
    "    mask = torch.from_numpy((track[:, 0] != track[:, 1])[:track_len].reshape(1, -1)).to(DEVICE)\n",
    "    res = model_tracknet(track_torch, torch.tensor([track_len], dtype=torch.int64), mask=mask)\n",
    "\n",
    "    last_hole = np.where((~mask)[:, :].cpu().numpy().flatten())[0].max()\n",
    "\n",
    "    lst_res.append(point_in_ellipse(res[:, :-1], track_torch[:, 1:, :2])[:, last_hole:].cpu().numpy().flatten())\n",
    "    #if len(lst_res) > 1:\n",
    "    #    break"
   ]
  },
  {
   "cell_type": "code",
   "execution_count": null,
   "metadata": {
    "collapsed": false,
    "jupyter": {
     "outputs_hidden": false
    },
    "pycharm": {
     "name": "#%%\n"
    }
   },
   "outputs": [],
   "source": []
  },
  {
   "cell_type": "code",
   "execution_count": 43,
   "metadata": {
    "collapsed": false,
    "jupyter": {
     "outputs_hidden": false
    },
    "pycharm": {
     "name": "#%%\n"
    }
   },
   "outputs": [],
   "source": [
    "gin.enter_interactive_mode()"
   ]
  },
  {
   "cell_type": "code",
   "execution_count": 54,
   "metadata": {
    "collapsed": false,
    "jupyter": {
     "outputs_hidden": false
    },
    "pycharm": {
     "name": "#%%\n"
    }
   },
   "outputs": [],
   "source": [
    "from scipy.interpolate import make_interp_spline, BSpline\n",
    "from scipy import stats\n",
    "\n",
    "MODES = {\n",
    "    \"RECALL\":1,\n",
    "    \"PRECISION\":2\n",
    "}\n",
    "a = []\n",
    "def get_diagram_arr_linspace(all_real_hits, found_hits, start, end, num, col, mode):\n",
    "    spac = np.linspace(start, end, num=num)\n",
    "    #print(num)\n",
    "    step = (spac[1] - spac[0]) / 2\n",
    "    arr = []\n",
    "    spac_ret = []\n",
    "    track_count_for_arr = []\n",
    "    for i in range(len(spac)-1):\n",
    "        beg = spac[i]\n",
    "        end = spac[i+1]\n",
    "        elems_real = all_real_hits[(all_real_hits[col] >= beg) & (all_real_hits[col] < end)]\n",
    "        elems_pred = found_hits[(found_hits[col] >= beg) & (found_hits[col] < end)]\n",
    "        #print(beg,end)\n",
    "        #print(len(elems_pred), len(elems_real))\n",
    "        if mode == MODES[\"RECALL\"]:\n",
    "            if elems_real.empty:\n",
    "                #arr.append(1.)\n",
    "                continue\n",
    "            else:\n",
    "                arr.append(len(elems_pred) / len(elems_real))\n",
    "                track_count_for_arr.append(len(elems_real))\n",
    "        elif mode == MODES[\"PRECISION\"]:\n",
    "            if elems_pred.empty:\n",
    "                #arr.append(1.)\n",
    "                continue\n",
    "            else:\n",
    "                reco_true = len(elems_pred[elems_pred.track != -1])\n",
    "                arr.append(reco_true / len(elems_pred))\n",
    "                track_count_for_arr.append(len(elems_real))\n",
    "        else:\n",
    "            raise NotImplemented\n",
    "\n",
    "        spac_ret.append(spac[i])\n",
    "\n",
    "    return np.array(arr), np.array(spac_ret), np.array(track_count_for_arr)\n",
    "\n",
    "\n",
    "def get_diagram_for_boxplot(all_real_hits, found_hits, start, end, num, col, bin_array, int_mode, mode):\n",
    "    y_vals, x_vals, counts_ = get_diagram_arr_linspace(all_real_hits, found_hits, start, end, num, col, mode)\n",
    "\n",
    "    np_y_vals = np.array(y_vals)\n",
    "    bin_array = bin_array\n",
    "\n",
    "\n",
    "    res_x_array = []\n",
    "    res_box_data = []\n",
    "    mean_box_array = []\n",
    "    track_counts_ed = []\n",
    "    for i in range(len(bin_array)-1):\n",
    "        beg = bin_array[i]\n",
    "        end = bin_array[i+1]\n",
    "        y_ind = np.where((x_vals>=beg) & (x_vals<end))\n",
    "        y_vals_corr  = np_y_vals[y_ind]\n",
    "        track_counts_corr = counts_[y_ind]\n",
    "\n",
    "        y_vals_corr = y_vals_corr[~np.isnan(y_vals_corr)]\n",
    "        if len(y_vals_corr) == 0:\n",
    "            continue\n",
    "\n",
    "        #print(beg, end, i, stats.describe(y_vals_corr))\n",
    "        #print(y_vals_corr)\n",
    "        #         if len(np.where(y_vals_corr < 1)) > 0:\n",
    "        #             print(y_vals_corr)\n",
    "        #             print(y_vals)\n",
    "        #             print(beg,end)\n",
    "\n",
    "        res_box_data.append(y_vals_corr)\n",
    "        track_counts_ed.append(np.sum(track_counts_corr))\n",
    "\n",
    "        delta = 0 if int_mode else (end-beg)/2\n",
    "        res_x_array.append(beg + delta)\n",
    "        mean_box_array.append(np.mean(y_vals_corr))\n",
    "\n",
    "    return res_box_data, np.array(res_x_array), np.array(mean_box_array), np.array(track_counts_ed)\n",
    "    #plt.boxplot(res_box_data, positions=bin_array)\n",
    "\n",
    "def boxplot_style(bp):\n",
    "    #for box in bp['boxes']:\n",
    "    # change outline color\n",
    "    #box.set( color='#7570b3', linewidth=2)\n",
    "    # change fill color\n",
    "    #box.set( facecolor = 'silver' )\n",
    "\n",
    "    ## change color and linewidth of the whiskers\n",
    "    #for whisker in bp['whiskers']:\n",
    "    #    whisker.set(color='#7570b3', linewidth=2)\n",
    "    #\n",
    "    ### change color and linewidth of the caps\n",
    "    #for cap in bp['caps']:\n",
    "    #    cap.set(color='#7570b3', linewidth=2)\n",
    "    #\n",
    "    ### change color and linewidth of the medians\n",
    "    #for median in bp['medians']:\n",
    "    #    median.set(color='tab:red', linewidth=3, zorder=30)\n",
    "\n",
    "    for median in bp['means']:\n",
    "        median.set(color='tab:green', linewidth=2, ls='-', zorder=10)\n",
    "\n",
    "\n",
    "##########################\n",
    "###########################\n",
    "\n",
    "from numpy import linalg as LA\n",
    "import matplotlib as mpl\n",
    "mpl.rcParams['figure.dpi'] = 300\n",
    "\n",
    "def draw_for_col(ax, tracks_real, tracks_pred_true,\n",
    "                 col, col_pretty, total_events, n_ticks=150,\n",
    "                 n_avg_ticks=-1, x_ticks=8,\n",
    "                 custom_title=None,\n",
    "                 ticks_custom=True,\n",
    "                 with_boxplot=False,\n",
    "                 int_mode=False, save_disk=True,\n",
    "                 custom_draw_funcs=[],\n",
    "                 diagram_func=None,\n",
    "                 color_ax_ticks=False,\n",
    "                 subtitle=None,\n",
    "                 model_name=\"NO_MODEL_NAME\",\n",
    "                 graph_idx=0, total_indices=-1, spacing=-1,\n",
    "                 color_line='tab:orange', color_box='red', mode=-1\n",
    "                 ):\n",
    "    real_xticks_count = x_ticks\n",
    "\n",
    "    color_ax_ticks = len(custom_draw_funcs) > 0 and color_ax_ticks\n",
    "    n_avg_ticks = n_ticks // 5 if n_avg_ticks < 0 else n_avg_ticks\n",
    "\n",
    "    delta = 1e-4 if not int_mode else 1\n",
    "\n",
    "    start = tracks_real[tracks_real[col] > -np.inf][col].min()\n",
    "    end = tracks_real[tracks_real[col] < np.inf][col].max()+delta\n",
    "\n",
    "    initial, spac, counts_ = get_diagram_arr_linspace(tracks_real, tracks_pred_true, start, end, n_ticks, col, mode)\n",
    "\n",
    "    maxX = int(end) if int_mode else end\n",
    "    ax.set_xlabel(col_pretty)\n",
    "    ax.plot(spac, initial, alpha=0.0, lw=1)\n",
    "\n",
    "    if not int_mode and ticks_custom:\n",
    "        ax.set_xticks(np.linspace(start, maxX, x_ticks))\n",
    "    else:\n",
    "        ax.locator_params(axis='x', nbins=x_ticks)\n",
    "\n",
    "    if diagram_func is None:\n",
    "        ax.set_yticks(np.round(np.linspace(0, 1, 11), decimals=2))\n",
    "    x_ticks = ax.get_xticks()\n",
    "\n",
    "    if with_boxplot:\n",
    "        old_ticks = x_ticks\n",
    "        delta_x = (x_ticks[1] - x_ticks[0])/2\n",
    "\n",
    "        diagram_func = get_diagram_for_boxplot if diagram_func is None else diagram_func\n",
    "\n",
    "        box_data, ticks_x, mean_data, counts_ed = diagram_func(tracks_real, tracks_pred_true, start, end,\n",
    "                                                               n_ticks, col, x_ticks, int_mode, mode)\n",
    "        #print(x_ticks)\n",
    "        if total_indices > 0:\n",
    "\n",
    "            width_tuned = delta_x * 2 / total_indices\n",
    "            pos_tuned = ticks_x - delta_x\n",
    "            spacings = width_tuned * 0.4\n",
    "            width_real = width_tuned * 0.6\n",
    "\n",
    "            ticks_x = pos_tuned + width_tuned * graph_idx + spacings/2 + width_real/2\n",
    "            delta_x = width_real\n",
    "        box_data_t = []\n",
    "        ticks_x_t = []\n",
    "        delta_x_t = []\n",
    "        mean_data_t = []\n",
    "        counts_ed_t = []\n",
    "\n",
    "        for i, box in enumerate(box_data):\n",
    "            if len(box) > 4:\n",
    "                box_data_t.append(box)\n",
    "                ticks_x_t.append(ticks_x[i])\n",
    "                mean_data_t.append(mean_data[i])\n",
    "\n",
    "                counts_ed_t.append(counts_ed[i])\n",
    "\n",
    "        box_data = np.array(box_data_t)\n",
    "        ticks_x = np.array(ticks_x_t)\n",
    "        mean_data = np.array(mean_data_t)\n",
    "\n",
    "        counts_ed = np.array(counts_ed_t)\n",
    "\n",
    "        bp = ax.boxplot(box_data, positions=ticks_x,\n",
    "                        manage_ticks=False, meanline=True, showmeans=True,\n",
    "                        widths=delta_x,patch_artist=True, sym='',zorder=3,boxprops=dict(facecolor=color_box, alpha=0.3))\n",
    "        boxplot_style(bp)\n",
    "        ret_widths = delta_x\n",
    "        # mean line\n",
    "        xnew = np.linspace(ticks_x.min(), ticks_x.max(), 500)\n",
    "        spl = make_interp_spline(ticks_x, mean_data, k=1)\n",
    "        power_smooth = spl(xnew)\n",
    "        ax.plot(xnew, power_smooth, ls='--', color=color_line, label=f'{model_name} mean track {subtitle}', lw=3, zorder=15)\n",
    "        #ax.set_xticks(old_ticks)\n",
    "        if graph_idx == 0:\n",
    "            for i in range(len(ticks_x)):\n",
    "                y_pos = 1.01\n",
    "                x_pos = ticks_x[i] - delta_x/2\n",
    "                ax.text(x_pos, y_pos, f\"{counts_ed[i]}\", zorder=80)\n",
    "\n",
    "    if int_mode or not ticks_custom:\n",
    "        ax.locator_params(axis='x', nbins=real_xticks_count)\n",
    "\n",
    "    #if diagram_func is None:\n",
    "    ax.set_ylim((-0.05, 1.05))\n",
    "    ticks = ax.get_xticks()\n",
    "    step = ticks[1] - ticks[0]\n",
    "    if graph_idx == total_indices-1:\n",
    "        ax.set_xlim((np.min(ticks_x) - width_tuned-step, np.max(ticks_x)+width_real + step/2))\n",
    "\n",
    "    for draw_f in custom_draw_funcs:\n",
    "        draw_f(ax)\n",
    "\n",
    "    return ret_widths\n",
    "\n",
    "    ####plt.locator_params(axis='y', nbins=16)\n",
    "\n",
    "\n",
    "    #plt.tight_layout()\n",
    "    #plt.rcParams['savefig.facecolor']='white'\n",
    "    #os.makedirs('../output', exist_ok=True)\n",
    "    #plt.savefig('../output/new_img_track_eff_%s_ev%r_t%d.png'%(col, total_events, n_ticks), dpi=300)\n",
    "    #plt.show()\n",
    "\n",
    "def draw_for_raw_data(ax, data_x, data_y, data_y_err, color_box, color_line, col_widths, model_name, subtitle):\n",
    "    data_x = np.array(data_x)\n",
    "    data_y_init = np.array(data_y)\n",
    "    dataep = data_y + np.array(data_y_err)\n",
    "    dataem = data_y - np.array(data_y_err)\n",
    "\n",
    "    data_y = np.expand_dims(data_y,axis=-1)\n",
    "    dataep = np.expand_dims(dataep,axis=-1)\n",
    "    dataem = np.expand_dims(dataem,axis=-1)\n",
    "\n",
    "    data_y = np.concatenate((data_y, dataep, dataem), axis=1).T\n",
    "    delta_x = (data_x[1]-data_x[0]) / 2\n",
    "\n",
    "    width_tuned = delta_x * 2 / 3\n",
    "    pos_tuned = data_x - delta_x\n",
    "    spacings = width_tuned * 0.4\n",
    "    width_real = width_tuned * 0.6\n",
    "\n",
    "    ticks_x = pos_tuned + width_tuned * 2 + spacings/2 + width_real/2\n",
    "\n",
    "    bp = ax.boxplot(data_y, positions=ticks_x,\n",
    "                    manage_ticks=False, meanline=True, showmeans=True,\n",
    "                    widths=col_widths, patch_artist=True, sym='',zorder=3,boxprops=dict(facecolor=color_box, alpha=0.3))\n",
    "    boxplot_style(bp)\n",
    "    xnew = np.linspace(ticks_x.min(), ticks_x.max(), 500)\n",
    "    mean_data = data_y_init\n",
    "    spl = make_interp_spline(ticks_x, mean_data, k=1)  # type: BSpline\n",
    "    power_smooth = spl(xnew)\n",
    "\n",
    "    ax.plot(xnew, power_smooth, ls='--', color=color_line, label=f'{model_name} mean track {subtitle}', lw=3, zorder=15)\n",
    "\n",
    "    pass\n",
    "\n",
    "def to_recall(all_tracks_df):\n",
    "    tracks_real = all_tracks_df[all_tracks_df.pred != -1]\n",
    "    tracks_pred_true = all_tracks_df[all_tracks_df.pred == 1]\n",
    "    return tracks_real, tracks_pred_true, MODES[\"RECALL\"], \"efficiency\"\n",
    "\n",
    "def to_precision(all_tracks_df):\n",
    "    tracks_real = all_tracks_df[all_tracks_df.track != -1]\n",
    "    tracks_pred_true = all_tracks_df[(all_tracks_df.pred == 1) | (all_tracks_df.pred == -1)]\n",
    "    return tracks_real, tracks_pred_true, MODES[\"PRECISION\"], \"purity\"\n",
    "\n",
    "def plot_model_results(model_names, model_results_arr, mode_func, funcs_for_kalman=None):\n",
    "\n",
    "    fig = plt.figure(figsize=(14,16), dpi=80)\n",
    "    ax1, ax2, ax3 = fig.subplots(nrows=3, ncols=1)\n",
    "    #    ax1, ax2 = fig.subplots(nrows=1, ncols=2, sharey='all')\n",
    "\n",
    "    total_models = len(model_names)\n",
    "    if funcs_for_kalman:\n",
    "        total_models+=1\n",
    "\n",
    "    colormap = plt.cm.tab10 #nipy_spectral, Set1,Paired\n",
    "    colors = [colormap(i) for i in np.linspace(0, 1, 8)]\n",
    "\n",
    "    widths_for_ax = []\n",
    "    tit = \"\"\n",
    "    for idx, (model_name, model_results) in enumerate(zip(model_names, model_results_arr)):\n",
    "\n",
    "        all_tracks_df = model_results[0]\n",
    "\n",
    "        all_tracks_df['pt'] = LA.norm(all_tracks_df[['px','py']].values, axis=1)\n",
    "        all_tracks_df['cos_t'] = (all_tracks_df[['pz']].values/ LA.norm(all_tracks_df[['px','py','pz']].values, axis=1, keepdims=True))\n",
    "        all_tracks_df['a_phi'] = np.arctan2(all_tracks_df[['px']].values, all_tracks_df[['py']].values)\n",
    "\n",
    "        #print(len(all_tracks_df.query('cos_t < 0.8')))\n",
    "        #all_tracks_df = all_tracks_df.query('cos_t > 0.8')\n",
    "\n",
    "        tracks_real, tracks_pred_true, mode, subtitle  = mode_func(all_tracks_df)\n",
    "\n",
    "        color_box = colors[idx]\n",
    "        color_line = colors[idx]\n",
    "        n_events = model_results_arr[0][0].event_id.nunique()\n",
    "        tit = f\"Models track {subtitle} on {n_events} events\"\n",
    "        ax1.set_title(tit)\n",
    "        ax1.set_ylabel(f'Track {subtitle}', fontsize=12)\n",
    "        #ax2.set_ylabel(f'Track {subtitle}', fontsize=12)\n",
    "        #ax3.set_ylabel(f'Track {subtitle}', fontsize=12)\n",
    "\n",
    "        widths_ax = draw_for_col(ax1, tracks_real, tracks_pred_true, 'pt', '$pt$', n_events, 350,\n",
    "                                 n_avg_ticks=48, x_ticks=20, ticks_custom=False, with_boxplot=True, model_name=model_name,\n",
    "                                 graph_idx=idx, total_indices=total_models, subtitle=subtitle,\n",
    "                                 color_line=color_line, color_box=color_box, mode=mode)\n",
    "\n",
    "        widths_for_ax.append([widths_ax])\n",
    "\n",
    "\n",
    "        widths_ax = draw_for_col(ax2, tracks_real, tracks_pred_true, 'a_phi', '$a_\\phi$',n_events, 350,\n",
    "                                 n_avg_ticks=48, x_ticks=20, with_boxplot=True, model_name=model_name,\n",
    "                                 graph_idx=idx, total_indices=total_models, subtitle=subtitle,\n",
    "                                 color_line=color_line, color_box=color_box, mode=mode)\n",
    "        widths_for_ax[-1].append(widths_ax)\n",
    "        #\n",
    "        ##enable on big dataset\n",
    "        widths_ax = draw_for_col(ax3, tracks_real, tracks_pred_true,'cos_t', '$cos_t$',n_events, 350,\n",
    "                                 n_avg_ticks=48,x_ticks=20, ticks_custom=False, with_boxplot=True, model_name=model_name,\n",
    "                                 graph_idx=idx, total_indices=total_models, subtitle=subtitle,\n",
    "                                 color_line=color_line, color_box=color_box, mode=mode)\n",
    "        widths_for_ax[-1].append(widths_ax)\n",
    "\n",
    "    if funcs_for_kalman:\n",
    "        for idx, ax in enumerate([ax1,ax2,ax3]):\n",
    "            color_box = colors[-2]\n",
    "            color_line = colors[-2]\n",
    "            funcs_for_kalman[idx](ax, widths_for_ax[-1][idx], color_box, color_line)\n",
    "\n",
    "    for ax in [ax1,ax2,ax3]:\n",
    "        ax.grid()\n",
    "        ax.legend(bbox_to_anchor=(1, -0.05))\n",
    "\n",
    "    fig = plt.gcf()\n",
    "    handles, labels = ax1.get_legend_handles_labels()\n",
    "    #fig.legend(handles, labels, loc='lower right', bbox_to_anchor=(1, -0.05))\n",
    "    #plt.title()\n",
    "    plt.tight_layout()\n",
    "    plt.rcParams['savefig.facecolor']='white'\n",
    "\n",
    "    os.makedirs('../output', exist_ok=True)\n",
    "    plt.savefig('../output/%s.png'%(''.join([i if (ord(i) < 128) and (ord(i)>ord('a')) else '_' for i in tit])), dpi=300)\n",
    "    #return all_tracks_df\n",
    "    plt.show()\n",
    "    pass"
   ]
  },
  {
   "cell_type": "code",
   "execution_count": 55,
   "metadata": {
    "collapsed": false,
    "jupyter": {
     "outputs_hidden": false
    },
    "pycharm": {
     "name": "#%%\n"
    }
   },
   "outputs": [
    {
     "data": {
      "image/png": "[encoded data removed]",
      "text/plain": [
       "<Figure size 1120x1280 with 3 Axes>"
      ]
     },
     "metadata": {
      "needs_background": "light"
     },
     "output_type": "display_data"
    }
   ],
   "source": [
    "plot_model_results([\"TrackNetV3\"],\n",
    "                   [results_tracknet],\n",
    "                   to_precision)"
   ]
  },
  {
   "cell_type": "code",
   "execution_count": 56,
   "metadata": {
    "collapsed": false,
    "jupyter": {
     "outputs_hidden": false
    },
    "pycharm": {
     "name": "#%%\n"
    }
   },
   "outputs": [
    {
     "data": {
      "image/png": "[encoded data removed]",
      "text/plain": [
       "<Figure size 1120x1280 with 3 Axes>"
      ]
     },
     "metadata": {
      "needs_background": "light"
     },
     "output_type": "display_data"
    }
   ],
   "source": [
    "plot_model_results([\"TrackNetV3\"],\n",
    "                   [results_tracknet],\n",
    "                   to_recall)"
   ]
  },
  {
   "cell_type": "code",
   "execution_count": null,
   "metadata": {
    "collapsed": false,
    "jupyter": {
     "outputs_hidden": false
    },
    "pycharm": {
     "name": "#%%\n"
    }
   },
   "outputs": [],
   "source": []
  },
  {
   "cell_type": "code",
   "execution_count": null,
   "metadata": {
    "collapsed": false,
    "jupyter": {
     "outputs_hidden": false
    },
    "pycharm": {
     "name": "#%%\n"
    }
   },
   "outputs": [],
   "source": []
  },
  {
   "cell_type": "code",
   "execution_count": null,
   "metadata": {
    "collapsed": false,
    "jupyter": {
     "outputs_hidden": false
    },
    "pycharm": {
     "name": "#%%\n"
    }
   },
   "outputs": [],
   "source": []
  },
  {
   "cell_type": "code",
   "execution_count": null,
   "metadata": {
    "pycharm": {
     "name": "#%%\n"
    }
   },
   "outputs": [],
   "source": [
    "xs = []\n",
    "for ev in res_1:\n",
    "    if len(ev) > 0:\n",
    "        for cand in ev:\n",
    "            xs.append(cand.detach().numpy())\n",
    "len(xs)"
   ]
  },
  {
   "cell_type": "code",
   "execution_count": null,
   "metadata": {
    "pycharm": {
     "name": "#%%\n"
    }
   },
   "outputs": [],
   "source": [
    "ys = []\n",
    "for event_cands in res_2:\n",
    "    if len(event_cands) > 0:\n",
    "        ys.append(pd.merge(event_cands, results_tracknet[0].query('event_id == @event_cands.event.iloc[0]'), 'left', on=STATION_COLUMNS).fillna(0).pred > 0)\n",
    "ys = [y.values for y in ys]\n",
    "labels = []\n",
    "for ev in ys:\n",
    "    for cand in ev:\n",
    "        labels.append(cand)\n",
    "labels = np.array(labels)\n",
    "len(labels)"
   ]
  },
  {
   "cell_type": "code",
   "execution_count": null,
   "metadata": {
    "collapsed": false,
    "jupyter": {
     "outputs_hidden": false
    },
    "pycharm": {
     "name": "#%%\n"
    }
   },
   "outputs": [],
   "source": [
    "np.unique(labels, return_counts=True)"
   ]
  },
  {
   "cell_type": "code",
   "execution_count": null,
   "metadata": {
    "pycharm": {
     "name": "#%%\n"
    }
   },
   "outputs": [],
   "source": [
    "xs_two = xs\n",
    "labels_two = labels"
   ]
  },
  {
   "cell_type": "code",
   "execution_count": null,
   "metadata": {
    "pycharm": {
     "name": "#%%\n"
    }
   },
   "outputs": [],
   "source": [
    "res_1 = []\n",
    "res_2 = []"
   ]
  },
  {
   "cell_type": "code",
   "execution_count": null,
   "metadata": {
    "pycharm": {
     "name": "#%%\n"
    }
   },
   "outputs": [],
   "source": [
    "parse_cfg = {\n",
    "    'csv_params' : {\n",
    "        \"sep\": '\\s+',\n",
    "        \"encoding\": 'utf-8',\n",
    "        \"names\": ['event',  'x', 'y', 'z', 'det','station', 'track', 'px', 'py', 'pz', 'vx', 'vy', 'vz']\n",
    "    },\n",
    "    'input_file_mask':f'/zfs/store5.hydra.local/user/p/pgonchar/data/bmn/run7/events/simdata_ArPb_3.2AGeV_mb_43.txt',\n",
    "    'events_quantity':':'\n",
    "}"
   ]
  },
  {
   "cell_type": "code",
   "execution_count": null,
   "metadata": {
    "pycharm": {
     "name": "#%%\n"
    }
   },
   "outputs": [],
   "source": [
    "evaluator = EventEvaluator(parse_cfg, global_transformer, N_STATIONS)\n",
    "events = evaluator.prepare(model_loader=TrackNetModelLoader())[0]\n",
    "all_results = evaluator.build_all_tracks()\n",
    "model_results = evaluator.run_model(preprocess_one_event, run_tracknet_eval)\n",
    "start_time = time.time()\n",
    "results_tracknet = evaluator.solve_results(model_results, all_results, match_percentage=0.7)\n",
    "end_time = time.time()\n",
    "print(f'solving took {end_time - start_time} seconds')"
   ]
  },
  {
   "cell_type": "code",
   "execution_count": null,
   "metadata": {
    "pycharm": {
     "name": "#%%\n"
    }
   },
   "outputs": [],
   "source": [
    "xs = []\n",
    "for ev in res_1:\n",
    "    if len(ev) > 0:\n",
    "        for cand in ev:\n",
    "            xs.append(cand.detach().numpy())\n",
    "len(xs)"
   ]
  },
  {
   "cell_type": "code",
   "execution_count": null,
   "metadata": {
    "pycharm": {
     "name": "#%%\n"
    }
   },
   "outputs": [],
   "source": [
    "ys = []\n",
    "for event_cands in res_2:\n",
    "    if len(event_cands) > 0:\n",
    "        ys.append(pd.merge(event_cands, results_tracknet[0].query('event_id == @event_cands.event_id.iloc[0]'), 'left', on=STATION_COLUMNS).fillna(1).pred > 0)\n",
    "ys = [y.values for y in ys]\n",
    "labels = []\n",
    "for ev in ys:\n",
    "    for cand in ev:\n",
    "        labels.append(cand)\n",
    "labels = np.array(labels)\n",
    "len(labels)"
   ]
  },
  {
   "cell_type": "code",
   "execution_count": null,
   "metadata": {
    "pycharm": {
     "name": "#%%\n"
    }
   },
   "outputs": [],
   "source": [
    "xs = xs_two + xs\n",
    "len(xs)"
   ]
  },
  {
   "cell_type": "code",
   "execution_count": null,
   "metadata": {
    "pycharm": {
     "name": "#%%\n"
    }
   },
   "outputs": [],
   "source": [
    "labels = np.append(labels_two, labels)\n",
    "len(labels)"
   ]
  },
  {
   "cell_type": "code",
   "execution_count": null,
   "metadata": {
    "pycharm": {
     "name": "#%%\n"
    }
   },
   "outputs": [],
   "source": [
    "data = [xs, labels]\n",
    "np.save('../output/selector_train/train_2000_42_beforegraph.npy', data)"
   ]
  },
  {
   "cell_type": "code",
   "execution_count": null,
   "metadata": {
    "pycharm": {
     "name": "#%%\n"
    }
   },
   "outputs": [],
   "source": [
    "for x in xs:\n",
    "    x[:, :, 12][x[:, :, 12] == 0] += 1e-9"
   ]
  },
  {
   "cell_type": "code",
   "execution_count": null,
   "metadata": {
    "pycharm": {
     "name": "#%%\n"
    }
   },
   "outputs": [],
   "source": [
    "xs_old = xs"
   ]
  },
  {
   "cell_type": "code",
   "execution_count": null,
   "metadata": {
    "pycharm": {
     "name": "#%%\n"
    }
   },
   "outputs": [],
   "source": []
  },
  {
   "cell_type": "code",
   "execution_count": null,
   "metadata": {
    "collapsed": false,
    "jupyter": {
     "outputs_hidden": false
    },
    "pycharm": {
     "name": "#%%\n"
    }
   },
   "outputs": [],
   "source": []
  },
  {
   "cell_type": "code",
   "execution_count": null,
   "metadata": {
    "collapsed": false,
    "jupyter": {
     "outputs_hidden": false
    },
    "pycharm": {
     "name": "#%%\n"
    }
   },
   "outputs": [],
   "source": []
  },
  {
   "cell_type": "code",
   "execution_count": null,
   "metadata": {
    "pycharm": {
     "name": "#%%\n"
    }
   },
   "outputs": [],
   "source": [
    "for tr_len in np.unique(tracks.len):\n",
    "    cands = tracks.query('len == @tr_len')\n",
    "    print(f'tracklen = {tr_len}, number = {len(cands)}, relative = {round(len(cands) / len(tracks), 3)}, with holes = {round(len(cands[cands.with_holes > 0]) / len(cands), 3)}')\n",
    "print(f'overall with holes = {round(len(tracks[tracks.with_holes > 0]) / len(tracks), 3)}')\n",
    "print(f'tracks with no hit on first station = {round(len(tracks[tracks.hit_id_0 == -1]) / len(tracks), 3)}')\n",
    "for num_holes, count in zip(*np.unique(tracks.with_holes, return_counts=True)):\n",
    "    print(f'tracks with {num_holes} holes = {round(count / len(tracks), 3)}')"
   ]
  },
  {
   "cell_type": "code",
   "execution_count": null,
   "metadata": {
    "pycharm": {
     "name": "#%%\n"
    }
   },
   "outputs": [],
   "source": []
  },
  {
   "cell_type": "code",
   "execution_count": 46,
   "metadata": {
    "pycharm": {
     "name": "#%%\n"
    }
   },
   "outputs": [],
   "source": [
    "def draw_single(X, Ri, Ro, y, c_true = 'green', c_fake = (0,0,0,0.1), xcord1 = (2, 'x'), xcord2 = (1, 'y'), ycord=(0, 'z'), draw_fake=True):\n",
    "    feats_o = X[np.where(Ri.T)[1]]\n",
    "    feats_i = X[np.where(Ro.T)[1]]\n",
    "    # Prepare the figure\n",
    "    fig, (ax0, ax1) = plt.subplots(1, 2, figsize=(12, 5))\n",
    "    #                0    1  2  3  4  5\n",
    "    # Draw the hits (r, phi, z, x, y, z)\n",
    "    # colMap = np.zeros_like(X)\n",
    "    # colMap[:, 0] = X[:, 0]*1.7 + 100\n",
    "    # colMap *= 1.0 / colMap.max()\n",
    "    ax0.scatter(X[:, xcord1[0]],\n",
    "                X[:, ycord[0]], c='black')\n",
    "    ax1.scatter(X[:, xcord2[0]],\n",
    "                X[:, ycord[0]], c='black')\n",
    "\n",
    "    # Draw the segments\n",
    "    for j in range(y.shape[0]):\n",
    "        ax0.plot([feats_o[j, xcord1[0]], feats_i[j, xcord1[0]]],\n",
    "                 [feats_o[j, ycord[0]], feats_i[j, ycord[0]]], '-', c=c_true if y[j] > 0.5 else c_fake, zorder=10 if y[j] > 0.5 else 1)\n",
    "        ax1.plot([feats_o[j, xcord2[0]], feats_i[j, xcord2[0]]],\n",
    "                 [feats_o[j, ycord[0]], feats_i[j, ycord[0]]], '-', c=c_true if y[j] > 0.5 else c_fake, zorder=10 if y[j] > 0.5 else 1)\n",
    "    # Adjust axes\n",
    "    ax0.set_xlabel('$%s$' % xcord1[1])\n",
    "    ax0.set_ylabel('$%s$' % ycord[1])\n",
    "\n",
    "    ax1.set_xlabel('$%s$' % xcord2[1])\n",
    "    ax1.set_ylabel('$%s$' % ycord[1])\n",
    "    plt.tight_layout()\n",
    "    plt.show()"
   ]
  },
  {
   "cell_type": "code",
   "execution_count": null,
   "metadata": {
    "collapsed": false,
    "jupyter": {
     "outputs_hidden": false
    },
    "pycharm": {
     "name": "#%%\n"
    }
   },
   "outputs": [],
   "source": [
    "for event_id in range(0, 50):\n",
    "    print(f'event {event_id}:', len(result.query('event_id == @event_id and pred == -1')))"
   ]
  },
  {
   "cell_type": "code",
   "execution_count": 175,
   "metadata": {
    "pycharm": {
     "name": "#%%\n"
    }
   },
   "outputs": [
    {
     "name": "stdout",
     "output_type": "stream",
     "text": [
      "0\n"
     ]
    },
    {
     "ename": "IndexError",
     "evalue": "index 0 is out of bounds for axis 0 with size 0",
     "output_type": "error",
     "traceback": [
      "\u001b[0;31m---------------------------------------------------------------------------\u001b[0m",
      "\u001b[0;31mIndexError\u001b[0m                                Traceback (most recent call last)",
      "Input \u001b[0;32mIn [175]\u001b[0m, in \u001b[0;36m<module>\u001b[0;34m\u001b[0m\n\u001b[1;32m      1\u001b[0m \u001b[38;5;28;01mfor\u001b[39;00m event_id \u001b[38;5;129;01min\u001b[39;00m [\u001b[38;5;241m0\u001b[39m]:\u001b[38;5;66;03m# range(1100, 1200):\u001b[39;00m\n\u001b[1;32m      2\u001b[0m     \u001b[38;5;28mprint\u001b[39m(event_id)\n\u001b[0;32m----> 3\u001b[0m     X, Ri, Ro, y \u001b[38;5;241m=\u001b[39m \u001b[43mtracknet_event_to_graph\u001b[49m\u001b[43m(\u001b[49m\u001b[43mevents\u001b[49m\u001b[38;5;241;43m.\u001b[39;49m\u001b[43mquery\u001b[49m\u001b[43m(\u001b[49m\u001b[38;5;124;43m'\u001b[39;49m\u001b[38;5;124;43mevent == @event_id\u001b[39;49m\u001b[38;5;124;43m'\u001b[39;49m\u001b[43m)\u001b[49m\u001b[43m,\u001b[49m\u001b[43m \u001b[49m\u001b[43mresult\u001b[49m\u001b[38;5;241;43m.\u001b[39;49m\u001b[43mquery\u001b[49m\u001b[43m(\u001b[49m\u001b[38;5;124;43m'\u001b[39;49m\u001b[38;5;124;43mevent_id == @event_id\u001b[39;49m\u001b[38;5;124;43m'\u001b[39;49m\u001b[43m)\u001b[49m\u001b[43m)\u001b[49m[\u001b[38;5;241m0\u001b[39m]\n\u001b[1;32m      4\u001b[0m     draw_single(X, Ri, Ro, y,c_true\u001b[38;5;241m=\u001b[39m(\u001b[38;5;241m0\u001b[39m, \u001b[38;5;241m1\u001b[39m, \u001b[38;5;241m0\u001b[39m, \u001b[38;5;241m1\u001b[39m), c_fake\u001b[38;5;241m=\u001b[39m(\u001b[38;5;241m1\u001b[39m,\u001b[38;5;241m0\u001b[39m,\u001b[38;5;241m0\u001b[39m,\u001b[38;5;241m0.5\u001b[39m), xcord1\u001b[38;5;241m=\u001b[39m(\u001b[38;5;241m0\u001b[39m, \u001b[38;5;124m'\u001b[39m\u001b[38;5;124mx\u001b[39m\u001b[38;5;124m'\u001b[39m), xcord2\u001b[38;5;241m=\u001b[39m(\u001b[38;5;241m1\u001b[39m, \u001b[38;5;124m'\u001b[39m\u001b[38;5;124my\u001b[39m\u001b[38;5;124m'\u001b[39m), ycord\u001b[38;5;241m=\u001b[39m(\u001b[38;5;241m2\u001b[39m, \u001b[38;5;124m'\u001b[39m\u001b[38;5;124mz\u001b[39m\u001b[38;5;124m'\u001b[39m))\n\u001b[1;32m      5\u001b[0m     plt\u001b[38;5;241m.\u001b[39msavefig(\u001b[38;5;124mf\u001b[39m\u001b[38;5;124m'\u001b[39m\u001b[38;5;124moutput_\u001b[39m\u001b[38;5;132;01m{\u001b[39;00mevent_id\u001b[38;5;132;01m}\u001b[39;00m\u001b[38;5;124m.jpg\u001b[39m\u001b[38;5;124m'\u001b[39m, dpi\u001b[38;5;241m=\u001b[39m\u001b[38;5;241m300\u001b[39m)\n",
      "Input \u001b[0;32mIn [18]\u001b[0m, in \u001b[0;36mtracknet_event_to_graph\u001b[0;34m(event_df, tracknet_result)\u001b[0m\n\u001b[1;32m     26\u001b[0m     \u001b[38;5;28;01mfor\u001b[39;00m i \u001b[38;5;129;01min\u001b[39;00m \u001b[38;5;28mrange\u001b[39m(\u001b[38;5;28mlen\u001b[39m(track) \u001b[38;5;241m-\u001b[39m \u001b[38;5;241m1\u001b[39m):\n\u001b[1;32m     27\u001b[0m         edge \u001b[38;5;241m=\u001b[39m track[[i, i\u001b[38;5;241m+\u001b[39m\u001b[38;5;241m1\u001b[39m]]\n\u001b[0;32m---> 28\u001b[0m         edge_ind \u001b[38;5;241m=\u001b[39m \u001b[43mnp\u001b[49m\u001b[38;5;241;43m.\u001b[39;49m\u001b[43mwhere\u001b[49m\u001b[43m(\u001b[49m\u001b[43m(\u001b[49m\u001b[43medges\u001b[49m\u001b[43m \u001b[49m\u001b[38;5;241;43m==\u001b[39;49m\u001b[43m \u001b[49m\u001b[43medge\u001b[49m\u001b[43m)\u001b[49m\u001b[38;5;241;43m.\u001b[39;49m\u001b[43mall\u001b[49m\u001b[43m(\u001b[49m\u001b[43maxis\u001b[49m\u001b[38;5;241;43m=\u001b[39;49m\u001b[38;5;241;43m1\u001b[39;49m\u001b[43m)\u001b[49m\u001b[43m)\u001b[49m\u001b[43m[\u001b[49m\u001b[38;5;241;43m0\u001b[39;49m\u001b[43m]\u001b[49m\u001b[43m[\u001b[49m\u001b[38;5;241;43m0\u001b[39;49m\u001b[43m]\u001b[49m\n\u001b[1;32m     29\u001b[0m         tracks[\u001b[38;5;241m-\u001b[39m\u001b[38;5;241m1\u001b[39m]\u001b[38;5;241m.\u001b[39mappend(edge_ind)\n\u001b[1;32m     31\u001b[0m n_edges \u001b[38;5;241m=\u001b[39m \u001b[38;5;28mlen\u001b[39m(edges)\n",
      "\u001b[0;31mIndexError\u001b[0m: index 0 is out of bounds for axis 0 with size 0"
     ]
    }
   ],
   "source": [
    "for event_id in [0]:# range(1100, 1200):\n",
    "    print(event_id)\n",
    "    X, Ri, Ro, y = tracknet_event_to_graph(events.query('event == @event_id'), result.query('event_id == @event_id'))[0]\n",
    "    draw_single(X, Ri, Ro, y,c_true=(0, 1, 0, 1), c_fake=(1,0,0,0.5), xcord1=(0, 'x'), xcord2=(1, 'y'), ycord=(2, 'z'))\n",
    "    #plt.savefig(f'output_{event_id}.jpg', dpi=300)"
   ]
  },
  {
   "cell_type": "code",
   "execution_count": null,
   "metadata": {},
   "outputs": [],
   "source": []
  },
  {
   "cell_type": "code",
   "execution_count": null,
   "metadata": {
    "pycharm": {
     "name": "#%%\n"
    }
   },
   "outputs": [],
   "source": [
    "one_event_result = results_tracknet[0].query('event_id == @event_id')\n",
    "one_event_result"
   ]
  },
  {
   "cell_type": "code",
   "execution_count": null,
   "metadata": {
    "pycharm": {
     "name": "#%%\n"
    }
   },
   "outputs": [],
   "source": [
    "events_xyz = events[['x', 'y', 'z']].copy()\n",
    "events_values = events_xyz.set_index(events.index_old).sort_index().values\n",
    "\n",
    "x_data = []\n",
    "y_data = []\n",
    "z_data = []\n",
    "results_candidates = results_tracknet[0][STATION_COLUMNS]\n",
    "for track_candidate in tqdm(results_candidates.itertuples(index=False, name=None), total=len(results_candidates)):\n",
    "    track_candidate = np.array(track_candidate, dtype=int)\n",
    "    track_candidate = track_candidate[track_candidate >= 0]\n",
    "    #coords = events_xyz.loc[track_candidate].values\n",
    "    coords = events_values[track_candidate]\n",
    "\n",
    "    x_data.append(coords[:, 0])\n",
    "    y_data.append(coords[:, 1])\n",
    "    z_data.append(coords[:, 2])"
   ]
  },
  {
   "cell_type": "code",
   "execution_count": null,
   "metadata": {
    "collapsed": false,
    "jupyter": {
     "outputs_hidden": false
    },
    "pycharm": {
     "name": "#%%\n"
    }
   },
   "outputs": [],
   "source": [
    "len(x_data)"
   ]
  },
  {
   "cell_type": "code",
   "execution_count": null,
   "metadata": {
    "pycharm": {
     "name": "#%%\n"
    }
   },
   "outputs": [],
   "source": [
    "labels = results_tracknet[0].pred\n",
    "event_ids = results_tracknet[0].event_id"
   ]
  },
  {
   "cell_type": "code",
   "execution_count": null,
   "metadata": {
    "pycharm": {
     "name": "#%%\n"
    }
   },
   "outputs": [],
   "source": [
    "len(x_data), len(y_data), len(z_data), len(labels), len(event_ids)"
   ]
  },
  {
   "cell_type": "code",
   "execution_count": null,
   "metadata": {
    "pycharm": {
     "name": "#%%\n"
    }
   },
   "outputs": [],
   "source": [
    "labels.value_counts()"
   ]
  },
  {
   "cell_type": "code",
   "execution_count": null,
   "metadata": {
    "pycharm": {
     "name": "#%%\n"
    }
   },
   "outputs": [],
   "source": [
    "def draw_track(ax, x, y, z, label, track_num):\n",
    "    if label == 1:\n",
    "        col = (0., 1.0, 0.000, 0.9)\n",
    "    elif label == 0:\n",
    "        col = (0, 0.0, 1, 0.9)\n",
    "    elif label == -1:\n",
    "        pass\n",
    "        col = (1, 0.0, 0.000, 0.9)\n",
    "    else:\n",
    "        col = (0, 1, 0, 0.3)\n",
    "    val_x = x#track[:,0]\n",
    "    val_y = y#track[:,2]\n",
    "    val_z = z#track[:,1# ]\n",
    "    #if track_num != 22 and track_num != 1285:\n",
    "    #    col = list(col)[:3] + [0]\n",
    "    line, = ax.plot(val_x, val_y, zs=val_z, color=col, label=f'track_num={track_num}', picker=10)\n",
    "    #ax.scatter(val_x, val_y, zs=val_z, color=col)\n",
    "    return line"
   ]
  },
  {
   "cell_type": "code",
   "execution_count": null,
   "metadata": {
    "pycharm": {
     "name": "#%%\n"
    }
   },
   "outputs": [],
   "source": [
    "%matplotlib notebook"
   ]
  },
  {
   "cell_type": "code",
   "execution_count": null,
   "metadata": {
    "pycharm": {
     "name": "#%%\n"
    }
   },
   "outputs": [],
   "source": [
    "from mpl_toolkits.mplot3d import Axes3D"
   ]
  },
  {
   "cell_type": "code",
   "execution_count": null,
   "metadata": {
    "pycharm": {
     "name": "#%%\n"
    }
   },
   "outputs": [],
   "source": [
    "def draw_event(ev_id, events_df, projection, draw_unproc=False):\n",
    "    fig = plt.figure(figsize=(12,12))\n",
    "    ax = Axes3D(fig) # Method 1\n",
    "    ax.set_zlabel('Z')\n",
    "    if projection == 'xz':\n",
    "        ax.view_init(azim=270, elev=0)\n",
    "        ax.set_xlabel('X')\n",
    "    else:\n",
    "        ax.view_init(azim=360, elev=0)\n",
    "        ax.set_ylabel('Y')\n",
    "    i = 0\n",
    "    lines = []\n",
    "\n",
    "    #hits_real = events_df[~events_df.px.isna()].query('event == @ev_id')\n",
    "    #ax.scatter(hits_real['x'], hits_real['y'], zs=hits_real['z'], c='green')\n",
    "\n",
    "    hits_virtual = events_df[events_df.px.isna()].query('event == @ev_id')\n",
    "    ax.scatter(hits_virtual['x'], hits_virtual['y'], zs=hits_virtual['z'], c='red')\n",
    "\n",
    "    if draw_unproc:\n",
    "        for tr_id, df in events_df.query('event == @ev_id').groupby('track'):\n",
    "            if tr_id != -1:\n",
    "                lines.append(draw_track(ax, df.x, df.y, df.z, 2, tr_id))\n",
    "\n",
    "\n",
    "    for x, y, z, label, event in zip(x_data, y_data, z_data, labels, event_ids):\n",
    "        if event == ev_id:# and len(x) < 7:\n",
    "            lines.append(draw_track(ax, x, y, z, label, i))\n",
    "        i+=1\n",
    "    leg = ax.legend(fancybox=True, shadow=True)\n",
    "    lined = {}  # Will map legend lines to original lines.\n",
    "    for legline, origline in zip(leg.get_lines(), lines):\n",
    "        legline.set_picker(True)  # Enable picking on the legend line.\n",
    "        lined[legline] = origline\n",
    "\n",
    "    def on_pick(event):\n",
    "        # On the pick event, find the original line corresponding to the legend\n",
    "        # proxy line, and toggle its visibility.\n",
    "        legline = event.artist\n",
    "        origline = lined[legline]\n",
    "        visible = not origline.get_visible()\n",
    "        origline.set_visible(visible)\n",
    "        # Change the alpha on the line in the legend so we can see what lines\n",
    "        # have been toggled.\n",
    "        legline.set_alpha(1.0 if visible else 0.2)\n",
    "        fig.canvas.draw()\n",
    "\n",
    "    fig.canvas.mpl_connect('pick_event', on_pick)\n",
    "    plt.show()"
   ]
  },
  {
   "cell_type": "code",
   "execution_count": null,
   "metadata": {
    "pycharm": {
     "name": "#%%\n"
    }
   },
   "outputs": [],
   "source": [
    "%matplotlib inline"
   ]
  },
  {
   "cell_type": "code",
   "execution_count": null,
   "metadata": {
    "pycharm": {
     "name": "#%%\n"
    }
   },
   "outputs": [],
   "source": [
    "n_event = 2\n",
    "for n_event in range(10):\n",
    "    if len(results_tracknet[0].query('event_id == @n_event and pred == 0')) != 0:\n",
    "        print(n_event)\n",
    "        draw_event(n_event, events, 'xz')"
   ]
  },
  {
   "cell_type": "code",
   "execution_count": null,
   "metadata": {
    "pycharm": {
     "name": "#%%\n"
    }
   },
   "outputs": [],
   "source": [
    "n_event = 2\n",
    "draw_event(n_event, events1, 'xz', draw_unproc=True)"
   ]
  },
  {
   "cell_type": "code",
   "execution_count": null,
   "metadata": {
    "pycharm": {
     "name": "#%%\n"
    }
   },
   "outputs": [],
   "source": [
    "x_data[1285]"
   ]
  },
  {
   "cell_type": "code",
   "execution_count": null,
   "metadata": {
    "pycharm": {
     "name": "#%%\n"
    }
   },
   "outputs": [],
   "source": [
    "tr = events1.query('event == 2 and track == 22')\n",
    "tr"
   ]
  },
  {
   "cell_type": "code",
   "execution_count": null,
   "metadata": {
    "pycharm": {
     "name": "#%%\n"
    }
   },
   "outputs": [],
   "source": [
    "fig = plt.figure(figsize=(12,12))\n",
    "ax = Axes3D(fig)\n",
    "for i in range(9):\n",
    "    ax.plot(tr.x[, val_y, zs=val_z, color=col, label=f'track_num={track_num}', picker=10)\n"
   ]
  },
  {
   "cell_type": "code",
   "execution_count": null,
   "metadata": {
    "pycharm": {
     "name": "#%%\n"
    }
   },
   "outputs": [],
   "source": []
  },
  {
   "cell_type": "code",
   "execution_count": null,
   "metadata": {
    "pycharm": {
     "name": "#%%\n"
    }
   },
   "outputs": [],
   "source": [
    "global_transformer1 = Compose([\n",
    "    FixStationsBMN(),\n",
    "    DropShort(num_stations=4),\n",
    "    DropSpinningTracks(),\n",
    "    BakeStationValues(values=z_values),\n",
    "    ConstraintsNormalize(constraints=constraints),])"
   ]
  },
  {
   "cell_type": "code",
   "execution_count": null,
   "metadata": {
    "pycharm": {
     "name": "#%%\n"
    }
   },
   "outputs": [],
   "source": [
    "N_STATIONS = 9"
   ]
  },
  {
   "cell_type": "code",
   "execution_count": null,
   "metadata": {
    "pycharm": {
     "name": "#%%\n"
    }
   },
   "outputs": [],
   "source": [
    "evaluator1 = EventEvaluator(parse_cfg, global_transformer1, N_STATIONS)\n",
    "events1 = evaluator1.prepare(model_loader=TrackNetModelLoader())[0]"
   ]
  },
  {
   "cell_type": "code",
   "execution_count": null,
   "metadata": {
    "pycharm": {
     "name": "#%%\n"
    }
   },
   "outputs": [],
   "source": [
    "len(list(events1.groupby(['track', 'event'])))"
   ]
  },
  {
   "cell_type": "code",
   "execution_count": null,
   "metadata": {
    "pycharm": {
     "name": "#%%\n"
    }
   },
   "outputs": [],
   "source": [
    "(len(list(events1.groupby(['track', 'event']))) - len(list(events.groupby(['track', 'event'])))) / len(list(events1.groupby(['track', 'event'])))"
   ]
  },
  {
   "cell_type": "code",
   "execution_count": null,
   "metadata": {
    "pycharm": {
     "name": "#%%\n"
    }
   },
   "outputs": [],
   "source": []
  },
  {
   "cell_type": "markdown",
   "metadata": {
    "pycharm": {
     "name": "#%% md\n"
    }
   },
   "source": []
  }
 ],
 "metadata": {
  "kernelspec": {
   "display_name": "ariadne_gpu_1_kernel",
   "language": "python",
   "name": "ariadne_gpu_1_kernel"
  },
  "language_info": {
   "codemirror_mode": {
    "name": "ipython",
    "version": 3
   },
   "file_extension": ".py",
   "mimetype": "text/x-python",
   "name": "python",
   "nbconvert_exporter": "python",
   "pygments_lexer": "ipython3",
   "version": "3.8.12"
  },
  "toc": {
   "base_numbering": 1,
   "nav_menu": {},
   "number_sections": false,
   "sideBar": false,
   "skip_h1_title": false,
   "title_cell": "Table of Contents",
   "title_sidebar": "Contents",
   "toc_cell": false,
   "toc_position": {},
   "toc_section_display": false,
   "toc_window_display": false
  }
 },
 "nbformat": 4,
 "nbformat_minor": 4
}
